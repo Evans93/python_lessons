{
 "cells": [
  {
   "cell_type": "code",
   "execution_count": 33,
   "id": "56651c21",
   "metadata": {},
   "outputs": [
    {
     "name": "stdout",
     "output_type": "stream",
     "text": [
      "banana\n",
      "cherry\n",
      "apple\n"
     ]
    }
   ],
   "source": [
    "##  SETS\n",
    "\n",
    "\n",
    "thisset = {\"apple\", \"banana\", \"cherry\"}\n",
    "\n",
    "for y in thisset:\n",
    "  print(y)"
   ]
  },
  {
   "cell_type": "code",
   "execution_count": null,
   "id": "2ffc9567",
   "metadata": {},
   "outputs": [],
   "source": []
  },
  {
   "cell_type": "code",
   "execution_count": 36,
   "id": "a3893a8d",
   "metadata": {},
   "outputs": [
    {
     "name": "stdout",
     "output_type": "stream",
     "text": [
      "True\n"
     ]
    }
   ],
   "source": [
    "## Check if \"apple\" is present in the set:\n",
    "\n",
    "\n",
    "thisset = {\"apple\", \"banana\", \"cherry\"}\n",
    "\n",
    "print(\"cherry\" in thisset)"
   ]
  },
  {
   "cell_type": "code",
   "execution_count": null,
   "id": "813d2f83",
   "metadata": {},
   "outputs": [],
   "source": []
  },
  {
   "cell_type": "code",
   "execution_count": null,
   "id": "8cbc9741",
   "metadata": {},
   "outputs": [],
   "source": []
  },
  {
   "cell_type": "code",
   "execution_count": 37,
   "id": "5d57f28e",
   "metadata": {},
   "outputs": [],
   "source": [
    "##  Check if \"mike\" is NOT present in the LIST:\n",
    "\n",
    "\n",
    "names_of_student_present = [\"abbey\", \"ola\", \"johnson\", \"mike\"]"
   ]
  },
  {
   "cell_type": "code",
   "execution_count": 38,
   "id": "0bf68701",
   "metadata": {},
   "outputs": [
    {
     "name": "stdout",
     "output_type": "stream",
     "text": [
      "['abbey', 'ola', 'johnson', 'mike']\n"
     ]
    }
   ],
   "source": [
    "print(names_of_student_present)"
   ]
  },
  {
   "cell_type": "code",
   "execution_count": 39,
   "id": "49b685ec",
   "metadata": {},
   "outputs": [
    {
     "name": "stdout",
     "output_type": "stream",
     "text": [
      "True\n"
     ]
    }
   ],
   "source": [
    "print(\"mike\" in names_of_student_present)"
   ]
  },
  {
   "cell_type": "code",
   "execution_count": 40,
   "id": "3d6e4a54",
   "metadata": {},
   "outputs": [
    {
     "name": "stdout",
     "output_type": "stream",
     "text": [
      "False\n"
     ]
    }
   ],
   "source": [
    "print(\"lekan\" in names_of_student_present)"
   ]
  },
  {
   "cell_type": "code",
   "execution_count": 41,
   "id": "ae3c544a",
   "metadata": {},
   "outputs": [],
   "source": [
    "names_of_student_present.append(\"lekan\")"
   ]
  },
  {
   "cell_type": "code",
   "execution_count": 42,
   "id": "5f5ca455",
   "metadata": {},
   "outputs": [
    {
     "name": "stdout",
     "output_type": "stream",
     "text": [
      "True\n"
     ]
    }
   ],
   "source": [
    "print(\"lekan\" in names_of_student_present)"
   ]
  },
  {
   "cell_type": "code",
   "execution_count": 43,
   "id": "48d93e3a",
   "metadata": {},
   "outputs": [
    {
     "name": "stdout",
     "output_type": "stream",
     "text": [
      "False\n"
     ]
    }
   ],
   "source": [
    "print(\"lekan\" not in names_of_student_present)"
   ]
  },
  {
   "cell_type": "code",
   "execution_count": 44,
   "id": "fedcd5a0",
   "metadata": {},
   "outputs": [
    {
     "name": "stdout",
     "output_type": "stream",
     "text": [
      "True\n"
     ]
    }
   ],
   "source": [
    "print(\"ojo\" not in  names_of_student_present)"
   ]
  },
  {
   "cell_type": "code",
   "execution_count": null,
   "id": "b41a6729",
   "metadata": {},
   "outputs": [],
   "source": []
  },
  {
   "cell_type": "code",
   "execution_count": 9,
   "id": "7e4b743b",
   "metadata": {},
   "outputs": [],
   "source": [
    "## Joining both SETS Variable using UNION  \n",
    "\n",
    "payment_1 = {900, 354, 289, 764.89}\n",
    "payment_2 = {467, 90, 123.45, 890.67}"
   ]
  },
  {
   "cell_type": "code",
   "execution_count": 10,
   "id": "8cee95df",
   "metadata": {},
   "outputs": [],
   "source": [
    "payment_3 = payment_1.union(payment_2)"
   ]
  },
  {
   "cell_type": "code",
   "execution_count": 11,
   "id": "2ad86b77",
   "metadata": {},
   "outputs": [
    {
     "name": "stdout",
     "output_type": "stream",
     "text": [
      "{289, 354, 900, 467, 90, 123.45, 764.89, 890.67}\n"
     ]
    }
   ],
   "source": [
    "print(payment_3)"
   ]
  },
  {
   "cell_type": "code",
   "execution_count": 15,
   "id": "77e892fc",
   "metadata": {},
   "outputs": [],
   "source": [
    "payment_3.add(6000)"
   ]
  },
  {
   "cell_type": "code",
   "execution_count": 16,
   "id": "3be56006",
   "metadata": {},
   "outputs": [],
   "source": [
    "payment_3.add(2000)"
   ]
  },
  {
   "cell_type": "code",
   "execution_count": 17,
   "id": "390efc2c",
   "metadata": {},
   "outputs": [
    {
     "name": "stdout",
     "output_type": "stream",
     "text": [
      "{289, 354, 900, 1000, 2000, 6000, 467, 90, 123.45, 764.89, 890.67}\n"
     ]
    }
   ],
   "source": [
    "print(payment_3)"
   ]
  },
  {
   "cell_type": "code",
   "execution_count": null,
   "id": "adecfd88",
   "metadata": {},
   "outputs": [],
   "source": []
  },
  {
   "cell_type": "code",
   "execution_count": null,
   "id": "2fc4dd65",
   "metadata": {},
   "outputs": [],
   "source": []
  },
  {
   "cell_type": "code",
   "execution_count": null,
   "id": "48d09e19",
   "metadata": {},
   "outputs": [],
   "source": []
  },
  {
   "cell_type": "code",
   "execution_count": 1,
   "id": "6a7d19ba",
   "metadata": {},
   "outputs": [],
   "source": [
    "name = \"ola\""
   ]
  },
  {
   "cell_type": "code",
   "execution_count": 2,
   "id": "a08ce036",
   "metadata": {},
   "outputs": [
    {
     "name": "stdout",
     "output_type": "stream",
     "text": [
      "ola\n"
     ]
    }
   ],
   "source": [
    "print(name)"
   ]
  },
  {
   "cell_type": "code",
   "execution_count": 3,
   "id": "9863def9",
   "metadata": {},
   "outputs": [
    {
     "name": "stdout",
     "output_type": "stream",
     "text": [
      "<class 'str'>\n"
     ]
    }
   ],
   "source": [
    "print(type(name))"
   ]
  },
  {
   "cell_type": "code",
   "execution_count": null,
   "id": "5a4a08b0",
   "metadata": {},
   "outputs": [],
   "source": []
  },
  {
   "cell_type": "code",
   "execution_count": 1,
   "id": "42f3114a",
   "metadata": {},
   "outputs": [],
   "source": [
    "number = []"
   ]
  },
  {
   "cell_type": "code",
   "execution_count": 2,
   "id": "3f85c999",
   "metadata": {},
   "outputs": [],
   "source": [
    "number.append(2000)"
   ]
  },
  {
   "cell_type": "code",
   "execution_count": 3,
   "id": "2e2c81d4",
   "metadata": {},
   "outputs": [],
   "source": [
    "number.append(150)"
   ]
  },
  {
   "cell_type": "code",
   "execution_count": 4,
   "id": "d633f04b",
   "metadata": {},
   "outputs": [
    {
     "name": "stdout",
     "output_type": "stream",
     "text": [
      "[2000, 150]\n"
     ]
    }
   ],
   "source": [
    "print(number)"
   ]
  },
  {
   "cell_type": "code",
   "execution_count": null,
   "id": "7810842a",
   "metadata": {},
   "outputs": [],
   "source": []
  },
  {
   "cell_type": "code",
   "execution_count": null,
   "id": "e1408b90",
   "metadata": {},
   "outputs": [],
   "source": []
  },
  {
   "cell_type": "code",
   "execution_count": 1,
   "id": "be1530bb",
   "metadata": {},
   "outputs": [],
   "source": [
    "names = {\"ola\", \"ope\"}"
   ]
  },
  {
   "cell_type": "code",
   "execution_count": 2,
   "id": "27a408e5",
   "metadata": {},
   "outputs": [
    {
     "name": "stdout",
     "output_type": "stream",
     "text": [
      "{'ope', 'ola'}\n"
     ]
    }
   ],
   "source": [
    "print(names)"
   ]
  },
  {
   "cell_type": "code",
   "execution_count": 3,
   "id": "f26fff67",
   "metadata": {},
   "outputs": [],
   "source": [
    "names.add(\"evans\")"
   ]
  },
  {
   "cell_type": "code",
   "execution_count": 4,
   "id": "0145b7bb",
   "metadata": {},
   "outputs": [
    {
     "name": "stdout",
     "output_type": "stream",
     "text": [
      "{'ope', 'ola', 'evans'}\n"
     ]
    }
   ],
   "source": [
    "print(names)"
   ]
  },
  {
   "cell_type": "code",
   "execution_count": 9,
   "id": "8b1c98da",
   "metadata": {},
   "outputs": [],
   "source": [
    "names.add(\"olayemisi\")"
   ]
  },
  {
   "cell_type": "code",
   "execution_count": 10,
   "id": "82264df0",
   "metadata": {},
   "outputs": [
    {
     "name": "stdout",
     "output_type": "stream",
     "text": [
      "{'ola', 'olayemisi,ojo', 'evans', 'ope', 'olayemisi'}\n"
     ]
    }
   ],
   "source": [
    "print(names)"
   ]
  },
  {
   "cell_type": "code",
   "execution_count": null,
   "id": "b7df6d64",
   "metadata": {},
   "outputs": [],
   "source": []
  }
 ],
 "metadata": {
  "kernelspec": {
   "display_name": "Python 3 (ipykernel)",
   "language": "python",
   "name": "python3"
  },
  "language_info": {
   "codemirror_mode": {
    "name": "ipython",
    "version": 3
   },
   "file_extension": ".py",
   "mimetype": "text/x-python",
   "name": "python",
   "nbconvert_exporter": "python",
   "pygments_lexer": "ipython3",
   "version": "3.10.4"
  }
 },
 "nbformat": 4,
 "nbformat_minor": 5
}
