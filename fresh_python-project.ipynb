{
 "cells": [
  {
   "cell_type": "code",
   "execution_count": 33,
   "id": "56651c21",
   "metadata": {},
   "outputs": [
    {
     "name": "stdout",
     "output_type": "stream",
     "text": [
      "banana\n",
      "cherry\n",
      "apple\n"
     ]
    }
   ],
   "source": [
    "##  SETS\n",
    "\n",
    "\n",
    "thisset = {\"apple\", \"banana\", \"cherry\"}\n",
    "\n",
    "for y in thisset:\n",
    "  print(y)"
   ]
  },
  {
   "cell_type": "code",
   "execution_count": null,
   "id": "2ffc9567",
   "metadata": {},
   "outputs": [],
   "source": []
  },
  {
   "cell_type": "code",
   "execution_count": 36,
   "id": "a3893a8d",
   "metadata": {},
   "outputs": [
    {
     "name": "stdout",
     "output_type": "stream",
     "text": [
      "True\n"
     ]
    }
   ],
   "source": [
    "## Check if \"apple\" is present in the set:\n",
    "\n",
    "\n",
    "thisset = {\"apple\", \"banana\", \"cherry\"}\n",
    "\n",
    "print(\"cherry\" in thisset)"
   ]
  },
  {
   "cell_type": "code",
   "execution_count": null,
   "id": "813d2f83",
   "metadata": {},
   "outputs": [],
   "source": []
  },
  {
   "cell_type": "code",
   "execution_count": null,
   "id": "8cbc9741",
   "metadata": {},
   "outputs": [],
   "source": []
  },
  {
   "cell_type": "code",
   "execution_count": 37,
   "id": "5d57f28e",
   "metadata": {},
   "outputs": [],
   "source": [
    "##  Check if \"mike\" is NOT present in the LIST:\n",
    "\n",
    "\n",
    "names_of_student_present = [\"abbey\", \"ola\", \"johnson\", \"mike\"]"
   ]
  },
  {
   "cell_type": "code",
   "execution_count": 38,
   "id": "0bf68701",
   "metadata": {},
   "outputs": [
    {
     "name": "stdout",
     "output_type": "stream",
     "text": [
      "['abbey', 'ola', 'johnson', 'mike']\n"
     ]
    }
   ],
   "source": [
    "print(names_of_student_present)"
   ]
  },
  {
   "cell_type": "code",
   "execution_count": 39,
   "id": "49b685ec",
   "metadata": {},
   "outputs": [
    {
     "name": "stdout",
     "output_type": "stream",
     "text": [
      "True\n"
     ]
    }
   ],
   "source": [
    "print(\"mike\" in names_of_student_present)"
   ]
  },
  {
   "cell_type": "code",
   "execution_count": 40,
   "id": "3d6e4a54",
   "metadata": {},
   "outputs": [
    {
     "name": "stdout",
     "output_type": "stream",
     "text": [
      "False\n"
     ]
    }
   ],
   "source": [
    "print(\"lekan\" in names_of_student_present)"
   ]
  },
  {
   "cell_type": "code",
   "execution_count": 41,
   "id": "ae3c544a",
   "metadata": {},
   "outputs": [],
   "source": [
    "names_of_student_present.append(\"lekan\")"
   ]
  },
  {
   "cell_type": "code",
   "execution_count": 42,
   "id": "5f5ca455",
   "metadata": {},
   "outputs": [
    {
     "name": "stdout",
     "output_type": "stream",
     "text": [
      "True\n"
     ]
    }
   ],
   "source": [
    "print(\"lekan\" in names_of_student_present)"
   ]
  },
  {
   "cell_type": "code",
   "execution_count": 43,
   "id": "48d93e3a",
   "metadata": {},
   "outputs": [
    {
     "name": "stdout",
     "output_type": "stream",
     "text": [
      "False\n"
     ]
    }
   ],
   "source": [
    "print(\"lekan\" not in names_of_student_present)"
   ]
  },
  {
   "cell_type": "code",
   "execution_count": 44,
   "id": "fedcd5a0",
   "metadata": {},
   "outputs": [
    {
     "name": "stdout",
     "output_type": "stream",
     "text": [
      "True\n"
     ]
    }
   ],
   "source": [
    "print(\"ojo\" not in  names_of_student_present)"
   ]
  },
  {
   "cell_type": "code",
   "execution_count": null,
   "id": "b41a6729",
   "metadata": {},
   "outputs": [],
   "source": []
  },
  {
   "cell_type": "code",
   "execution_count": 9,
   "id": "7e4b743b",
   "metadata": {},
   "outputs": [],
   "source": [
    "## Joining both SETS Variable using UNION  \n",
    "\n",
    "payment_1 = {900, 354, 289, 764.89}\n",
    "payment_2 = {467, 90, 123.45, 890.67}"
   ]
  },
  {
   "cell_type": "code",
   "execution_count": 10,
   "id": "8cee95df",
   "metadata": {},
   "outputs": [],
   "source": [
    "payment_3 = payment_1.union(payment_2)"
   ]
  },
  {
   "cell_type": "code",
   "execution_count": 11,
   "id": "2ad86b77",
   "metadata": {},
   "outputs": [
    {
     "name": "stdout",
     "output_type": "stream",
     "text": [
      "{289, 354, 900, 467, 90, 123.45, 764.89, 890.67}\n"
     ]
    }
   ],
   "source": [
    "print(payment_3)"
   ]
  },
  {
   "cell_type": "code",
   "execution_count": 15,
   "id": "77e892fc",
   "metadata": {},
   "outputs": [],
   "source": [
    "payment_3.add(6000)"
   ]
  },
  {
   "cell_type": "code",
   "execution_count": 16,
   "id": "3be56006",
   "metadata": {},
   "outputs": [],
   "source": [
    "payment_3.add(2000)"
   ]
  },
  {
   "cell_type": "code",
   "execution_count": 17,
   "id": "390efc2c",
   "metadata": {},
   "outputs": [
    {
     "name": "stdout",
     "output_type": "stream",
     "text": [
      "{289, 354, 900, 1000, 2000, 6000, 467, 90, 123.45, 764.89, 890.67}\n"
     ]
    }
   ],
   "source": [
    "print(payment_3)"
   ]
  },
  {
   "cell_type": "code",
   "execution_count": null,
   "id": "adecfd88",
   "metadata": {},
   "outputs": [],
   "source": []
  },
  {
   "cell_type": "code",
   "execution_count": null,
   "id": "2fc4dd65",
   "metadata": {},
   "outputs": [],
   "source": []
  },
  {
   "cell_type": "code",
   "execution_count": null,
   "id": "48d09e19",
   "metadata": {},
   "outputs": [],
   "source": []
  },
  {
   "cell_type": "code",
   "execution_count": 1,
   "id": "6a7d19ba",
   "metadata": {},
   "outputs": [],
   "source": [
    "name = \"ola\""
   ]
  },
  {
   "cell_type": "code",
   "execution_count": 2,
   "id": "a08ce036",
   "metadata": {},
   "outputs": [
    {
     "name": "stdout",
     "output_type": "stream",
     "text": [
      "ola\n"
     ]
    }
   ],
   "source": [
    "print(name)"
   ]
  },
  {
   "cell_type": "code",
   "execution_count": 3,
   "id": "9863def9",
   "metadata": {},
   "outputs": [
    {
     "name": "stdout",
     "output_type": "stream",
     "text": [
      "<class 'str'>\n"
     ]
    }
   ],
   "source": [
    "print(type(name))"
   ]
  },
  {
   "cell_type": "code",
   "execution_count": null,
   "id": "5a4a08b0",
   "metadata": {},
   "outputs": [],
   "source": []
  },
  {
   "cell_type": "code",
   "execution_count": 1,
   "id": "42f3114a",
   "metadata": {},
   "outputs": [],
   "source": [
    "number = []"
   ]
  },
  {
   "cell_type": "code",
   "execution_count": 2,
   "id": "3f85c999",
   "metadata": {},
   "outputs": [],
   "source": [
    "number.append(2000)"
   ]
  },
  {
   "cell_type": "code",
   "execution_count": 3,
   "id": "2e2c81d4",
   "metadata": {},
   "outputs": [],
   "source": [
    "number.append(150)"
   ]
  },
  {
   "cell_type": "code",
   "execution_count": 4,
   "id": "d633f04b",
   "metadata": {},
   "outputs": [
    {
     "name": "stdout",
     "output_type": "stream",
     "text": [
      "[2000, 150]\n"
     ]
    }
   ],
   "source": [
    "print(number)"
   ]
  },
  {
   "cell_type": "code",
   "execution_count": null,
   "id": "7810842a",
   "metadata": {},
   "outputs": [],
   "source": []
  },
  {
   "cell_type": "code",
   "execution_count": null,
   "id": "e1408b90",
   "metadata": {},
   "outputs": [],
   "source": []
  },
  {
   "cell_type": "code",
   "execution_count": 1,
   "id": "be1530bb",
   "metadata": {},
   "outputs": [],
   "source": [
    "names = {\"ola\", \"oye\"}"
   ]
  },
  {
   "cell_type": "code",
   "execution_count": 2,
   "id": "27a408e5",
   "metadata": {},
   "outputs": [
    {
     "name": "stdout",
     "output_type": "stream",
     "text": [
      "{'ola', 'oye'}\n"
     ]
    }
   ],
   "source": [
    "print(names)"
   ]
  },
  {
   "cell_type": "code",
   "execution_count": 3,
   "id": "f26fff67",
   "metadata": {},
   "outputs": [],
   "source": [
    "names.add(\"evans\")"
   ]
  },
  {
   "cell_type": "code",
   "execution_count": 4,
   "id": "0145b7bb",
   "metadata": {},
   "outputs": [
    {
     "name": "stdout",
     "output_type": "stream",
     "text": [
      "{'evans', 'ola', 'oye'}\n"
     ]
    }
   ],
   "source": [
    "print(names)"
   ]
  },
  {
   "cell_type": "code",
   "execution_count": 5,
   "id": "8b1c98da",
   "metadata": {},
   "outputs": [],
   "source": [
    "names.add(\"olayemi\")"
   ]
  },
  {
   "cell_type": "code",
   "execution_count": 6,
   "id": "82264df0",
   "metadata": {},
   "outputs": [
    {
     "name": "stdout",
     "output_type": "stream",
     "text": [
      "{'evans', 'olayemi', 'ola', 'oye'}\n"
     ]
    }
   ],
   "source": [
    "print(names)"
   ]
  },
  {
   "cell_type": "code",
   "execution_count": null,
   "id": "b7df6d64",
   "metadata": {},
   "outputs": [],
   "source": []
  },
  {
   "cell_type": "code",
   "execution_count": 1,
   "id": "d51ebccd",
   "metadata": {},
   "outputs": [],
   "source": [
    "numbers = {200,000}"
   ]
  },
  {
   "cell_type": "code",
   "execution_count": 2,
   "id": "a0c47c60",
   "metadata": {},
   "outputs": [],
   "source": [
    "numbers.add(70.000)"
   ]
  },
  {
   "cell_type": "code",
   "execution_count": 3,
   "id": "400e3a17",
   "metadata": {},
   "outputs": [
    {
     "name": "stdout",
     "output_type": "stream",
     "text": [
      "{200, 0, 70.0}\n"
     ]
    }
   ],
   "source": [
    "print(numbers)"
   ]
  },
  {
   "cell_type": "code",
   "execution_count": null,
   "id": "ddffd67d",
   "metadata": {},
   "outputs": [],
   "source": []
  },
  {
   "cell_type": "code",
   "execution_count": null,
   "id": "1a4ff687",
   "metadata": {},
   "outputs": [],
   "source": []
  },
  {
   "cell_type": "code",
   "execution_count": 1,
   "id": "bae44d0c",
   "metadata": {},
   "outputs": [],
   "source": [
    "name = \"johnson\""
   ]
  },
  {
   "cell_type": "code",
   "execution_count": 2,
   "id": "09d846e4",
   "metadata": {},
   "outputs": [
    {
     "name": "stdout",
     "output_type": "stream",
     "text": [
      "johnson\n"
     ]
    }
   ],
   "source": [
    "print(name)"
   ]
  },
  {
   "cell_type": "code",
   "execution_count": null,
   "id": "6ba2c476",
   "metadata": {},
   "outputs": [],
   "source": []
  },
  {
   "cell_type": "code",
   "execution_count": null,
   "id": "bdd8c6db",
   "metadata": {},
   "outputs": [],
   "source": []
  },
  {
   "cell_type": "code",
   "execution_count": 8,
   "id": "994565c9",
   "metadata": {},
   "outputs": [
    {
     "name": "stdout",
     "output_type": "stream",
     "text": [
      "please enter your first name: jsdhdhd\n",
      "please enter your middle name: jhdhehr\n",
      "please enter your last name: jjrhr\n",
      "enter your current location: rhrhrh\n",
      "what's your nationality: jejjh\n",
      "how old are you: 29\n",
      "Congratulation your loan application have been submitted\n"
     ]
    }
   ],
   "source": [
    "first_name = input(\"please enter your first name: \")\n",
    "middle_name = input(\"please enter your middle name: \")\n",
    "last_name = input(\"please enter your last name: \")\n",
    "location = input(\"enter your current location: \")\n",
    "nationality = input(\"what's your nationality: \")\n",
    "work_status = \"yes\"\n",
    "age = int(input(\"how old are you: \"))\n",
    "\n",
    "if work_status == \"yes\" and  age >= 25:\n",
    "    print(\"Congratulation your loan application have been submitted\")\n",
    "    \n",
    "else:\n",
    "    print(\"sorry your are not eligible to apply for this loan\")"
   ]
  },
  {
   "cell_type": "code",
   "execution_count": null,
   "id": "5ab89f01",
   "metadata": {},
   "outputs": [],
   "source": []
  },
  {
   "cell_type": "code",
   "execution_count": 1,
   "id": "c4d51771",
   "metadata": {},
   "outputs": [
    {
     "name": "stdout",
     "output_type": "stream",
     "text": [
      "134910\n"
     ]
    }
   ],
   "source": [
    "numbers_of_student_present = 45000\n",
    "numbers_of_student_apsent = 90\n",
    "third_number = 90000\n",
    "print(numbers_of_student_present - numbers_of_student_apsent + third_number)"
   ]
  },
  {
   "cell_type": "code",
   "execution_count": null,
   "id": "7101594f",
   "metadata": {},
   "outputs": [],
   "source": []
  },
  {
   "cell_type": "code",
   "execution_count": 1,
   "id": "c678866e",
   "metadata": {},
   "outputs": [],
   "source": [
    "name = [\"kunle, olu, ojo ali, ehi, tope, olumide, oye, ibukun\"]"
   ]
  },
  {
   "cell_type": "code",
   "execution_count": 2,
   "id": "50b68145",
   "metadata": {},
   "outputs": [
    {
     "name": "stdout",
     "output_type": "stream",
     "text": [
      "['kunle, olu, ojo ali, ehi, tope, olumide, oye, ibukun']\n"
     ]
    }
   ],
   "source": [
    "print(name)"
   ]
  },
  {
   "cell_type": "code",
   "execution_count": 3,
   "id": "55800803",
   "metadata": {},
   "outputs": [],
   "source": [
    "name.append(\"ojo\")"
   ]
  },
  {
   "cell_type": "code",
   "execution_count": 4,
   "id": "7d03770f",
   "metadata": {},
   "outputs": [
    {
     "name": "stdout",
     "output_type": "stream",
     "text": [
      "['kunle, olu, ojo ali, ehi, tope, olumide, oye, ibukun', 'ojo']\n"
     ]
    }
   ],
   "source": [
    "print(name)"
   ]
  },
  {
   "cell_type": "code",
   "execution_count": 5,
   "id": "fdf41f1a",
   "metadata": {},
   "outputs": [],
   "source": [
    "name.append(\"ola\")"
   ]
  },
  {
   "cell_type": "code",
   "execution_count": 6,
   "id": "b23c6899",
   "metadata": {},
   "outputs": [
    {
     "name": "stdout",
     "output_type": "stream",
     "text": [
      "['kunle, olu, ojo ali, ehi, tope, olumide, oye, ibukun', 'ojo', 'ola']\n"
     ]
    }
   ],
   "source": [
    "print(name)"
   ]
  },
  {
   "cell_type": "code",
   "execution_count": 7,
   "id": "2f2fbdce",
   "metadata": {},
   "outputs": [],
   "source": [
    "name.append(\"ehi\")"
   ]
  },
  {
   "cell_type": "code",
   "execution_count": 8,
   "id": "09993763",
   "metadata": {},
   "outputs": [
    {
     "name": "stdout",
     "output_type": "stream",
     "text": [
      "4\n"
     ]
    }
   ],
   "source": [
    "print(len(name))"
   ]
  },
  {
   "cell_type": "code",
   "execution_count": 9,
   "id": "7f6374bc",
   "metadata": {},
   "outputs": [],
   "source": [
    "name.append(\"ekun\")"
   ]
  },
  {
   "cell_type": "code",
   "execution_count": 10,
   "id": "164f246e",
   "metadata": {},
   "outputs": [],
   "source": [
    "name.remove(\"ekun\")"
   ]
  },
  {
   "cell_type": "code",
   "execution_count": 11,
   "id": "cbfbfefe",
   "metadata": {},
   "outputs": [
    {
     "name": "stdout",
     "output_type": "stream",
     "text": [
      "['kunle, olu, ojo ali, ehi, tope, olumide, oye, ibukun', 'ojo', 'ola', 'ehi']\n"
     ]
    }
   ],
   "source": [
    "print(name)"
   ]
  },
  {
   "cell_type": "code",
   "execution_count": 12,
   "id": "ab63c068",
   "metadata": {},
   "outputs": [],
   "source": [
    "name.remove(\"ojo\")"
   ]
  },
  {
   "cell_type": "code",
   "execution_count": 13,
   "id": "69099a74",
   "metadata": {},
   "outputs": [
    {
     "name": "stdout",
     "output_type": "stream",
     "text": [
      "['kunle, olu, ojo ali, ehi, tope, olumide, oye, ibukun', 'ola', 'ehi']\n"
     ]
    }
   ],
   "source": [
    "\n",
    "print(name)"
   ]
  },
  {
   "cell_type": "code",
   "execution_count": 14,
   "id": "758fc576",
   "metadata": {},
   "outputs": [
    {
     "name": "stdout",
     "output_type": "stream",
     "text": [
      "3\n"
     ]
    }
   ],
   "source": [
    "print(len(name))"
   ]
  },
  {
   "cell_type": "code",
   "execution_count": 15,
   "id": "ff13d1de",
   "metadata": {},
   "outputs": [],
   "source": [
    "name.remove(\"ehi\")"
   ]
  },
  {
   "cell_type": "code",
   "execution_count": null,
   "id": "fb153d3f",
   "metadata": {},
   "outputs": [],
   "source": []
  },
  {
   "cell_type": "code",
   "execution_count": 1,
   "id": "b24f1642",
   "metadata": {},
   "outputs": [],
   "source": [
    "numbers = [100,500,40,9000,40000,43,760,340,8,1,49,98,44,32,31,11,44]"
   ]
  },
  {
   "cell_type": "code",
   "execution_count": 2,
   "id": "f4881cf2",
   "metadata": {},
   "outputs": [],
   "source": [
    "numbers.append(20)"
   ]
  },
  {
   "cell_type": "code",
   "execution_count": 3,
   "id": "4517478a",
   "metadata": {},
   "outputs": [
    {
     "name": "stdout",
     "output_type": "stream",
     "text": [
      "[100, 500, 40, 9000, 40000, 43, 760, 340, 8, 1, 49, 98, 44, 32, 31, 11, 44, 20]\n"
     ]
    }
   ],
   "source": [
    "print(numbers)"
   ]
  },
  {
   "cell_type": "code",
   "execution_count": 4,
   "id": "1e6cb8a3",
   "metadata": {},
   "outputs": [],
   "source": [
    "numbers.append(40)"
   ]
  },
  {
   "cell_type": "code",
   "execution_count": 5,
   "id": "0209517e",
   "metadata": {},
   "outputs": [],
   "source": [
    "numbers.append(1)"
   ]
  },
  {
   "cell_type": "code",
   "execution_count": null,
   "id": "92a73d11",
   "metadata": {},
   "outputs": [],
   "source": []
  },
  {
   "cell_type": "code",
   "execution_count": null,
   "id": "0d316eff",
   "metadata": {},
   "outputs": [],
   "source": []
  },
  {
   "cell_type": "code",
   "execution_count": null,
   "id": "b902f8fb",
   "metadata": {},
   "outputs": [],
   "source": []
  }
 ],
 "metadata": {
  "kernelspec": {
   "display_name": "Python 3 (ipykernel)",
   "language": "python",
   "name": "python3"
  },
  "language_info": {
   "codemirror_mode": {
    "name": "ipython",
    "version": 3
   },
   "file_extension": ".py",
   "mimetype": "text/x-python",
   "name": "python",
   "nbconvert_exporter": "python",
   "pygments_lexer": "ipython3",
   "version": "3.10.4"
  }
 },
 "nbformat": 4,
 "nbformat_minor": 5
}
