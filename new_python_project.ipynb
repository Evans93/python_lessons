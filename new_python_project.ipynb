{
 "cells": [
  {
   "cell_type": "code",
   "execution_count": 3,
   "id": "e8fa2ef1",
   "metadata": {
    "scrolled": true
   },
   "outputs": [
    {
     "name": "stdout",
     "output_type": "stream",
     "text": [
      "enter your lucky numner: 10\n",
      "Congratulation you won\n"
     ]
    }
   ],
   "source": [
    "## if statment\n",
    "\n",
    "lucky_number = 10\n",
    "user = int(input(\"enter your lucky numner: \"))\n",
    "if user == lucky_number:\n",
    "    print(\"Congratulation you won\")\n",
    "else:\n",
    "    print(f\"ouh wrong numbr, try your luck again next time\")"
   ]
  },
  {
   "cell_type": "code",
   "execution_count": null,
   "id": "fcc34b6e",
   "metadata": {},
   "outputs": [],
   "source": []
  },
  {
   "cell_type": "code",
   "execution_count": 4,
   "id": "9d21f0a9",
   "metadata": {},
   "outputs": [
    {
     "name": "stdout",
     "output_type": "stream",
     "text": [
      "enter your lucky numner: 51\n",
      "ouh wrong numbr, try your luck again next time\n"
     ]
    }
   ],
   "source": [
    "lucky_number = 50\n",
    "user = int(input(\"enter your lucky numner: \"))\n",
    "if user == lucky_number:\n",
    "    print(\"Congratulation you won\")\n",
    "else:\n",
    "    print(f\"ouh wrong numbr, try your luck again next time\")"
   ]
  },
  {
   "cell_type": "code",
   "execution_count": null,
   "id": "ce9336f9",
   "metadata": {},
   "outputs": [],
   "source": []
  },
  {
   "cell_type": "code",
   "execution_count": null,
   "id": "21147e11",
   "metadata": {},
   "outputs": [],
   "source": []
  },
  {
   "cell_type": "code",
   "execution_count": 13,
   "id": "a9d5b896",
   "metadata": {},
   "outputs": [],
   "source": [
    "##converting list to tuple\n",
    "\n",
    "\n",
    "amount_of_loan_paid_by_debtors = [700.890, 400.234, 100.000, ]"
   ]
  },
  {
   "cell_type": "code",
   "execution_count": 14,
   "id": "2a370a8c",
   "metadata": {},
   "outputs": [
    {
     "name": "stdout",
     "output_type": "stream",
     "text": [
      "<class 'list'>\n"
     ]
    }
   ],
   "source": [
    "print(type(amount_of_loan_paid_by_debtors))"
   ]
  },
  {
   "cell_type": "code",
   "execution_count": 15,
   "id": "c79ada7b",
   "metadata": {},
   "outputs": [],
   "source": [
    "amount_of_loan_paid_by_debtors.append(500.900)"
   ]
  },
  {
   "cell_type": "code",
   "execution_count": 16,
   "id": "7f0327f2",
   "metadata": {},
   "outputs": [],
   "source": [
    "amount_of_loan_paid_by_debtors.append(390.593)"
   ]
  },
  {
   "cell_type": "code",
   "execution_count": 17,
   "id": "d9807d25",
   "metadata": {},
   "outputs": [
    {
     "name": "stdout",
     "output_type": "stream",
     "text": [
      "[700.89, 400.234, 100.0, 500.9, 390.593]\n"
     ]
    }
   ],
   "source": [
    "print(amount_of_loan_paid_by_debtors)"
   ]
  },
  {
   "cell_type": "code",
   "execution_count": 18,
   "id": "d4703b71",
   "metadata": {},
   "outputs": [],
   "source": [
    "convert_amount_of_loan_paid_by_debtors_to_tuple = tuple(amount_of_loan_paid_by_debtors)"
   ]
  },
  {
   "cell_type": "code",
   "execution_count": 19,
   "id": "573712b7",
   "metadata": {},
   "outputs": [
    {
     "name": "stdout",
     "output_type": "stream",
     "text": [
      "(700.89, 400.234, 100.0, 500.9, 390.593)\n"
     ]
    }
   ],
   "source": [
    "print(convert_amount_of_loan_paid_by_debtors_to_tuple)"
   ]
  },
  {
   "cell_type": "code",
   "execution_count": 20,
   "id": "4ec8effb",
   "metadata": {},
   "outputs": [
    {
     "name": "stdout",
     "output_type": "stream",
     "text": [
      "<class 'tuple'>\n"
     ]
    }
   ],
   "source": [
    "print(type(convert_amount_of_loan_paid_by_debtors_to_tuple))"
   ]
  },
  {
   "cell_type": "code",
   "execution_count": null,
   "id": "bf158225",
   "metadata": {},
   "outputs": [],
   "source": []
  },
  {
   "cell_type": "code",
   "execution_count": 22,
   "id": "d962e1de",
   "metadata": {},
   "outputs": [
    {
     "name": "stdout",
     "output_type": "stream",
     "text": [
      "200\n"
     ]
    }
   ],
   "source": [
    "number = 40 * 5\n",
    "print(number)"
   ]
  },
  {
   "cell_type": "code",
   "execution_count": null,
   "id": "693650bb",
   "metadata": {},
   "outputs": [],
   "source": []
  },
  {
   "cell_type": "code",
   "execution_count": 23,
   "id": "6180c4eb",
   "metadata": {},
   "outputs": [
    {
     "name": "stdout",
     "output_type": "stream",
     "text": [
      "0.5\n"
     ]
    }
   ],
   "source": [
    "number = 50/100\n",
    "print(number)"
   ]
  },
  {
   "cell_type": "code",
   "execution_count": null,
   "id": "77fc31e5",
   "metadata": {},
   "outputs": [],
   "source": []
  },
  {
   "cell_type": "code",
   "execution_count": 78,
   "id": "f3339dbc",
   "metadata": {},
   "outputs": [],
   "source": [
    "### converting set to list and then to tuple\n",
    "\n",
    "\n",
    "names_of_student_present_in_class = {\"evans 25 , ola 22 , johnson 21, tobi 27, tolu 30\"}"
   ]
  },
  {
   "cell_type": "code",
   "execution_count": 79,
   "id": "6369fa4a",
   "metadata": {},
   "outputs": [
    {
     "name": "stdout",
     "output_type": "stream",
     "text": [
      "{'evans 25 , ola 22 , johnson 21, tobi 27, tolu 30'}\n"
     ]
    }
   ],
   "source": [
    "print(names_of_student_present_in_class)"
   ]
  },
  {
   "cell_type": "code",
   "execution_count": 80,
   "id": "4f929fff",
   "metadata": {},
   "outputs": [
    {
     "name": "stdout",
     "output_type": "stream",
     "text": [
      "<class 'set'>\n"
     ]
    }
   ],
   "source": [
    "print(type(names_of_student_present_in_class))"
   ]
  },
  {
   "cell_type": "code",
   "execution_count": 81,
   "id": "da6adca8",
   "metadata": {},
   "outputs": [],
   "source": [
    "convert_set_to_list = list(names_of_student_present_in_class)"
   ]
  },
  {
   "cell_type": "code",
   "execution_count": 82,
   "id": "ebdb41f5",
   "metadata": {},
   "outputs": [
    {
     "name": "stdout",
     "output_type": "stream",
     "text": [
      "['evans 25 , ola 22 , johnson 21, tobi 27, tolu 30']\n"
     ]
    }
   ],
   "source": [
    "print(convert_set_to_list )"
   ]
  },
  {
   "cell_type": "code",
   "execution_count": 83,
   "id": "531d82b8",
   "metadata": {},
   "outputs": [],
   "source": [
    "convert_set_to_list.append(\"kola,34\")"
   ]
  },
  {
   "cell_type": "code",
   "execution_count": 84,
   "id": "bc77c27f",
   "metadata": {},
   "outputs": [],
   "source": [
    "convert_set_to_list.append(\"funmilayo,22\")"
   ]
  },
  {
   "cell_type": "code",
   "execution_count": 85,
   "id": "9f42273f",
   "metadata": {},
   "outputs": [
    {
     "name": "stdout",
     "output_type": "stream",
     "text": [
      "['evans 25 , ola 22 , johnson 21, tobi 27, tolu 30', 'kola,34', 'funmilayo,22']\n"
     ]
    }
   ],
   "source": [
    "print(convert_set_to_list)"
   ]
  },
  {
   "cell_type": "code",
   "execution_count": 86,
   "id": "571260d3",
   "metadata": {},
   "outputs": [],
   "source": [
    "convert_set_to_list.remove(\"kola,34\")"
   ]
  },
  {
   "cell_type": "code",
   "execution_count": 87,
   "id": "8a47fd71",
   "metadata": {},
   "outputs": [
    {
     "name": "stdout",
     "output_type": "stream",
     "text": [
      "['evans 25 , ola 22 , johnson 21, tobi 27, tolu 30', 'funmilayo,22']\n"
     ]
    }
   ],
   "source": [
    "print(convert_set_to_list)"
   ]
  },
  {
   "cell_type": "code",
   "execution_count": 88,
   "id": "9cf05726",
   "metadata": {},
   "outputs": [],
   "source": [
    "convert_list_to_tuple = tuple(convert_set_to_list)"
   ]
  },
  {
   "cell_type": "code",
   "execution_count": 89,
   "id": "3a4e3286",
   "metadata": {},
   "outputs": [
    {
     "name": "stdout",
     "output_type": "stream",
     "text": [
      "('evans 25 , ola 22 , johnson 21, tobi 27, tolu 30', 'funmilayo,22')\n"
     ]
    }
   ],
   "source": [
    "print(convert_list_to_tuple)"
   ]
  },
  {
   "cell_type": "code",
   "execution_count": 90,
   "id": "bfe43d7d",
   "metadata": {},
   "outputs": [
    {
     "name": "stdout",
     "output_type": "stream",
     "text": [
      "<class 'tuple'>\n"
     ]
    }
   ],
   "source": [
    "print(type(convert_list_to_tuple))"
   ]
  },
  {
   "cell_type": "code",
   "execution_count": null,
   "id": "ff72230e",
   "metadata": {},
   "outputs": [],
   "source": []
  },
  {
   "cell_type": "code",
   "execution_count": null,
   "id": "18565495",
   "metadata": {},
   "outputs": [],
   "source": []
  },
  {
   "cell_type": "code",
   "execution_count": null,
   "id": "84b0ba97",
   "metadata": {},
   "outputs": [],
   "source": []
  },
  {
   "cell_type": "code",
   "execution_count": 94,
   "id": "badb0718",
   "metadata": {},
   "outputs": [
    {
     "name": "stdout",
     "output_type": "stream",
     "text": [
      "please play your wining number: 20\n",
      "you won\n"
     ]
    }
   ],
   "source": [
    "## if and else statement\n",
    "\n",
    "\n",
    "bet_wining_number = 20\n",
    "play = int(input(\"please play your wining number: \"))\n",
    "if play == 20:\n",
    "    print(\"you won\")\n",
    "else:\n",
    "    print(\"you are unlucky at this time, don’t give up you can try again next time \")"
   ]
  },
  {
   "cell_type": "code",
   "execution_count": null,
   "id": "1d9ade98",
   "metadata": {},
   "outputs": [],
   "source": []
  },
  {
   "cell_type": "code",
   "execution_count": null,
   "id": "e7e0b5f9",
   "metadata": {},
   "outputs": [],
   "source": []
  },
  {
   "cell_type": "code",
   "execution_count": 16,
   "id": "7abbadcb",
   "metadata": {},
   "outputs": [],
   "source": [
    "## converting set to list\n",
    "\n",
    "names_of_student_present_in_class_today = {\"evans, foli, seyi, kunle, seye, dokun\"}"
   ]
  },
  {
   "cell_type": "code",
   "execution_count": 17,
   "id": "2ac6e54a",
   "metadata": {},
   "outputs": [
    {
     "name": "stdout",
     "output_type": "stream",
     "text": [
      "<class 'set'>\n"
     ]
    }
   ],
   "source": [
    "print(type(names_of_student_present_in_class_today))"
   ]
  },
  {
   "cell_type": "code",
   "execution_count": 18,
   "id": "b016a6f7",
   "metadata": {},
   "outputs": [
    {
     "name": "stdout",
     "output_type": "stream",
     "text": [
      "{'evans, foli, seyi, kunle, seye, dokun'}\n"
     ]
    }
   ],
   "source": [
    "print(names_of_student_present_in_class_today)"
   ]
  },
  {
   "cell_type": "code",
   "execution_count": 19,
   "id": "eb56d2ad",
   "metadata": {},
   "outputs": [],
   "source": [
    "convert_set_to_list = list(names_of_student_present_in_class_today)"
   ]
  },
  {
   "cell_type": "code",
   "execution_count": 20,
   "id": "be61db8c",
   "metadata": {},
   "outputs": [
    {
     "name": "stdout",
     "output_type": "stream",
     "text": [
      "['evans, foli, seyi, kunle, seye, dokun']\n"
     ]
    }
   ],
   "source": [
    "print(convert_set_to_list)"
   ]
  },
  {
   "cell_type": "code",
   "execution_count": 21,
   "id": "ebd80215",
   "metadata": {},
   "outputs": [],
   "source": [
    "convert_set_to_list.append(\"olasunkanmi\")"
   ]
  },
  {
   "cell_type": "code",
   "execution_count": 22,
   "id": "6afddfbf",
   "metadata": {},
   "outputs": [],
   "source": [
    "convert_set_to_list.append(\"precious\")"
   ]
  },
  {
   "cell_type": "code",
   "execution_count": 23,
   "id": "1d29c09c",
   "metadata": {},
   "outputs": [
    {
     "name": "stdout",
     "output_type": "stream",
     "text": [
      "['evans, foli, seyi, kunle, seye, dokun', 'olasunkanmi', 'precious']\n"
     ]
    }
   ],
   "source": [
    "print(convert_set_to_list)"
   ]
  },
  {
   "cell_type": "code",
   "execution_count": 24,
   "id": "ce8a3645",
   "metadata": {},
   "outputs": [],
   "source": [
    "convert_set_to_list.remove(\"precious\")"
   ]
  },
  {
   "cell_type": "code",
   "execution_count": 25,
   "id": "cd82201a",
   "metadata": {},
   "outputs": [
    {
     "name": "stdout",
     "output_type": "stream",
     "text": [
      "['evans, foli, seyi, kunle, seye, dokun', 'olasunkanmi']\n"
     ]
    }
   ],
   "source": [
    "print(convert_set_to_list)"
   ]
  },
  {
   "cell_type": "code",
   "execution_count": null,
   "id": "74dc8043",
   "metadata": {},
   "outputs": [],
   "source": []
  },
  {
   "cell_type": "code",
   "execution_count": 31,
   "id": "cec29a99",
   "metadata": {},
   "outputs": [],
   "source": [
    "## converting list to str\n",
    "\n",
    "\n",
    "convert_list_to_str = str(convert_set_to_list)"
   ]
  },
  {
   "cell_type": "code",
   "execution_count": 32,
   "id": "52a6e30c",
   "metadata": {},
   "outputs": [
    {
     "name": "stdout",
     "output_type": "stream",
     "text": [
      "['evans, foli, seyi, kunle, seye, dokun', 'olasunkanmi']\n"
     ]
    }
   ],
   "source": [
    "print(convert_list_to_str)"
   ]
  },
  {
   "cell_type": "code",
   "execution_count": 33,
   "id": "538fc37e",
   "metadata": {},
   "outputs": [
    {
     "name": "stdout",
     "output_type": "stream",
     "text": [
      "<class 'str'>\n"
     ]
    }
   ],
   "source": [
    "print(type(convert_list_to_str))"
   ]
  },
  {
   "cell_type": "code",
   "execution_count": null,
   "id": "efaa4106",
   "metadata": {},
   "outputs": [],
   "source": []
  },
  {
   "cell_type": "code",
   "execution_count": 42,
   "id": "12f11540",
   "metadata": {},
   "outputs": [
    {
     "data": {
      "text/plain": [
       "True"
      ]
     },
     "execution_count": 42,
     "metadata": {},
     "output_type": "execute_result"
    }
   ],
   "source": [
    "convert_list_to_str.endswith(convert_list_to_str)"
   ]
  },
  {
   "cell_type": "code",
   "execution_count": 43,
   "id": "e7a0e614",
   "metadata": {},
   "outputs": [
    {
     "name": "stdout",
     "output_type": "stream",
     "text": [
      "56\n"
     ]
    }
   ],
   "source": [
    "print(len(convert_list_to_str))"
   ]
  },
  {
   "cell_type": "code",
   "execution_count": 52,
   "id": "dfdb8088",
   "metadata": {},
   "outputs": [
    {
     "name": "stdout",
     "output_type": "stream",
     "text": [
      "['evans, foli, seyi, kunle, seye, dokun', 'olasunkanmi']\n"
     ]
    }
   ],
   "source": [
    "print(convert_list_to_str[0:56])"
   ]
  },
  {
   "cell_type": "code",
   "execution_count": null,
   "id": "81f7e7c1",
   "metadata": {},
   "outputs": [],
   "source": []
  },
  {
   "cell_type": "code",
   "execution_count": null,
   "id": "04aea2ff",
   "metadata": {},
   "outputs": [],
   "source": []
  },
  {
   "cell_type": "code",
   "execution_count": 81,
   "id": "dc079343",
   "metadata": {},
   "outputs": [],
   "source": [
    "## converting list to set and then back to list\n",
    "\n",
    "## when you convert list to set all the dubplicates names or numbers will be removed \n",
    "\n",
    "\n",
    "name = [\"evans\", \"ola\", \"johnson\", \"olu\", \"olu\" ,\"evans\"]"
   ]
  },
  {
   "cell_type": "code",
   "execution_count": 82,
   "id": "96450b47",
   "metadata": {},
   "outputs": [
    {
     "name": "stdout",
     "output_type": "stream",
     "text": [
      "<class 'list'>\n"
     ]
    }
   ],
   "source": [
    "print(type(name))"
   ]
  },
  {
   "cell_type": "code",
   "execution_count": 83,
   "id": "110f0677",
   "metadata": {},
   "outputs": [
    {
     "name": "stdout",
     "output_type": "stream",
     "text": [
      "['evans', 'ola', 'johnson', 'olu', 'olu', 'evans']\n"
     ]
    }
   ],
   "source": [
    "print(name)"
   ]
  },
  {
   "cell_type": "code",
   "execution_count": 84,
   "id": "35d9677d",
   "metadata": {},
   "outputs": [],
   "source": [
    "new_name = set(name)"
   ]
  },
  {
   "cell_type": "code",
   "execution_count": 85,
   "id": "14a545bd",
   "metadata": {},
   "outputs": [
    {
     "name": "stdout",
     "output_type": "stream",
     "text": [
      "{'olu', 'evans', 'ola', 'johnson'}\n"
     ]
    }
   ],
   "source": [
    "print(new_name)"
   ]
  },
  {
   "cell_type": "code",
   "execution_count": 86,
   "id": "72e0c186",
   "metadata": {},
   "outputs": [
    {
     "name": "stdout",
     "output_type": "stream",
     "text": [
      "<class 'set'>\n"
     ]
    }
   ],
   "source": [
    "print(type(new_name))"
   ]
  },
  {
   "cell_type": "code",
   "execution_count": 87,
   "id": "2fe6e148",
   "metadata": {},
   "outputs": [
    {
     "name": "stdout",
     "output_type": "stream",
     "text": [
      "['olu', 'evans', 'ola', 'johnson']\n"
     ]
    }
   ],
   "source": [
    "print(list(new_name))"
   ]
  },
  {
   "cell_type": "code",
   "execution_count": null,
   "id": "11539356",
   "metadata": {},
   "outputs": [],
   "source": []
  },
  {
   "cell_type": "code",
   "execution_count": 88,
   "id": "6fe5e72c",
   "metadata": {},
   "outputs": [],
   "source": [
    "\n",
    "## converting tuple to list and then back to tuple\n",
    " ## i only converted tuple to list because tuple does not has the attribute append\n",
    "\n",
    "\n",
    "\n",
    "numbers = (33, 55, 67, 14, 70)"
   ]
  },
  {
   "cell_type": "code",
   "execution_count": 89,
   "id": "1444f904",
   "metadata": {},
   "outputs": [
    {
     "name": "stdout",
     "output_type": "stream",
     "text": [
      "<class 'tuple'>\n"
     ]
    }
   ],
   "source": [
    "print(type(numbers))"
   ]
  },
  {
   "cell_type": "code",
   "execution_count": null,
   "id": "ee9e7936",
   "metadata": {},
   "outputs": [],
   "source": []
  },
  {
   "cell_type": "code",
   "execution_count": null,
   "id": "3e1fd4c3",
   "metadata": {},
   "outputs": [],
   "source": []
  },
  {
   "cell_type": "code",
   "execution_count": null,
   "id": "0e5a1b81",
   "metadata": {},
   "outputs": [],
   "source": []
  },
  {
   "cell_type": "code",
   "execution_count": 90,
   "id": "c5f1f8c1",
   "metadata": {},
   "outputs": [],
   "source": [
    "convert_tuple_to_list = list(numbers)"
   ]
  },
  {
   "cell_type": "code",
   "execution_count": 91,
   "id": "3029a08a",
   "metadata": {},
   "outputs": [
    {
     "name": "stdout",
     "output_type": "stream",
     "text": [
      "[33, 55, 67, 14, 70]\n"
     ]
    }
   ],
   "source": [
    "print(convert_tuple_to_list)"
   ]
  },
  {
   "cell_type": "code",
   "execution_count": 92,
   "id": "8647f4c9",
   "metadata": {},
   "outputs": [],
   "source": [
    "convert_tuple_to_list.append(100)"
   ]
  },
  {
   "cell_type": "code",
   "execution_count": 93,
   "id": "70ab2c7b",
   "metadata": {},
   "outputs": [
    {
     "name": "stdout",
     "output_type": "stream",
     "text": [
      "[33, 55, 67, 14, 70, 100]\n"
     ]
    }
   ],
   "source": [
    "print(convert_tuple_to_list)"
   ]
  },
  {
   "cell_type": "code",
   "execution_count": null,
   "id": "5e4caec8",
   "metadata": {},
   "outputs": [],
   "source": []
  },
  {
   "cell_type": "code",
   "execution_count": 78,
   "id": "52f53558",
   "metadata": {},
   "outputs": [],
   "source": [
    "convert_list_to_tuple = tuple(convert_tuple_to_list)"
   ]
  },
  {
   "cell_type": "code",
   "execution_count": 79,
   "id": "0cc1f938",
   "metadata": {},
   "outputs": [
    {
     "name": "stdout",
     "output_type": "stream",
     "text": [
      "(33, 55, 67, 14, 70, 100)\n"
     ]
    }
   ],
   "source": [
    "print(convert_list_to_tuple)"
   ]
  },
  {
   "cell_type": "code",
   "execution_count": 80,
   "id": "f005f810",
   "metadata": {},
   "outputs": [
    {
     "name": "stdout",
     "output_type": "stream",
     "text": [
      "<class 'tuple'>\n"
     ]
    }
   ],
   "source": [
    "print(type(convert_list_to_tuple))"
   ]
  },
  {
   "cell_type": "code",
   "execution_count": null,
   "id": "94b77dad",
   "metadata": {},
   "outputs": [],
   "source": []
  },
  {
   "cell_type": "code",
   "execution_count": null,
   "id": "c92f96f4",
   "metadata": {},
   "outputs": [],
   "source": []
  },
  {
   "cell_type": "code",
   "execution_count": 1,
   "id": "aa0854dd",
   "metadata": {},
   "outputs": [],
   "source": [
    "name = [\"evans, dotun, seye\"]"
   ]
  },
  {
   "cell_type": "code",
   "execution_count": 2,
   "id": "d7dc091e",
   "metadata": {},
   "outputs": [
    {
     "name": "stdout",
     "output_type": "stream",
     "text": [
      "<class 'list'>\n"
     ]
    }
   ],
   "source": [
    "print(type(name))"
   ]
  },
  {
   "cell_type": "code",
   "execution_count": 3,
   "id": "c107976f",
   "metadata": {},
   "outputs": [
    {
     "name": "stdout",
     "output_type": "stream",
     "text": [
      "['evans, dotun, seye']\n"
     ]
    }
   ],
   "source": [
    "print(name)"
   ]
  },
  {
   "cell_type": "code",
   "execution_count": 4,
   "id": "44fa00f7",
   "metadata": {},
   "outputs": [],
   "source": [
    "name.append(\"olu\")"
   ]
  },
  {
   "cell_type": "code",
   "execution_count": 5,
   "id": "d63b5806",
   "metadata": {},
   "outputs": [],
   "source": [
    "name.append(\"mr olu, 32\")"
   ]
  },
  {
   "cell_type": "code",
   "execution_count": 6,
   "id": "ef010c9c",
   "metadata": {},
   "outputs": [
    {
     "name": "stdout",
     "output_type": "stream",
     "text": [
      "['evans, dotun, seye', 'olu', 'mr olu, 32']\n"
     ]
    }
   ],
   "source": [
    "print(name)"
   ]
  },
  {
   "cell_type": "code",
   "execution_count": null,
   "id": "2fe95338",
   "metadata": {},
   "outputs": [],
   "source": []
  },
  {
   "cell_type": "code",
   "execution_count": 4,
   "id": "c169f3c7",
   "metadata": {},
   "outputs": [],
   "source": [
    "name = \"ola\""
   ]
  },
  {
   "cell_type": "code",
   "execution_count": 5,
   "id": "877bcabd",
   "metadata": {},
   "outputs": [
    {
     "name": "stdout",
     "output_type": "stream",
     "text": [
      "ola\n"
     ]
    }
   ],
   "source": [
    "print(name)"
   ]
  },
  {
   "cell_type": "code",
   "execution_count": 6,
   "id": "7d7f5bc2",
   "metadata": {},
   "outputs": [
    {
     "name": "stdout",
     "output_type": "stream",
     "text": [
      "<class 'str'>\n"
     ]
    }
   ],
   "source": [
    "print(type(name))"
   ]
  },
  {
   "cell_type": "code",
   "execution_count": null,
   "id": "ffbebad0",
   "metadata": {},
   "outputs": [],
   "source": []
  },
  {
   "cell_type": "code",
   "execution_count": null,
   "id": "425791e3",
   "metadata": {},
   "outputs": [],
   "source": []
  },
  {
   "cell_type": "code",
   "execution_count": 3,
   "id": "ced7ac83",
   "metadata": {},
   "outputs": [
    {
     "name": "stdout",
     "output_type": "stream",
     "text": [
      "dear valid customer, to submit your application please tell us your age22\n",
      "Congratulation your student loan has been granted\n"
     ]
    }
   ],
   "source": [
    "age_allowed_to_apply_for_student_loan = int(input(\"dear valid customer, to submit your application please tell us your age\"))\n",
    "\n",
    "if age_allowed_to_apply_for_student_loan < 21:\n",
    "    print(\"sorry you are not permitted \")\n",
    "else:\n",
    "    print(\"Congratulation your student loan has been granted\")\n",
    "\n"
   ]
  },
  {
   "cell_type": "code",
   "execution_count": null,
   "id": "894b8ee5",
   "metadata": {},
   "outputs": [],
   "source": []
  },
  {
   "cell_type": "code",
   "execution_count": null,
   "id": "f3c30d45",
   "metadata": {},
   "outputs": [],
   "source": []
  },
  {
   "cell_type": "code",
   "execution_count": 1,
   "id": "d0d072db",
   "metadata": {},
   "outputs": [],
   "source": [
    "numbers = 40 + 50 - 12 % 100"
   ]
  },
  {
   "cell_type": "code",
   "execution_count": 3,
   "id": "7100ee16",
   "metadata": {},
   "outputs": [
    {
     "name": "stdout",
     "output_type": "stream",
     "text": [
      "78\n"
     ]
    }
   ],
   "source": [
    "print(numbers)"
   ]
  },
  {
   "cell_type": "code",
   "execution_count": 4,
   "id": "54e310bd",
   "metadata": {},
   "outputs": [
    {
     "name": "stdout",
     "output_type": "stream",
     "text": [
      "<class 'int'>\n"
     ]
    }
   ],
   "source": [
    "print(type(numbers))"
   ]
  },
  {
   "cell_type": "code",
   "execution_count": 5,
   "id": "8ca3143c",
   "metadata": {},
   "outputs": [],
   "source": [
    "name = {\"evans\"}"
   ]
  },
  {
   "cell_type": "code",
   "execution_count": 6,
   "id": "ea99b4d3",
   "metadata": {},
   "outputs": [
    {
     "name": "stdout",
     "output_type": "stream",
     "text": [
      "<class 'set'>\n"
     ]
    }
   ],
   "source": [
    "print(type(name))"
   ]
  },
  {
   "cell_type": "code",
   "execution_count": 7,
   "id": "3e3aa9a9",
   "metadata": {},
   "outputs": [
    {
     "name": "stdout",
     "output_type": "stream",
     "text": [
      "{'evans'}\n"
     ]
    }
   ],
   "source": [
    "print(name)"
   ]
  },
  {
   "cell_type": "code",
   "execution_count": null,
   "id": "dd5ef2ef",
   "metadata": {},
   "outputs": [],
   "source": []
  },
  {
   "cell_type": "code",
   "execution_count": null,
   "id": "32059871",
   "metadata": {},
   "outputs": [],
   "source": []
  },
  {
   "cell_type": "code",
   "execution_count": 29,
   "id": "455dfc17",
   "metadata": {},
   "outputs": [],
   "source": [
    "x_number = \"8\"\n",
    "y_number = \"7\""
   ]
  },
  {
   "cell_type": "code",
   "execution_count": 30,
   "id": "583eab7f",
   "metadata": {},
   "outputs": [
    {
     "name": "stdout",
     "output_type": "stream",
     "text": [
      "<class 'str'>\n"
     ]
    }
   ],
   "source": [
    "print(type(x_number))"
   ]
  },
  {
   "cell_type": "code",
   "execution_count": null,
   "id": "bcdfc6d6",
   "metadata": {},
   "outputs": [],
   "source": []
  },
  {
   "cell_type": "code",
   "execution_count": 31,
   "id": "fdd39daf",
   "metadata": {},
   "outputs": [],
   "source": [
    "###Concatenation\n",
    "\n",
    "concat = x_number + y_number"
   ]
  },
  {
   "cell_type": "code",
   "execution_count": 32,
   "id": "cace4740",
   "metadata": {},
   "outputs": [
    {
     "name": "stdout",
     "output_type": "stream",
     "text": [
      "87\n"
     ]
    }
   ],
   "source": [
    "print(concat)"
   ]
  },
  {
   "cell_type": "code",
   "execution_count": null,
   "id": "4ea9957d",
   "metadata": {},
   "outputs": [],
   "source": []
  },
  {
   "cell_type": "code",
   "execution_count": 76,
   "id": "df75289f",
   "metadata": {},
   "outputs": [],
   "source": [
    "#####Concatenation\n",
    "##concating strings quotes together\n",
    "\n",
    "name = \" Mr evans,\"\n",
    "Quote = \" how are you doing today? \"\n",
    "greet = \" Hey\""
   ]
  },
  {
   "cell_type": "code",
   "execution_count": 77,
   "id": "f3564598",
   "metadata": {},
   "outputs": [],
   "source": [
    "concat = greet + name + Quote"
   ]
  },
  {
   "cell_type": "code",
   "execution_count": 78,
   "id": "5bba7c9e",
   "metadata": {},
   "outputs": [
    {
     "name": "stdout",
     "output_type": "stream",
     "text": [
      " Hey Mr evans, how are you doing today? \n"
     ]
    }
   ],
   "source": [
    "print(concat)"
   ]
  },
  {
   "cell_type": "code",
   "execution_count": null,
   "id": "ecb54c15",
   "metadata": {},
   "outputs": [],
   "source": []
  },
  {
   "cell_type": "code",
   "execution_count": null,
   "id": "87b8f43b",
   "metadata": {},
   "outputs": [],
   "source": []
  },
  {
   "cell_type": "code",
   "execution_count": null,
   "id": "8ae24462",
   "metadata": {},
   "outputs": [],
   "source": []
  },
  {
   "cell_type": "code",
   "execution_count": 2,
   "id": "b90c2ec7",
   "metadata": {},
   "outputs": [],
   "source": [
    "name = \"evans\""
   ]
  },
  {
   "cell_type": "code",
   "execution_count": 3,
   "id": "b646d897",
   "metadata": {},
   "outputs": [
    {
     "name": "stdout",
     "output_type": "stream",
     "text": [
      "evans\n"
     ]
    }
   ],
   "source": [
    "print(name)"
   ]
  },
  {
   "cell_type": "code",
   "execution_count": 5,
   "id": "4efe999b",
   "metadata": {},
   "outputs": [
    {
     "name": "stdout",
     "output_type": "stream",
     "text": [
      "<class 'str'>\n"
     ]
    }
   ],
   "source": [
    "print(type(name))"
   ]
  },
  {
   "cell_type": "code",
   "execution_count": null,
   "id": "667a8576",
   "metadata": {},
   "outputs": [],
   "source": []
  },
  {
   "cell_type": "code",
   "execution_count": 6,
   "id": "b0dcb214",
   "metadata": {},
   "outputs": [],
   "source": [
    "numbers = \"190, [90]\""
   ]
  },
  {
   "cell_type": "code",
   "execution_count": 7,
   "id": "52fedb60",
   "metadata": {},
   "outputs": [
    {
     "name": "stdout",
     "output_type": "stream",
     "text": [
      "190, [90]\n"
     ]
    }
   ],
   "source": [
    "print(numbers)"
   ]
  },
  {
   "cell_type": "code",
   "execution_count": 8,
   "id": "b5efb4f1",
   "metadata": {},
   "outputs": [
    {
     "name": "stdout",
     "output_type": "stream",
     "text": [
      "<class 'str'>\n"
     ]
    }
   ],
   "source": [
    "print(type(numbers))"
   ]
  },
  {
   "cell_type": "code",
   "execution_count": null,
   "id": "58460c60",
   "metadata": {},
   "outputs": [],
   "source": []
  },
  {
   "cell_type": "code",
   "execution_count": null,
   "id": "93efd303",
   "metadata": {},
   "outputs": [],
   "source": []
  },
  {
   "cell_type": "code",
   "execution_count": null,
   "id": "90cdbb05",
   "metadata": {},
   "outputs": [],
   "source": []
  },
  {
   "cell_type": "code",
   "execution_count": 4,
   "id": "a6230cf3",
   "metadata": {},
   "outputs": [],
   "source": [
    "numbers_of_tanants = \"300\""
   ]
  },
  {
   "cell_type": "code",
   "execution_count": 5,
   "id": "6b0fb11b",
   "metadata": {},
   "outputs": [
    {
     "name": "stdout",
     "output_type": "stream",
     "text": [
      "300\n"
     ]
    }
   ],
   "source": [
    "print(numbers_of_tanants)"
   ]
  },
  {
   "cell_type": "code",
   "execution_count": 6,
   "id": "ea137bbe",
   "metadata": {},
   "outputs": [
    {
     "name": "stdout",
     "output_type": "stream",
     "text": [
      "<class 'str'>\n"
     ]
    }
   ],
   "source": [
    "print(type(numbers_of_tanants))"
   ]
  },
  {
   "cell_type": "code",
   "execution_count": 7,
   "id": "931f4341",
   "metadata": {},
   "outputs": [
    {
     "name": "stdout",
     "output_type": "stream",
     "text": [
      "300\n"
     ]
    }
   ],
   "source": [
    "print(int(numbers_of_tanants))"
   ]
  },
  {
   "cell_type": "code",
   "execution_count": 8,
   "id": "e7cd3a0d",
   "metadata": {},
   "outputs": [
    {
     "name": "stdout",
     "output_type": "stream",
     "text": [
      "<class 'str'>\n"
     ]
    }
   ],
   "source": [
    "print(type(numbers_of_tanants))"
   ]
  },
  {
   "cell_type": "code",
   "execution_count": 9,
   "id": "a7ec3040",
   "metadata": {},
   "outputs": [],
   "source": [
    "convert_str_to_int = int(numbers_of_tanants)"
   ]
  },
  {
   "cell_type": "code",
   "execution_count": 10,
   "id": "0c2da26e",
   "metadata": {},
   "outputs": [
    {
     "name": "stdout",
     "output_type": "stream",
     "text": [
      "300\n"
     ]
    }
   ],
   "source": [
    "print(convert_str_to_int)"
   ]
  },
  {
   "cell_type": "code",
   "execution_count": 11,
   "id": "3d896d85",
   "metadata": {},
   "outputs": [
    {
     "name": "stdout",
     "output_type": "stream",
     "text": [
      "<class 'int'>\n"
     ]
    }
   ],
   "source": [
    "print(type(convert_str_to_int))"
   ]
  },
  {
   "cell_type": "code",
   "execution_count": null,
   "id": "bedf1546",
   "metadata": {},
   "outputs": [],
   "source": []
  },
  {
   "cell_type": "code",
   "execution_count": null,
   "id": "47dc9565",
   "metadata": {},
   "outputs": [],
   "source": []
  },
  {
   "cell_type": "code",
   "execution_count": 15,
   "id": "50bbdfd4",
   "metadata": {},
   "outputs": [
    {
     "name": "stdout",
     "output_type": "stream",
     "text": [
      "Mr evans hallo all is gut\n"
     ]
    }
   ],
   "source": [
    "Tittle = \"Mr \"\n",
    "name = \"evans\"\n",
    "greetings = \" hallo all is gut\"\n",
    "print(Tittle + name + greetings)"
   ]
  },
  {
   "cell_type": "code",
   "execution_count": null,
   "id": "2399ab89",
   "metadata": {},
   "outputs": [],
   "source": []
  },
  {
   "cell_type": "code",
   "execution_count": null,
   "id": "272f9815",
   "metadata": {},
   "outputs": [],
   "source": []
  },
  {
   "cell_type": "code",
   "execution_count": null,
   "id": "23fc6998",
   "metadata": {},
   "outputs": [],
   "source": []
  },
  {
   "cell_type": "code",
   "execution_count": 1,
   "id": "2682f88d",
   "metadata": {},
   "outputs": [],
   "source": [
    "### adding temprature variable to the expression \n",
    "\n",
    "temperature = \"18\""
   ]
  },
  {
   "cell_type": "code",
   "execution_count": 2,
   "id": "ddd21cc5",
   "metadata": {},
   "outputs": [
    {
     "name": "stdout",
     "output_type": "stream",
     "text": [
      "18 degrees\n"
     ]
    }
   ],
   "source": [
    "print(temperature + \" degrees\")"
   ]
  },
  {
   "cell_type": "code",
   "execution_count": null,
   "id": "734b7a1f",
   "metadata": {},
   "outputs": [],
   "source": []
  },
  {
   "cell_type": "code",
   "execution_count": 3,
   "id": "8ca6d167",
   "metadata": {},
   "outputs": [],
   "source": [
    "## we can use variables with numbers for calculations \n",
    "\n",
    "number_of_steps = 70"
   ]
  },
  {
   "cell_type": "code",
   "execution_count": 4,
   "id": "5e4c956c",
   "metadata": {},
   "outputs": [
    {
     "name": "stdout",
     "output_type": "stream",
     "text": [
      "you are on step:\n",
      "71\n"
     ]
    }
   ],
   "source": [
    "print(\"you are on step:\")\n",
    "print(number_of_steps + 1)"
   ]
  },
  {
   "cell_type": "code",
   "execution_count": null,
   "id": "d8834a5f",
   "metadata": {},
   "outputs": [],
   "source": []
  },
  {
   "cell_type": "code",
   "execution_count": null,
   "id": "edf3425e",
   "metadata": {},
   "outputs": [],
   "source": []
  },
  {
   "cell_type": "code",
   "execution_count": 2,
   "id": "de6b1635",
   "metadata": {},
   "outputs": [
    {
     "name": "stdout",
     "output_type": "stream",
     "text": [
      "70.0\n"
     ]
    }
   ],
   "source": [
    "### dividing two variable to get the average grade of class \n",
    "\n",
    "sum_of_grades = 700\n",
    "students = 10\n",
    "print(sum_of_grades / students)"
   ]
  },
  {
   "cell_type": "code",
   "execution_count": null,
   "id": "2710d2e8",
   "metadata": {},
   "outputs": [],
   "source": []
  },
  {
   "cell_type": "code",
   "execution_count": null,
   "id": "6d18701e",
   "metadata": {},
   "outputs": [],
   "source": []
  },
  {
   "cell_type": "code",
   "execution_count": 3,
   "id": "1a40e3f2",
   "metadata": {},
   "outputs": [
    {
     "name": "stdout",
     "output_type": "stream",
     "text": [
      "False\n"
     ]
    }
   ],
   "source": [
    "### when we change a value to its opposite with not, we negate it , like here with not True \n",
    "\n",
    "print(not True)"
   ]
  },
  {
   "cell_type": "code",
   "execution_count": null,
   "id": "ec0033a7",
   "metadata": {},
   "outputs": [],
   "source": []
  },
  {
   "cell_type": "code",
   "execution_count": 4,
   "id": "a58e53bf",
   "metadata": {},
   "outputs": [],
   "source": [
    "### checking if the value of variable is equal to 30\n",
    "\n",
    "votes = 50"
   ]
  },
  {
   "cell_type": "code",
   "execution_count": 5,
   "id": "d62072ad",
   "metadata": {},
   "outputs": [
    {
     "name": "stdout",
     "output_type": "stream",
     "text": [
      "False\n"
     ]
    }
   ],
   "source": [
    "print(votes == 30)"
   ]
  },
  {
   "cell_type": "code",
   "execution_count": 6,
   "id": "faf38db4",
   "metadata": {},
   "outputs": [
    {
     "name": "stdout",
     "output_type": "stream",
     "text": [
      "True\n"
     ]
    }
   ],
   "source": [
    "print(votes == 50)"
   ]
  },
  {
   "cell_type": "code",
   "execution_count": null,
   "id": "75617a93",
   "metadata": {},
   "outputs": [],
   "source": []
  },
  {
   "cell_type": "code",
   "execution_count": null,
   "id": "faf72d89",
   "metadata": {},
   "outputs": [],
   "source": []
  },
  {
   "cell_type": "code",
   "execution_count": 7,
   "id": "b09a2132",
   "metadata": {},
   "outputs": [
    {
     "name": "stdout",
     "output_type": "stream",
     "text": [
      "True\n"
     ]
    }
   ],
   "source": [
    "### to check if a number Isn’t equal to another number , we use the inequality operation, !=\n",
    "\n",
    "print(1 != 20)"
   ]
  },
  {
   "cell_type": "code",
   "execution_count": 9,
   "id": "0f74d2ac",
   "metadata": {},
   "outputs": [],
   "source": [
    "numbers_of_student = 100\n",
    "numbers_of_student_present_in_class_today = 78"
   ]
  },
  {
   "cell_type": "code",
   "execution_count": 14,
   "id": "d360a4aa",
   "metadata": {},
   "outputs": [
    {
     "name": "stdout",
     "output_type": "stream",
     "text": [
      "True\n"
     ]
    }
   ],
   "source": [
    "print( numbers_of_student_present_in_class_today != numbers_of_student)"
   ]
  },
  {
   "cell_type": "code",
   "execution_count": null,
   "id": "85f8da80",
   "metadata": {},
   "outputs": [],
   "source": []
  },
  {
   "cell_type": "code",
   "execution_count": 15,
   "id": "40c908ec",
   "metadata": {},
   "outputs": [
    {
     "name": "stdout",
     "output_type": "stream",
     "text": [
      "False\n"
     ]
    }
   ],
   "source": [
    "### variables can store the result of equality comparisons\n",
    "\n",
    "\n",
    "result = 1 == 5\n",
    "print(result)"
   ]
  },
  {
   "cell_type": "code",
   "execution_count": null,
   "id": "9a41c560",
   "metadata": {},
   "outputs": [],
   "source": []
  },
  {
   "cell_type": "code",
   "execution_count": 23,
   "id": "61c1980b",
   "metadata": {},
   "outputs": [
    {
     "name": "stdout",
     "output_type": "stream",
     "text": [
      "False\n"
     ]
    }
   ],
   "source": [
    "date_of_birth = 19 == 26\n",
    "print(date_of_birth)"
   ]
  },
  {
   "cell_type": "code",
   "execution_count": null,
   "id": "8aa606e6",
   "metadata": {},
   "outputs": [],
   "source": []
  },
  {
   "cell_type": "code",
   "execution_count": null,
   "id": "46dc596b",
   "metadata": {},
   "outputs": [],
   "source": []
  },
  {
   "cell_type": "code",
   "execution_count": 31,
   "id": "f484275f",
   "metadata": {
    "scrolled": true
   },
   "outputs": [
    {
     "name": "stdout",
     "output_type": "stream",
     "text": [
      "False\n"
     ]
    }
   ],
   "source": [
    "### we can compare values with variables and variables with other variables with ==\n",
    "\n",
    "number_1 = 40\n",
    "\n",
    "number_2 = 50 \n",
    "\n",
    "print(number_1 == number_2)"
   ]
  },
  {
   "cell_type": "code",
   "execution_count": 32,
   "id": "a4b554e6",
   "metadata": {},
   "outputs": [
    {
     "name": "stdout",
     "output_type": "stream",
     "text": [
      "True\n"
     ]
    }
   ],
   "source": [
    "print(number_1 != number_2)"
   ]
  },
  {
   "cell_type": "code",
   "execution_count": null,
   "id": "961a3414",
   "metadata": {},
   "outputs": [],
   "source": []
  },
  {
   "cell_type": "code",
   "execution_count": 33,
   "id": "943b1af8",
   "metadata": {},
   "outputs": [
    {
     "name": "stdout",
     "output_type": "stream",
     "text": [
      "False\n"
     ]
    }
   ],
   "source": [
    "print(40 == number_2)"
   ]
  },
  {
   "cell_type": "code",
   "execution_count": 35,
   "id": "66034a1b",
   "metadata": {},
   "outputs": [
    {
     "name": "stdout",
     "output_type": "stream",
     "text": [
      "True\n"
     ]
    }
   ],
   "source": [
    "print(number_1 != 50)"
   ]
  },
  {
   "cell_type": "code",
   "execution_count": null,
   "id": "b9635f0e",
   "metadata": {},
   "outputs": [],
   "source": []
  },
  {
   "cell_type": "code",
   "execution_count": null,
   "id": "2fb39740",
   "metadata": {},
   "outputs": [],
   "source": []
  },
  {
   "cell_type": "code",
   "execution_count": 2,
   "id": "5a6dcd8c",
   "metadata": {},
   "outputs": [
    {
     "name": "stdout",
     "output_type": "stream",
     "text": [
      "True\n"
     ]
    }
   ],
   "source": [
    "orders = 1000\n",
    "capacity = orders == 1000\n",
    "print(capacity)"
   ]
  },
  {
   "cell_type": "code",
   "execution_count": null,
   "id": "4f52d4c8",
   "metadata": {},
   "outputs": [],
   "source": []
  },
  {
   "cell_type": "code",
   "execution_count": null,
   "id": "73b0e3fb",
   "metadata": {},
   "outputs": [],
   "source": []
  },
  {
   "cell_type": "code",
   "execution_count": 2,
   "id": "90ec8abe",
   "metadata": {},
   "outputs": [
    {
     "name": "stdout",
     "output_type": "stream",
     "text": [
      "new message\n"
     ]
    }
   ],
   "source": [
    "print(\"new\" + \" message\")"
   ]
  },
  {
   "cell_type": "code",
   "execution_count": null,
   "id": "092d897b",
   "metadata": {},
   "outputs": [],
   "source": []
  },
  {
   "cell_type": "code",
   "execution_count": 5,
   "id": "b2e31991",
   "metadata": {},
   "outputs": [
    {
     "name": "stdout",
     "output_type": "stream",
     "text": [
      " 5 new message\n"
     ]
    }
   ],
   "source": [
    "#### using formatted string \n",
    "\n",
    "print(f\" {5} new message\")"
   ]
  },
  {
   "cell_type": "code",
   "execution_count": null,
   "id": "f12b11df",
   "metadata": {},
   "outputs": [],
   "source": []
  },
  {
   "cell_type": "code",
   "execution_count": 9,
   "id": "272a9a9d",
   "metadata": {},
   "outputs": [
    {
     "name": "stdout",
     "output_type": "stream",
     "text": [
      " you currently have 19 new messages and 7 friend request\n"
     ]
    }
   ],
   "source": [
    "### we can use curly braces to insert values as often as we like inside the f_string. \n",
    "\n",
    "print(f\" you currently have {19} new messages and {7} friend request\" )"
   ]
  },
  {
   "cell_type": "code",
   "execution_count": null,
   "id": "455b3857",
   "metadata": {},
   "outputs": [],
   "source": []
  },
  {
   "cell_type": "code",
   "execution_count": null,
   "id": "3f6b63bc",
   "metadata": {},
   "outputs": [],
   "source": []
  },
  {
   "cell_type": "code",
   "execution_count": 4,
   "id": "90ec9355",
   "metadata": {},
   "outputs": [
    {
     "name": "stdout",
     "output_type": "stream",
     "text": [
      "popularity increased by 45%\n"
     ]
    }
   ],
   "source": [
    "print(f\"popularity increased by {45}%\")"
   ]
  },
  {
   "cell_type": "code",
   "execution_count": null,
   "id": "96c551b3",
   "metadata": {},
   "outputs": [],
   "source": []
  },
  {
   "cell_type": "code",
   "execution_count": 7,
   "id": "b0ebf77b",
   "metadata": {},
   "outputs": [
    {
     "name": "stdout",
     "output_type": "stream",
     "text": [
      "Temperature: 90F\n"
     ]
    }
   ],
   "source": [
    "### displaying the current temperature by coding \n",
    "\n",
    "degree = 90\n",
    "\n",
    "print(f\"Temperature: {degree}F\")"
   ]
  },
  {
   "cell_type": "code",
   "execution_count": null,
   "id": "062dc310",
   "metadata": {},
   "outputs": [],
   "source": []
  },
  {
   "cell_type": "code",
   "execution_count": 2,
   "id": "cdc783f0",
   "metadata": {},
   "outputs": [
    {
     "name": "stdout",
     "output_type": "stream",
     "text": [
      "low battery:\n",
      "True\n"
     ]
    }
   ],
   "source": [
    "battery_level = 30\n",
    "low = battery_level <= 50\n",
    "print(\"low battery:\")\n",
    "print(low)"
   ]
  },
  {
   "cell_type": "code",
   "execution_count": null,
   "id": "8ce4be5e",
   "metadata": {},
   "outputs": [],
   "source": []
  },
  {
   "cell_type": "code",
   "execution_count": null,
   "id": "52e7a374",
   "metadata": {},
   "outputs": [],
   "source": []
  },
  {
   "cell_type": "code",
   "execution_count": 1,
   "id": "8d60ae50",
   "metadata": {},
   "outputs": [],
   "source": [
    "name = \"kole\""
   ]
  },
  {
   "cell_type": "code",
   "execution_count": 2,
   "id": "b0593c98",
   "metadata": {},
   "outputs": [
    {
     "name": "stdout",
     "output_type": "stream",
     "text": [
      "kole\n"
     ]
    }
   ],
   "source": [
    "print(name)"
   ]
  },
  {
   "cell_type": "code",
   "execution_count": 4,
   "id": "7d43ed0e",
   "metadata": {},
   "outputs": [
    {
     "name": "stdout",
     "output_type": "stream",
     "text": [
      "kole how are you\n"
     ]
    }
   ],
   "source": [
    "print(name + \" how are you\")"
   ]
  },
  {
   "cell_type": "code",
   "execution_count": null,
   "id": "4f277c4d",
   "metadata": {},
   "outputs": [],
   "source": []
  },
  {
   "cell_type": "code",
   "execution_count": null,
   "id": "bb5331af",
   "metadata": {},
   "outputs": [],
   "source": []
  },
  {
   "cell_type": "code",
   "execution_count": 2,
   "id": "d2f3d389",
   "metadata": {},
   "outputs": [],
   "source": [
    "numbers = []"
   ]
  },
  {
   "cell_type": "code",
   "execution_count": 3,
   "id": "ae90ed44",
   "metadata": {},
   "outputs": [
    {
     "name": "stdout",
     "output_type": "stream",
     "text": [
      "[]\n"
     ]
    }
   ],
   "source": [
    "print(numbers)"
   ]
  },
  {
   "cell_type": "code",
   "execution_count": null,
   "id": "50aee594",
   "metadata": {},
   "outputs": [],
   "source": []
  },
  {
   "cell_type": "code",
   "execution_count": 4,
   "id": "19f1faba",
   "metadata": {},
   "outputs": [],
   "source": [
    "numbers.append(89)"
   ]
  },
  {
   "cell_type": "code",
   "execution_count": 5,
   "id": "f98201ab",
   "metadata": {},
   "outputs": [
    {
     "name": "stdout",
     "output_type": "stream",
     "text": [
      "[89]\n"
     ]
    }
   ],
   "source": [
    "print(numbers)"
   ]
  },
  {
   "cell_type": "code",
   "execution_count": 6,
   "id": "a534df77",
   "metadata": {},
   "outputs": [],
   "source": [
    "numbers.append(158)"
   ]
  },
  {
   "cell_type": "code",
   "execution_count": 7,
   "id": "ae0d6584",
   "metadata": {},
   "outputs": [],
   "source": [
    "numbers.append(90.5)"
   ]
  },
  {
   "cell_type": "code",
   "execution_count": 8,
   "id": "15e21468",
   "metadata": {},
   "outputs": [
    {
     "name": "stdout",
     "output_type": "stream",
     "text": [
      "[89, 158, 90.5]\n"
     ]
    }
   ],
   "source": [
    "print(numbers)"
   ]
  },
  {
   "cell_type": "code",
   "execution_count": 9,
   "id": "d9da72b9",
   "metadata": {},
   "outputs": [],
   "source": [
    "numbers.append(214.8)"
   ]
  },
  {
   "cell_type": "code",
   "execution_count": 10,
   "id": "80c725f4",
   "metadata": {},
   "outputs": [],
   "source": [
    "numbers.append(21)"
   ]
  },
  {
   "cell_type": "code",
   "execution_count": 11,
   "id": "48582316",
   "metadata": {},
   "outputs": [
    {
     "name": "stdout",
     "output_type": "stream",
     "text": [
      "[89, 158, 90.5, 214.8, 21]\n"
     ]
    }
   ],
   "source": [
    "print(numbers)"
   ]
  },
  {
   "cell_type": "code",
   "execution_count": 12,
   "id": "454d9d12",
   "metadata": {},
   "outputs": [
    {
     "name": "stdout",
     "output_type": "stream",
     "text": [
      "<class 'list'>\n"
     ]
    }
   ],
   "source": [
    "print(type(numbers))"
   ]
  },
  {
   "cell_type": "code",
   "execution_count": null,
   "id": "566e5625",
   "metadata": {},
   "outputs": [],
   "source": []
  },
  {
   "cell_type": "code",
   "execution_count": 13,
   "id": "7b40a112",
   "metadata": {},
   "outputs": [
    {
     "name": "stdout",
     "output_type": "stream",
     "text": [
      "[89, 158, 90.5, 214.8, 21]\n"
     ]
    }
   ],
   "source": [
    "print(numbers)"
   ]
  },
  {
   "cell_type": "code",
   "execution_count": 15,
   "id": "57e9a5e4",
   "metadata": {},
   "outputs": [
    {
     "name": "stdout",
     "output_type": "stream",
     "text": [
      "hello\n"
     ]
    }
   ],
   "source": [
    "print(\"hello\")"
   ]
  },
  {
   "cell_type": "code",
   "execution_count": null,
   "id": "d732e225",
   "metadata": {},
   "outputs": [],
   "source": []
  },
  {
   "cell_type": "code",
   "execution_count": null,
   "id": "5c5daecc",
   "metadata": {},
   "outputs": [],
   "source": []
  },
  {
   "cell_type": "code",
   "execution_count": 1,
   "id": "5c007a9e",
   "metadata": {},
   "outputs": [],
   "source": [
    "names_of_students = [\"evans:20, tope:32, ola:34, johnson:21\"]"
   ]
  },
  {
   "cell_type": "code",
   "execution_count": 2,
   "id": "1d12b3fc",
   "metadata": {},
   "outputs": [
    {
     "name": "stdout",
     "output_type": "stream",
     "text": [
      "['evans:20, tope:32, ola:34, johnson:21']\n"
     ]
    }
   ],
   "source": [
    "print(names_of_students)"
   ]
  },
  {
   "cell_type": "code",
   "execution_count": 3,
   "id": "d74a0efb",
   "metadata": {},
   "outputs": [
    {
     "name": "stdout",
     "output_type": "stream",
     "text": [
      "<class 'list'>\n"
     ]
    }
   ],
   "source": [
    "print(type(names_of_students))"
   ]
  },
  {
   "cell_type": "code",
   "execution_count": 5,
   "id": "428cc74a",
   "metadata": {},
   "outputs": [],
   "source": [
    "names_of_students.append(\"fola:40\")"
   ]
  },
  {
   "cell_type": "code",
   "execution_count": 6,
   "id": "c03e307b",
   "metadata": {},
   "outputs": [
    {
     "name": "stdout",
     "output_type": "stream",
     "text": [
      "['evans:20, tope:32, ola:34, johnson:21', 'fola:40']\n"
     ]
    }
   ],
   "source": [
    "print(names_of_students)"
   ]
  },
  {
   "cell_type": "code",
   "execution_count": 7,
   "id": "06108fd7",
   "metadata": {},
   "outputs": [
    {
     "name": "stdout",
     "output_type": "stream",
     "text": [
      "2\n"
     ]
    }
   ],
   "source": [
    "print(len(names_of_students))"
   ]
  },
  {
   "cell_type": "code",
   "execution_count": null,
   "id": "5d2bf6e7",
   "metadata": {},
   "outputs": [],
   "source": []
  },
  {
   "cell_type": "code",
   "execution_count": 1,
   "id": "fdc71263",
   "metadata": {},
   "outputs": [],
   "source": [
    "name = \"tope\""
   ]
  },
  {
   "cell_type": "code",
   "execution_count": 2,
   "id": "2490af67",
   "metadata": {},
   "outputs": [
    {
     "name": "stdout",
     "output_type": "stream",
     "text": [
      "tope\n"
     ]
    }
   ],
   "source": [
    "print(name)"
   ]
  },
  {
   "cell_type": "code",
   "execution_count": 3,
   "id": "863c41e0",
   "metadata": {},
   "outputs": [
    {
     "name": "stdout",
     "output_type": "stream",
     "text": [
      "<class 'str'>\n"
     ]
    }
   ],
   "source": [
    "print(type(name))"
   ]
  },
  {
   "cell_type": "code",
   "execution_count": null,
   "id": "09dda2e4",
   "metadata": {},
   "outputs": [],
   "source": []
  },
  {
   "cell_type": "code",
   "execution_count": null,
   "id": "0dd2c373",
   "metadata": {},
   "outputs": [],
   "source": []
  },
  {
   "cell_type": "code",
   "execution_count": 1,
   "id": "460ca2e8",
   "metadata": {},
   "outputs": [],
   "source": [
    "name = []"
   ]
  },
  {
   "cell_type": "code",
   "execution_count": 2,
   "id": "ce5e6492",
   "metadata": {},
   "outputs": [
    {
     "name": "stdout",
     "output_type": "stream",
     "text": [
      "[]\n"
     ]
    }
   ],
   "source": [
    "print(name)"
   ]
  },
  {
   "cell_type": "code",
   "execution_count": 3,
   "id": "b87bb097",
   "metadata": {},
   "outputs": [],
   "source": [
    "name.append(\"ola\")"
   ]
  },
  {
   "cell_type": "code",
   "execution_count": 4,
   "id": "b8ce824f",
   "metadata": {},
   "outputs": [],
   "source": [
    "name.append(\"tosin\")"
   ]
  },
  {
   "cell_type": "code",
   "execution_count": 5,
   "id": "95d054ab",
   "metadata": {},
   "outputs": [
    {
     "name": "stdout",
     "output_type": "stream",
     "text": [
      "['ola', 'tosin']\n"
     ]
    }
   ],
   "source": [
    "print(name)"
   ]
  },
  {
   "cell_type": "code",
   "execution_count": 6,
   "id": "fc9d20b9",
   "metadata": {},
   "outputs": [],
   "source": [
    "name.append(\"evans\")"
   ]
  },
  {
   "cell_type": "code",
   "execution_count": 7,
   "id": "20c085d4",
   "metadata": {},
   "outputs": [],
   "source": [
    "name.append(40)"
   ]
  },
  {
   "cell_type": "code",
   "execution_count": 8,
   "id": "44808e85",
   "metadata": {},
   "outputs": [
    {
     "name": "stdout",
     "output_type": "stream",
     "text": [
      "['ola', 'tosin', 'evans', 40]\n"
     ]
    }
   ],
   "source": [
    "print(name)"
   ]
  },
  {
   "cell_type": "code",
   "execution_count": 9,
   "id": "91859b97",
   "metadata": {},
   "outputs": [],
   "source": [
    "name.remove(40)"
   ]
  },
  {
   "cell_type": "code",
   "execution_count": 10,
   "id": "fb0149a7",
   "metadata": {},
   "outputs": [
    {
     "name": "stdout",
     "output_type": "stream",
     "text": [
      "['ola', 'tosin', 'evans']\n"
     ]
    }
   ],
   "source": [
    "print(name)"
   ]
  },
  {
   "cell_type": "code",
   "execution_count": null,
   "id": "20e2dc51",
   "metadata": {},
   "outputs": [],
   "source": []
  },
  {
   "cell_type": "code",
   "execution_count": null,
   "id": "d2fc0566",
   "metadata": {},
   "outputs": [],
   "source": []
  },
  {
   "cell_type": "code",
   "execution_count": 1,
   "id": "d0844274",
   "metadata": {},
   "outputs": [
    {
     "name": "stdout",
     "output_type": "stream",
     "text": [
      "a and b are equal\n"
     ]
    }
   ],
   "source": [
    "a = 33\n",
    "b = 33\n",
    "if b > a:\n",
    "  print(\"b is greater than a\")\n",
    "elif a == b:\n",
    "  print(\"a and b are equal\")"
   ]
  },
  {
   "cell_type": "code",
   "execution_count": null,
   "id": "d873ae5a",
   "metadata": {},
   "outputs": [],
   "source": []
  },
  {
   "cell_type": "code",
   "execution_count": null,
   "id": "9e0b8fce",
   "metadata": {},
   "outputs": [],
   "source": []
  },
  {
   "cell_type": "code",
   "execution_count": 1,
   "id": "d6c69676",
   "metadata": {},
   "outputs": [],
   "source": [
    "name = \"evans\""
   ]
  },
  {
   "cell_type": "code",
   "execution_count": null,
   "id": "4b42b0c4",
   "metadata": {},
   "outputs": [],
   "source": []
  }
 ],
 "metadata": {
  "kernelspec": {
   "display_name": "Python 3 (ipykernel)",
   "language": "python",
   "name": "python3"
  },
  "language_info": {
   "codemirror_mode": {
    "name": "ipython",
    "version": 3
   },
   "file_extension": ".py",
   "mimetype": "text/x-python",
   "name": "python",
   "nbconvert_exporter": "python",
   "pygments_lexer": "ipython3",
   "version": "3.10.4"
  }
 },
 "nbformat": 4,
 "nbformat_minor": 5
}
