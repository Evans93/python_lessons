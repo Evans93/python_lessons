{
 "cells": [
  {
   "cell_type": "code",
   "execution_count": 3,
   "id": "e8fa2ef1",
   "metadata": {
    "scrolled": true
   },
   "outputs": [
    {
     "name": "stdout",
     "output_type": "stream",
     "text": [
      "enter your lucky numner: 10\n",
      "Congratulation you won\n"
     ]
    }
   ],
   "source": [
    "## if statment\n",
    "\n",
    "lucky_number = 10\n",
    "user = int(input(\"enter your lucky numner: \"))\n",
    "if user == lucky_number:\n",
    "    print(\"Congratulation you won\")\n",
    "else:\n",
    "    print(f\"ouh wrong numbr, try your luck again next time\")"
   ]
  },
  {
   "cell_type": "code",
   "execution_count": null,
   "id": "fcc34b6e",
   "metadata": {},
   "outputs": [],
   "source": []
  },
  {
   "cell_type": "code",
   "execution_count": 4,
   "id": "9d21f0a9",
   "metadata": {},
   "outputs": [
    {
     "name": "stdout",
     "output_type": "stream",
     "text": [
      "enter your lucky numner: 51\n",
      "ouh wrong numbr, try your luck again next time\n"
     ]
    }
   ],
   "source": [
    "lucky_number = 50\n",
    "user = int(input(\"enter your lucky numner: \"))\n",
    "if user == lucky_number:\n",
    "    print(\"Congratulation you won\")\n",
    "else:\n",
    "    print(f\"ouh wrong numbr, try your luck again next time\")"
   ]
  },
  {
   "cell_type": "code",
   "execution_count": null,
   "id": "ce9336f9",
   "metadata": {},
   "outputs": [],
   "source": []
  },
  {
   "cell_type": "code",
   "execution_count": null,
   "id": "21147e11",
   "metadata": {},
   "outputs": [],
   "source": []
  },
  {
   "cell_type": "code",
   "execution_count": 13,
   "id": "a9d5b896",
   "metadata": {},
   "outputs": [],
   "source": [
    "##converting list to tuple\n",
    "\n",
    "\n",
    "amount_of_loan_paid_by_debtors = [700.890, 400.234, 100.000, ]"
   ]
  },
  {
   "cell_type": "code",
   "execution_count": 14,
   "id": "2a370a8c",
   "metadata": {},
   "outputs": [
    {
     "name": "stdout",
     "output_type": "stream",
     "text": [
      "<class 'list'>\n"
     ]
    }
   ],
   "source": [
    "print(type(amount_of_loan_paid_by_debtors))"
   ]
  },
  {
   "cell_type": "code",
   "execution_count": 15,
   "id": "c79ada7b",
   "metadata": {},
   "outputs": [],
   "source": [
    "amount_of_loan_paid_by_debtors.append(500.900)"
   ]
  },
  {
   "cell_type": "code",
   "execution_count": 16,
   "id": "7f0327f2",
   "metadata": {},
   "outputs": [],
   "source": [
    "amount_of_loan_paid_by_debtors.append(390.593)"
   ]
  },
  {
   "cell_type": "code",
   "execution_count": 17,
   "id": "d9807d25",
   "metadata": {},
   "outputs": [
    {
     "name": "stdout",
     "output_type": "stream",
     "text": [
      "[700.89, 400.234, 100.0, 500.9, 390.593]\n"
     ]
    }
   ],
   "source": [
    "print(amount_of_loan_paid_by_debtors)"
   ]
  },
  {
   "cell_type": "code",
   "execution_count": 18,
   "id": "d4703b71",
   "metadata": {},
   "outputs": [],
   "source": [
    "convert_amount_of_loan_paid_by_debtors_to_tuple = tuple(amount_of_loan_paid_by_debtors)"
   ]
  },
  {
   "cell_type": "code",
   "execution_count": 19,
   "id": "573712b7",
   "metadata": {},
   "outputs": [
    {
     "name": "stdout",
     "output_type": "stream",
     "text": [
      "(700.89, 400.234, 100.0, 500.9, 390.593)\n"
     ]
    }
   ],
   "source": [
    "print(convert_amount_of_loan_paid_by_debtors_to_tuple)"
   ]
  },
  {
   "cell_type": "code",
   "execution_count": 20,
   "id": "4ec8effb",
   "metadata": {},
   "outputs": [
    {
     "name": "stdout",
     "output_type": "stream",
     "text": [
      "<class 'tuple'>\n"
     ]
    }
   ],
   "source": [
    "print(type(convert_amount_of_loan_paid_by_debtors_to_tuple))"
   ]
  },
  {
   "cell_type": "code",
   "execution_count": null,
   "id": "bf158225",
   "metadata": {},
   "outputs": [],
   "source": []
  },
  {
   "cell_type": "code",
   "execution_count": 22,
   "id": "d962e1de",
   "metadata": {},
   "outputs": [
    {
     "name": "stdout",
     "output_type": "stream",
     "text": [
      "200\n"
     ]
    }
   ],
   "source": [
    "number = 40 * 5\n",
    "print(number)"
   ]
  },
  {
   "cell_type": "code",
   "execution_count": null,
   "id": "693650bb",
   "metadata": {},
   "outputs": [],
   "source": []
  },
  {
   "cell_type": "code",
   "execution_count": 23,
   "id": "6180c4eb",
   "metadata": {},
   "outputs": [
    {
     "name": "stdout",
     "output_type": "stream",
     "text": [
      "0.5\n"
     ]
    }
   ],
   "source": [
    "number = 50/100\n",
    "print(number)"
   ]
  },
  {
   "cell_type": "code",
   "execution_count": null,
   "id": "77fc31e5",
   "metadata": {},
   "outputs": [],
   "source": []
  },
  {
   "cell_type": "code",
   "execution_count": 78,
   "id": "f3339dbc",
   "metadata": {},
   "outputs": [],
   "source": [
    "### converting set to list and then to tuple\n",
    "\n",
    "\n",
    "names_of_student_present_in_class = {\"evans 25 , ola 22 , johnson 21, tobi 27, tolu 30\"}"
   ]
  },
  {
   "cell_type": "code",
   "execution_count": 79,
   "id": "6369fa4a",
   "metadata": {},
   "outputs": [
    {
     "name": "stdout",
     "output_type": "stream",
     "text": [
      "{'evans 25 , ola 22 , johnson 21, tobi 27, tolu 30'}\n"
     ]
    }
   ],
   "source": [
    "print(names_of_student_present_in_class)"
   ]
  },
  {
   "cell_type": "code",
   "execution_count": 80,
   "id": "4f929fff",
   "metadata": {},
   "outputs": [
    {
     "name": "stdout",
     "output_type": "stream",
     "text": [
      "<class 'set'>\n"
     ]
    }
   ],
   "source": [
    "print(type(names_of_student_present_in_class))"
   ]
  },
  {
   "cell_type": "code",
   "execution_count": 81,
   "id": "da6adca8",
   "metadata": {},
   "outputs": [],
   "source": [
    "convert_set_to_list = list(names_of_student_present_in_class)"
   ]
  },
  {
   "cell_type": "code",
   "execution_count": 82,
   "id": "ebdb41f5",
   "metadata": {},
   "outputs": [
    {
     "name": "stdout",
     "output_type": "stream",
     "text": [
      "['evans 25 , ola 22 , johnson 21, tobi 27, tolu 30']\n"
     ]
    }
   ],
   "source": [
    "print(convert_set_to_list )"
   ]
  },
  {
   "cell_type": "code",
   "execution_count": 83,
   "id": "531d82b8",
   "metadata": {},
   "outputs": [],
   "source": [
    "convert_set_to_list.append(\"kola,34\")"
   ]
  },
  {
   "cell_type": "code",
   "execution_count": 84,
   "id": "bc77c27f",
   "metadata": {},
   "outputs": [],
   "source": [
    "convert_set_to_list.append(\"funmilayo,22\")"
   ]
  },
  {
   "cell_type": "code",
   "execution_count": 85,
   "id": "9f42273f",
   "metadata": {},
   "outputs": [
    {
     "name": "stdout",
     "output_type": "stream",
     "text": [
      "['evans 25 , ola 22 , johnson 21, tobi 27, tolu 30', 'kola,34', 'funmilayo,22']\n"
     ]
    }
   ],
   "source": [
    "print(convert_set_to_list)"
   ]
  },
  {
   "cell_type": "code",
   "execution_count": 86,
   "id": "571260d3",
   "metadata": {},
   "outputs": [],
   "source": [
    "convert_set_to_list.remove(\"kola,34\")"
   ]
  },
  {
   "cell_type": "code",
   "execution_count": 87,
   "id": "8a47fd71",
   "metadata": {},
   "outputs": [
    {
     "name": "stdout",
     "output_type": "stream",
     "text": [
      "['evans 25 , ola 22 , johnson 21, tobi 27, tolu 30', 'funmilayo,22']\n"
     ]
    }
   ],
   "source": [
    "print(convert_set_to_list)"
   ]
  },
  {
   "cell_type": "code",
   "execution_count": 88,
   "id": "9cf05726",
   "metadata": {},
   "outputs": [],
   "source": [
    "convert_list_to_tuple = tuple(convert_set_to_list)"
   ]
  },
  {
   "cell_type": "code",
   "execution_count": 89,
   "id": "3a4e3286",
   "metadata": {},
   "outputs": [
    {
     "name": "stdout",
     "output_type": "stream",
     "text": [
      "('evans 25 , ola 22 , johnson 21, tobi 27, tolu 30', 'funmilayo,22')\n"
     ]
    }
   ],
   "source": [
    "print(convert_list_to_tuple)"
   ]
  },
  {
   "cell_type": "code",
   "execution_count": 90,
   "id": "bfe43d7d",
   "metadata": {},
   "outputs": [
    {
     "name": "stdout",
     "output_type": "stream",
     "text": [
      "<class 'tuple'>\n"
     ]
    }
   ],
   "source": [
    "print(type(convert_list_to_tuple))"
   ]
  },
  {
   "cell_type": "code",
   "execution_count": null,
   "id": "ff72230e",
   "metadata": {},
   "outputs": [],
   "source": []
  },
  {
   "cell_type": "code",
   "execution_count": null,
   "id": "18565495",
   "metadata": {},
   "outputs": [],
   "source": []
  },
  {
   "cell_type": "code",
   "execution_count": null,
   "id": "84b0ba97",
   "metadata": {},
   "outputs": [],
   "source": []
  },
  {
   "cell_type": "code",
   "execution_count": 9,
   "id": "badb0718",
   "metadata": {},
   "outputs": [
    {
     "name": "stdout",
     "output_type": "stream",
     "text": [
      "please play your wining number: 20\n",
      "you won\n"
     ]
    }
   ],
   "source": [
    "bet_wining_number = 20\n",
    "play = int(input(\"please play your wining number: \"))\n",
    "if play == 20:\n",
    "    print(\"you won\")\n",
    "else:\n",
    "    print(\"you are unlucky at this time, don’t give up you can try again next time \")"
   ]
  },
  {
   "cell_type": "code",
   "execution_count": null,
   "id": "1d9ade98",
   "metadata": {},
   "outputs": [],
   "source": []
  }
 ],
 "metadata": {
  "kernelspec": {
   "display_name": "Python 3 (ipykernel)",
   "language": "python",
   "name": "python3"
  },
  "language_info": {
   "codemirror_mode": {
    "name": "ipython",
    "version": 3
   },
   "file_extension": ".py",
   "mimetype": "text/x-python",
   "name": "python",
   "nbconvert_exporter": "python",
   "pygments_lexer": "ipython3",
   "version": "3.10.4"
  }
 },
 "nbformat": 4,
 "nbformat_minor": 5
}
