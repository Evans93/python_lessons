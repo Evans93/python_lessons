{
 "cells": [
  {
   "cell_type": "code",
   "execution_count": 3,
   "id": "e8fa2ef1",
   "metadata": {
    "scrolled": true
   },
   "outputs": [
    {
     "name": "stdout",
     "output_type": "stream",
     "text": [
      "enter your lucky numner: 10\n",
      "Congratulation you won\n"
     ]
    }
   ],
   "source": [
    "## if statment\n",
    "\n",
    "lucky_number = 10\n",
    "user = int(input(\"enter your lucky numner: \"))\n",
    "if user == lucky_number:\n",
    "    print(\"Congratulation you won\")\n",
    "else:\n",
    "    print(f\"ouh wrong numbr, try your luck again next time\")"
   ]
  },
  {
   "cell_type": "code",
   "execution_count": null,
   "id": "fcc34b6e",
   "metadata": {},
   "outputs": [],
   "source": []
  },
  {
   "cell_type": "code",
   "execution_count": 4,
   "id": "9d21f0a9",
   "metadata": {},
   "outputs": [
    {
     "name": "stdout",
     "output_type": "stream",
     "text": [
      "enter your lucky numner: 51\n",
      "ouh wrong numbr, try your luck again next time\n"
     ]
    }
   ],
   "source": [
    "lucky_number = 50\n",
    "user = int(input(\"enter your lucky numner: \"))\n",
    "if user == lucky_number:\n",
    "    print(\"Congratulation you won\")\n",
    "else:\n",
    "    print(f\"ouh wrong numbr, try your luck again next time\")"
   ]
  },
  {
   "cell_type": "code",
   "execution_count": null,
   "id": "ce9336f9",
   "metadata": {},
   "outputs": [],
   "source": []
  },
  {
   "cell_type": "code",
   "execution_count": null,
   "id": "21147e11",
   "metadata": {},
   "outputs": [],
   "source": []
  },
  {
   "cell_type": "code",
   "execution_count": 13,
   "id": "a9d5b896",
   "metadata": {},
   "outputs": [],
   "source": [
    "##converting list to tuple\n",
    "\n",
    "\n",
    "amount_of_loan_paid_by_debtors = [700.890, 400.234, 100.000, ]"
   ]
  },
  {
   "cell_type": "code",
   "execution_count": 14,
   "id": "2a370a8c",
   "metadata": {},
   "outputs": [
    {
     "name": "stdout",
     "output_type": "stream",
     "text": [
      "<class 'list'>\n"
     ]
    }
   ],
   "source": [
    "print(type(amount_of_loan_paid_by_debtors))"
   ]
  },
  {
   "cell_type": "code",
   "execution_count": 15,
   "id": "c79ada7b",
   "metadata": {},
   "outputs": [],
   "source": [
    "amount_of_loan_paid_by_debtors.append(500.900)"
   ]
  },
  {
   "cell_type": "code",
   "execution_count": 16,
   "id": "7f0327f2",
   "metadata": {},
   "outputs": [],
   "source": [
    "amount_of_loan_paid_by_debtors.append(390.593)"
   ]
  },
  {
   "cell_type": "code",
   "execution_count": 17,
   "id": "d9807d25",
   "metadata": {},
   "outputs": [
    {
     "name": "stdout",
     "output_type": "stream",
     "text": [
      "[700.89, 400.234, 100.0, 500.9, 390.593]\n"
     ]
    }
   ],
   "source": [
    "print(amount_of_loan_paid_by_debtors)"
   ]
  },
  {
   "cell_type": "code",
   "execution_count": 18,
   "id": "d4703b71",
   "metadata": {},
   "outputs": [],
   "source": [
    "convert_amount_of_loan_paid_by_debtors_to_tuple = tuple(amount_of_loan_paid_by_debtors)"
   ]
  },
  {
   "cell_type": "code",
   "execution_count": 19,
   "id": "573712b7",
   "metadata": {},
   "outputs": [
    {
     "name": "stdout",
     "output_type": "stream",
     "text": [
      "(700.89, 400.234, 100.0, 500.9, 390.593)\n"
     ]
    }
   ],
   "source": [
    "print(convert_amount_of_loan_paid_by_debtors_to_tuple)"
   ]
  },
  {
   "cell_type": "code",
   "execution_count": 20,
   "id": "4ec8effb",
   "metadata": {},
   "outputs": [
    {
     "name": "stdout",
     "output_type": "stream",
     "text": [
      "<class 'tuple'>\n"
     ]
    }
   ],
   "source": [
    "print(type(convert_amount_of_loan_paid_by_debtors_to_tuple))"
   ]
  },
  {
   "cell_type": "code",
   "execution_count": null,
   "id": "bf158225",
   "metadata": {},
   "outputs": [],
   "source": []
  },
  {
   "cell_type": "code",
   "execution_count": 22,
   "id": "d962e1de",
   "metadata": {},
   "outputs": [
    {
     "name": "stdout",
     "output_type": "stream",
     "text": [
      "200\n"
     ]
    }
   ],
   "source": [
    "number = 40 * 5\n",
    "print(number)"
   ]
  },
  {
   "cell_type": "code",
   "execution_count": null,
   "id": "693650bb",
   "metadata": {},
   "outputs": [],
   "source": []
  },
  {
   "cell_type": "code",
   "execution_count": 23,
   "id": "6180c4eb",
   "metadata": {},
   "outputs": [
    {
     "name": "stdout",
     "output_type": "stream",
     "text": [
      "0.5\n"
     ]
    }
   ],
   "source": [
    "number = 50/100\n",
    "print(number)"
   ]
  },
  {
   "cell_type": "code",
   "execution_count": null,
   "id": "77fc31e5",
   "metadata": {},
   "outputs": [],
   "source": []
  },
  {
   "cell_type": "code",
   "execution_count": 78,
   "id": "f3339dbc",
   "metadata": {},
   "outputs": [],
   "source": [
    "### converting set to list and then to tuple\n",
    "\n",
    "\n",
    "names_of_student_present_in_class = {\"evans 25 , ola 22 , johnson 21, tobi 27, tolu 30\"}"
   ]
  },
  {
   "cell_type": "code",
   "execution_count": 79,
   "id": "6369fa4a",
   "metadata": {},
   "outputs": [
    {
     "name": "stdout",
     "output_type": "stream",
     "text": [
      "{'evans 25 , ola 22 , johnson 21, tobi 27, tolu 30'}\n"
     ]
    }
   ],
   "source": [
    "print(names_of_student_present_in_class)"
   ]
  },
  {
   "cell_type": "code",
   "execution_count": 80,
   "id": "4f929fff",
   "metadata": {},
   "outputs": [
    {
     "name": "stdout",
     "output_type": "stream",
     "text": [
      "<class 'set'>\n"
     ]
    }
   ],
   "source": [
    "print(type(names_of_student_present_in_class))"
   ]
  },
  {
   "cell_type": "code",
   "execution_count": 81,
   "id": "da6adca8",
   "metadata": {},
   "outputs": [],
   "source": [
    "convert_set_to_list = list(names_of_student_present_in_class)"
   ]
  },
  {
   "cell_type": "code",
   "execution_count": 82,
   "id": "ebdb41f5",
   "metadata": {},
   "outputs": [
    {
     "name": "stdout",
     "output_type": "stream",
     "text": [
      "['evans 25 , ola 22 , johnson 21, tobi 27, tolu 30']\n"
     ]
    }
   ],
   "source": [
    "print(convert_set_to_list )"
   ]
  },
  {
   "cell_type": "code",
   "execution_count": 83,
   "id": "531d82b8",
   "metadata": {},
   "outputs": [],
   "source": [
    "convert_set_to_list.append(\"kola,34\")"
   ]
  },
  {
   "cell_type": "code",
   "execution_count": 84,
   "id": "bc77c27f",
   "metadata": {},
   "outputs": [],
   "source": [
    "convert_set_to_list.append(\"funmilayo,22\")"
   ]
  },
  {
   "cell_type": "code",
   "execution_count": 85,
   "id": "9f42273f",
   "metadata": {},
   "outputs": [
    {
     "name": "stdout",
     "output_type": "stream",
     "text": [
      "['evans 25 , ola 22 , johnson 21, tobi 27, tolu 30', 'kola,34', 'funmilayo,22']\n"
     ]
    }
   ],
   "source": [
    "print(convert_set_to_list)"
   ]
  },
  {
   "cell_type": "code",
   "execution_count": 86,
   "id": "571260d3",
   "metadata": {},
   "outputs": [],
   "source": [
    "convert_set_to_list.remove(\"kola,34\")"
   ]
  },
  {
   "cell_type": "code",
   "execution_count": 87,
   "id": "8a47fd71",
   "metadata": {},
   "outputs": [
    {
     "name": "stdout",
     "output_type": "stream",
     "text": [
      "['evans 25 , ola 22 , johnson 21, tobi 27, tolu 30', 'funmilayo,22']\n"
     ]
    }
   ],
   "source": [
    "print(convert_set_to_list)"
   ]
  },
  {
   "cell_type": "code",
   "execution_count": 88,
   "id": "9cf05726",
   "metadata": {},
   "outputs": [],
   "source": [
    "convert_list_to_tuple = tuple(convert_set_to_list)"
   ]
  },
  {
   "cell_type": "code",
   "execution_count": 89,
   "id": "3a4e3286",
   "metadata": {},
   "outputs": [
    {
     "name": "stdout",
     "output_type": "stream",
     "text": [
      "('evans 25 , ola 22 , johnson 21, tobi 27, tolu 30', 'funmilayo,22')\n"
     ]
    }
   ],
   "source": [
    "print(convert_list_to_tuple)"
   ]
  },
  {
   "cell_type": "code",
   "execution_count": 90,
   "id": "bfe43d7d",
   "metadata": {},
   "outputs": [
    {
     "name": "stdout",
     "output_type": "stream",
     "text": [
      "<class 'tuple'>\n"
     ]
    }
   ],
   "source": [
    "print(type(convert_list_to_tuple))"
   ]
  },
  {
   "cell_type": "code",
   "execution_count": null,
   "id": "ff72230e",
   "metadata": {},
   "outputs": [],
   "source": []
  },
  {
   "cell_type": "code",
   "execution_count": null,
   "id": "18565495",
   "metadata": {},
   "outputs": [],
   "source": []
  },
  {
   "cell_type": "code",
   "execution_count": null,
   "id": "84b0ba97",
   "metadata": {},
   "outputs": [],
   "source": []
  },
  {
   "cell_type": "code",
   "execution_count": 94,
   "id": "badb0718",
   "metadata": {},
   "outputs": [
    {
     "name": "stdout",
     "output_type": "stream",
     "text": [
      "please play your wining number: 20\n",
      "you won\n"
     ]
    }
   ],
   "source": [
    "## if and else statement\n",
    "\n",
    "\n",
    "bet_wining_number = 20\n",
    "play = int(input(\"please play your wining number: \"))\n",
    "if play == 20:\n",
    "    print(\"you won\")\n",
    "else:\n",
    "    print(\"you are unlucky at this time, don’t give up you can try again next time \")"
   ]
  },
  {
   "cell_type": "code",
   "execution_count": null,
   "id": "1d9ade98",
   "metadata": {},
   "outputs": [],
   "source": []
  },
  {
   "cell_type": "code",
   "execution_count": null,
   "id": "e7e0b5f9",
   "metadata": {},
   "outputs": [],
   "source": []
  },
  {
   "cell_type": "code",
   "execution_count": 16,
   "id": "7abbadcb",
   "metadata": {},
   "outputs": [],
   "source": [
    "## converting set to list\n",
    "\n",
    "names_of_student_present_in_class_today = {\"evans, foli, seyi, kunle, seye, dokun\"}"
   ]
  },
  {
   "cell_type": "code",
   "execution_count": 17,
   "id": "2ac6e54a",
   "metadata": {},
   "outputs": [
    {
     "name": "stdout",
     "output_type": "stream",
     "text": [
      "<class 'set'>\n"
     ]
    }
   ],
   "source": [
    "print(type(names_of_student_present_in_class_today))"
   ]
  },
  {
   "cell_type": "code",
   "execution_count": 18,
   "id": "b016a6f7",
   "metadata": {},
   "outputs": [
    {
     "name": "stdout",
     "output_type": "stream",
     "text": [
      "{'evans, foli, seyi, kunle, seye, dokun'}\n"
     ]
    }
   ],
   "source": [
    "print(names_of_student_present_in_class_today)"
   ]
  },
  {
   "cell_type": "code",
   "execution_count": 19,
   "id": "eb56d2ad",
   "metadata": {},
   "outputs": [],
   "source": [
    "convert_set_to_list = list(names_of_student_present_in_class_today)"
   ]
  },
  {
   "cell_type": "code",
   "execution_count": 20,
   "id": "be61db8c",
   "metadata": {},
   "outputs": [
    {
     "name": "stdout",
     "output_type": "stream",
     "text": [
      "['evans, foli, seyi, kunle, seye, dokun']\n"
     ]
    }
   ],
   "source": [
    "print(convert_set_to_list)"
   ]
  },
  {
   "cell_type": "code",
   "execution_count": 21,
   "id": "ebd80215",
   "metadata": {},
   "outputs": [],
   "source": [
    "convert_set_to_list.append(\"olasunkanmi\")"
   ]
  },
  {
   "cell_type": "code",
   "execution_count": 22,
   "id": "6afddfbf",
   "metadata": {},
   "outputs": [],
   "source": [
    "convert_set_to_list.append(\"precious\")"
   ]
  },
  {
   "cell_type": "code",
   "execution_count": 23,
   "id": "1d29c09c",
   "metadata": {},
   "outputs": [
    {
     "name": "stdout",
     "output_type": "stream",
     "text": [
      "['evans, foli, seyi, kunle, seye, dokun', 'olasunkanmi', 'precious']\n"
     ]
    }
   ],
   "source": [
    "print(convert_set_to_list)"
   ]
  },
  {
   "cell_type": "code",
   "execution_count": 24,
   "id": "ce8a3645",
   "metadata": {},
   "outputs": [],
   "source": [
    "convert_set_to_list.remove(\"precious\")"
   ]
  },
  {
   "cell_type": "code",
   "execution_count": 25,
   "id": "cd82201a",
   "metadata": {},
   "outputs": [
    {
     "name": "stdout",
     "output_type": "stream",
     "text": [
      "['evans, foli, seyi, kunle, seye, dokun', 'olasunkanmi']\n"
     ]
    }
   ],
   "source": [
    "print(convert_set_to_list)"
   ]
  },
  {
   "cell_type": "code",
   "execution_count": null,
   "id": "74dc8043",
   "metadata": {},
   "outputs": [],
   "source": []
  },
  {
   "cell_type": "code",
   "execution_count": 31,
   "id": "cec29a99",
   "metadata": {},
   "outputs": [],
   "source": [
    "## converting list to str\n",
    "\n",
    "\n",
    "convert_list_to_str = str(convert_set_to_list)"
   ]
  },
  {
   "cell_type": "code",
   "execution_count": 32,
   "id": "52a6e30c",
   "metadata": {},
   "outputs": [
    {
     "name": "stdout",
     "output_type": "stream",
     "text": [
      "['evans, foli, seyi, kunle, seye, dokun', 'olasunkanmi']\n"
     ]
    }
   ],
   "source": [
    "print(convert_list_to_str)"
   ]
  },
  {
   "cell_type": "code",
   "execution_count": 33,
   "id": "538fc37e",
   "metadata": {},
   "outputs": [
    {
     "name": "stdout",
     "output_type": "stream",
     "text": [
      "<class 'str'>\n"
     ]
    }
   ],
   "source": [
    "print(type(convert_list_to_str))"
   ]
  },
  {
   "cell_type": "code",
   "execution_count": null,
   "id": "efaa4106",
   "metadata": {},
   "outputs": [],
   "source": []
  },
  {
   "cell_type": "code",
   "execution_count": 42,
   "id": "12f11540",
   "metadata": {},
   "outputs": [
    {
     "data": {
      "text/plain": [
       "True"
      ]
     },
     "execution_count": 42,
     "metadata": {},
     "output_type": "execute_result"
    }
   ],
   "source": [
    "convert_list_to_str.endswith(convert_list_to_str)"
   ]
  },
  {
   "cell_type": "code",
   "execution_count": 43,
   "id": "e7a0e614",
   "metadata": {},
   "outputs": [
    {
     "name": "stdout",
     "output_type": "stream",
     "text": [
      "56\n"
     ]
    }
   ],
   "source": [
    "print(len(convert_list_to_str))"
   ]
  },
  {
   "cell_type": "code",
   "execution_count": 52,
   "id": "dfdb8088",
   "metadata": {},
   "outputs": [
    {
     "name": "stdout",
     "output_type": "stream",
     "text": [
      "['evans, foli, seyi, kunle, seye, dokun', 'olasunkanmi']\n"
     ]
    }
   ],
   "source": [
    "print(convert_list_to_str[0:56])"
   ]
  },
  {
   "cell_type": "code",
   "execution_count": null,
   "id": "81f7e7c1",
   "metadata": {},
   "outputs": [],
   "source": []
  },
  {
   "cell_type": "code",
   "execution_count": null,
   "id": "04aea2ff",
   "metadata": {},
   "outputs": [],
   "source": []
  },
  {
   "cell_type": "code",
   "execution_count": 81,
   "id": "dc079343",
   "metadata": {},
   "outputs": [],
   "source": [
    "## converting list to set and then back to list\n",
    "\n",
    "## when you convert list to set all the dubplicates names or numbers will be removed \n",
    "\n",
    "\n",
    "name = [\"evans\", \"ola\", \"johnson\", \"olu\", \"olu\" ,\"evans\"]"
   ]
  },
  {
   "cell_type": "code",
   "execution_count": 82,
   "id": "96450b47",
   "metadata": {},
   "outputs": [
    {
     "name": "stdout",
     "output_type": "stream",
     "text": [
      "<class 'list'>\n"
     ]
    }
   ],
   "source": [
    "print(type(name))"
   ]
  },
  {
   "cell_type": "code",
   "execution_count": 83,
   "id": "110f0677",
   "metadata": {},
   "outputs": [
    {
     "name": "stdout",
     "output_type": "stream",
     "text": [
      "['evans', 'ola', 'johnson', 'olu', 'olu', 'evans']\n"
     ]
    }
   ],
   "source": [
    "print(name)"
   ]
  },
  {
   "cell_type": "code",
   "execution_count": 84,
   "id": "35d9677d",
   "metadata": {},
   "outputs": [],
   "source": [
    "new_name = set(name)"
   ]
  },
  {
   "cell_type": "code",
   "execution_count": 85,
   "id": "14a545bd",
   "metadata": {},
   "outputs": [
    {
     "name": "stdout",
     "output_type": "stream",
     "text": [
      "{'olu', 'evans', 'ola', 'johnson'}\n"
     ]
    }
   ],
   "source": [
    "print(new_name)"
   ]
  },
  {
   "cell_type": "code",
   "execution_count": 86,
   "id": "72e0c186",
   "metadata": {},
   "outputs": [
    {
     "name": "stdout",
     "output_type": "stream",
     "text": [
      "<class 'set'>\n"
     ]
    }
   ],
   "source": [
    "print(type(new_name))"
   ]
  },
  {
   "cell_type": "code",
   "execution_count": 87,
   "id": "2fe6e148",
   "metadata": {},
   "outputs": [
    {
     "name": "stdout",
     "output_type": "stream",
     "text": [
      "['olu', 'evans', 'ola', 'johnson']\n"
     ]
    }
   ],
   "source": [
    "print(list(new_name))"
   ]
  },
  {
   "cell_type": "code",
   "execution_count": null,
   "id": "11539356",
   "metadata": {},
   "outputs": [],
   "source": []
  },
  {
   "cell_type": "code",
   "execution_count": 88,
   "id": "6fe5e72c",
   "metadata": {},
   "outputs": [],
   "source": [
    "\n",
    "## converting tuple to list and then back to tuple\n",
    " ## i only converted tuple to list because tuple does not has the attribute append\n",
    "\n",
    "\n",
    "\n",
    "numbers = (33, 55, 67, 14, 70)"
   ]
  },
  {
   "cell_type": "code",
   "execution_count": 89,
   "id": "1444f904",
   "metadata": {},
   "outputs": [
    {
     "name": "stdout",
     "output_type": "stream",
     "text": [
      "<class 'tuple'>\n"
     ]
    }
   ],
   "source": [
    "print(type(numbers))"
   ]
  },
  {
   "cell_type": "code",
   "execution_count": null,
   "id": "ee9e7936",
   "metadata": {},
   "outputs": [],
   "source": []
  },
  {
   "cell_type": "code",
   "execution_count": null,
   "id": "3e1fd4c3",
   "metadata": {},
   "outputs": [],
   "source": []
  },
  {
   "cell_type": "code",
   "execution_count": null,
   "id": "0e5a1b81",
   "metadata": {},
   "outputs": [],
   "source": []
  },
  {
   "cell_type": "code",
   "execution_count": 90,
   "id": "c5f1f8c1",
   "metadata": {},
   "outputs": [],
   "source": [
    "convert_tuple_to_list = list(numbers)"
   ]
  },
  {
   "cell_type": "code",
   "execution_count": 91,
   "id": "3029a08a",
   "metadata": {},
   "outputs": [
    {
     "name": "stdout",
     "output_type": "stream",
     "text": [
      "[33, 55, 67, 14, 70]\n"
     ]
    }
   ],
   "source": [
    "print(convert_tuple_to_list)"
   ]
  },
  {
   "cell_type": "code",
   "execution_count": 92,
   "id": "8647f4c9",
   "metadata": {},
   "outputs": [],
   "source": [
    "convert_tuple_to_list.append(100)"
   ]
  },
  {
   "cell_type": "code",
   "execution_count": 93,
   "id": "70ab2c7b",
   "metadata": {},
   "outputs": [
    {
     "name": "stdout",
     "output_type": "stream",
     "text": [
      "[33, 55, 67, 14, 70, 100]\n"
     ]
    }
   ],
   "source": [
    "print(convert_tuple_to_list)"
   ]
  },
  {
   "cell_type": "code",
   "execution_count": null,
   "id": "5e4caec8",
   "metadata": {},
   "outputs": [],
   "source": []
  },
  {
   "cell_type": "code",
   "execution_count": 78,
   "id": "52f53558",
   "metadata": {},
   "outputs": [],
   "source": [
    "convert_list_to_tuple = tuple(convert_tuple_to_list)"
   ]
  },
  {
   "cell_type": "code",
   "execution_count": 79,
   "id": "0cc1f938",
   "metadata": {},
   "outputs": [
    {
     "name": "stdout",
     "output_type": "stream",
     "text": [
      "(33, 55, 67, 14, 70, 100)\n"
     ]
    }
   ],
   "source": [
    "print(convert_list_to_tuple)"
   ]
  },
  {
   "cell_type": "code",
   "execution_count": 80,
   "id": "f005f810",
   "metadata": {},
   "outputs": [
    {
     "name": "stdout",
     "output_type": "stream",
     "text": [
      "<class 'tuple'>\n"
     ]
    }
   ],
   "source": [
    "print(type(convert_list_to_tuple))"
   ]
  },
  {
   "cell_type": "code",
   "execution_count": null,
   "id": "94b77dad",
   "metadata": {},
   "outputs": [],
   "source": []
  },
  {
   "cell_type": "code",
   "execution_count": null,
   "id": "c92f96f4",
   "metadata": {},
   "outputs": [],
   "source": []
  },
  {
   "cell_type": "code",
   "execution_count": 1,
   "id": "aa0854dd",
   "metadata": {},
   "outputs": [],
   "source": [
    "name = [\"evans, dotun, seye\"]"
   ]
  },
  {
   "cell_type": "code",
   "execution_count": 2,
   "id": "d7dc091e",
   "metadata": {},
   "outputs": [
    {
     "name": "stdout",
     "output_type": "stream",
     "text": [
      "<class 'list'>\n"
     ]
    }
   ],
   "source": [
    "print(type(name))"
   ]
  },
  {
   "cell_type": "code",
   "execution_count": 3,
   "id": "c107976f",
   "metadata": {},
   "outputs": [
    {
     "name": "stdout",
     "output_type": "stream",
     "text": [
      "['evans, dotun, seye']\n"
     ]
    }
   ],
   "source": [
    "print(name)"
   ]
  },
  {
   "cell_type": "code",
   "execution_count": 4,
   "id": "44fa00f7",
   "metadata": {},
   "outputs": [],
   "source": [
    "name.append(\"olu\")"
   ]
  },
  {
   "cell_type": "code",
   "execution_count": 5,
   "id": "d63b5806",
   "metadata": {},
   "outputs": [],
   "source": [
    "name.append(\"mr olu, 32\")"
   ]
  },
  {
   "cell_type": "code",
   "execution_count": 6,
   "id": "ef010c9c",
   "metadata": {},
   "outputs": [
    {
     "name": "stdout",
     "output_type": "stream",
     "text": [
      "['evans, dotun, seye', 'olu', 'mr olu, 32']\n"
     ]
    }
   ],
   "source": [
    "print(name)"
   ]
  },
  {
   "cell_type": "code",
   "execution_count": null,
   "id": "2fe95338",
   "metadata": {},
   "outputs": [],
   "source": []
  },
  {
   "cell_type": "code",
   "execution_count": 4,
   "id": "c169f3c7",
   "metadata": {},
   "outputs": [],
   "source": [
    "name = \"ola\""
   ]
  },
  {
   "cell_type": "code",
   "execution_count": 5,
   "id": "877bcabd",
   "metadata": {},
   "outputs": [
    {
     "name": "stdout",
     "output_type": "stream",
     "text": [
      "ola\n"
     ]
    }
   ],
   "source": [
    "print(name)"
   ]
  },
  {
   "cell_type": "code",
   "execution_count": 6,
   "id": "7d7f5bc2",
   "metadata": {},
   "outputs": [
    {
     "name": "stdout",
     "output_type": "stream",
     "text": [
      "<class 'str'>\n"
     ]
    }
   ],
   "source": [
    "print(type(name))"
   ]
  },
  {
   "cell_type": "code",
   "execution_count": null,
   "id": "ffbebad0",
   "metadata": {},
   "outputs": [],
   "source": []
  },
  {
   "cell_type": "code",
   "execution_count": null,
   "id": "425791e3",
   "metadata": {},
   "outputs": [],
   "source": []
  },
  {
   "cell_type": "code",
   "execution_count": 3,
   "id": "ced7ac83",
   "metadata": {},
   "outputs": [
    {
     "name": "stdout",
     "output_type": "stream",
     "text": [
      "dear valid customer, to submit your application please tell us your age22\n",
      "Congratulation your student loan has been granted\n"
     ]
    }
   ],
   "source": [
    "age_allowed_to_apply_for_student_loan = int(input(\"dear valid customer, to submit your application please tell us your age\"))\n",
    "\n",
    "if age_allowed_to_apply_for_student_loan < 21:\n",
    "    print(\"sorry you are not permitted \")\n",
    "else:\n",
    "    print(\"Congratulation your student loan has been granted\")\n",
    "\n"
   ]
  },
  {
   "cell_type": "code",
   "execution_count": null,
   "id": "894b8ee5",
   "metadata": {},
   "outputs": [],
   "source": []
  }
 ],
 "metadata": {
  "kernelspec": {
   "display_name": "Python 3 (ipykernel)",
   "language": "python",
   "name": "python3"
  },
  "language_info": {
   "codemirror_mode": {
    "name": "ipython",
    "version": 3
   },
   "file_extension": ".py",
   "mimetype": "text/x-python",
   "name": "python",
   "nbconvert_exporter": "python",
   "pygments_lexer": "ipython3",
   "version": "3.10.4"
  }
 },
 "nbformat": 4,
 "nbformat_minor": 5
}
