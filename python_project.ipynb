{
 "cells": [
  {
   "cell_type": "code",
   "execution_count": 1,
   "id": "d1eac79c",
   "metadata": {},
   "outputs": [],
   "source": [
    "name = \"evans\""
   ]
  },
  {
   "cell_type": "code",
   "execution_count": 2,
   "id": "15704ce1",
   "metadata": {},
   "outputs": [
    {
     "name": "stdout",
     "output_type": "stream",
     "text": [
      "evans\n"
     ]
    }
   ],
   "source": [
    "print(name)"
   ]
  },
  {
   "cell_type": "code",
   "execution_count": 3,
   "id": "533eaf3d",
   "metadata": {},
   "outputs": [
    {
     "name": "stdout",
     "output_type": "stream",
     "text": [
      "<class 'str'>\n"
     ]
    }
   ],
   "source": [
    "print(type(name))"
   ]
  },
  {
   "cell_type": "code",
   "execution_count": null,
   "id": "c24c8bda",
   "metadata": {},
   "outputs": [],
   "source": []
  },
  {
   "cell_type": "code",
   "execution_count": 4,
   "id": "8bac8682",
   "metadata": {},
   "outputs": [],
   "source": [
    "age = 35"
   ]
  },
  {
   "cell_type": "code",
   "execution_count": 6,
   "id": "376b6c26",
   "metadata": {},
   "outputs": [
    {
     "name": "stdout",
     "output_type": "stream",
     "text": [
      "<class 'int'>\n"
     ]
    }
   ],
   "source": [
    "print(type(age))"
   ]
  },
  {
   "cell_type": "code",
   "execution_count": 7,
   "id": "e0f0df14",
   "metadata": {},
   "outputs": [
    {
     "name": "stdout",
     "output_type": "stream",
     "text": [
      "35\n"
     ]
    }
   ],
   "source": [
    "print(age)"
   ]
  },
  {
   "cell_type": "code",
   "execution_count": null,
   "id": "81e05ba4",
   "metadata": {},
   "outputs": [],
   "source": []
  },
  {
   "cell_type": "code",
   "execution_count": 9,
   "id": "61e9e3f6",
   "metadata": {},
   "outputs": [],
   "source": [
    "paymet_made_by_customer = 4000.34"
   ]
  },
  {
   "cell_type": "code",
   "execution_count": 10,
   "id": "dea8dee0",
   "metadata": {},
   "outputs": [
    {
     "name": "stdout",
     "output_type": "stream",
     "text": [
      "<class 'float'>\n"
     ]
    }
   ],
   "source": [
    "print(type(paymet_made_by_customer))"
   ]
  },
  {
   "cell_type": "code",
   "execution_count": 11,
   "id": "fde7c0f8",
   "metadata": {},
   "outputs": [
    {
     "name": "stdout",
     "output_type": "stream",
     "text": [
      "4000.34\n"
     ]
    }
   ],
   "source": [
    "print(paymet_made_by_customer)"
   ]
  },
  {
   "cell_type": "code",
   "execution_count": null,
   "id": "386ecfa5",
   "metadata": {},
   "outputs": [],
   "source": []
  },
  {
   "cell_type": "code",
   "execution_count": 13,
   "id": "b8d8d2e0",
   "metadata": {},
   "outputs": [],
   "source": [
    "are_you_married = False"
   ]
  },
  {
   "cell_type": "code",
   "execution_count": 14,
   "id": "6e0f05c8",
   "metadata": {},
   "outputs": [
    {
     "name": "stdout",
     "output_type": "stream",
     "text": [
      "<class 'bool'>\n"
     ]
    }
   ],
   "source": [
    "print(type(are_you_married))"
   ]
  },
  {
   "cell_type": "code",
   "execution_count": 15,
   "id": "0e8db21f",
   "metadata": {},
   "outputs": [
    {
     "name": "stdout",
     "output_type": "stream",
     "text": [
      "False\n"
     ]
    }
   ],
   "source": [
    "print(are_you_married)"
   ]
  },
  {
   "cell_type": "code",
   "execution_count": null,
   "id": "1a56d9ad",
   "metadata": {},
   "outputs": [],
   "source": []
  },
  {
   "cell_type": "code",
   "execution_count": null,
   "id": "f96f8bf7",
   "metadata": {},
   "outputs": [],
   "source": []
  },
  {
   "cell_type": "code",
   "execution_count": 16,
   "id": "44bd72b2",
   "metadata": {},
   "outputs": [],
   "source": [
    "names_of_student_present_in_class = \"evans, tope, tobi, seyi, foli, ola, tosin, johnson\""
   ]
  },
  {
   "cell_type": "code",
   "execution_count": 17,
   "id": "3bcfba74",
   "metadata": {},
   "outputs": [
    {
     "name": "stdout",
     "output_type": "stream",
     "text": [
      "<class 'str'>\n"
     ]
    }
   ],
   "source": [
    "print(type(names_of_student_present_in_class))"
   ]
  },
  {
   "cell_type": "code",
   "execution_count": 18,
   "id": "7b80951d",
   "metadata": {},
   "outputs": [
    {
     "name": "stdout",
     "output_type": "stream",
     "text": [
      "evans, tope, tobi, seyi, foli, ola, tosin, johnson\n"
     ]
    }
   ],
   "source": [
    "print(names_of_student_present_in_class)"
   ]
  },
  {
   "cell_type": "code",
   "execution_count": null,
   "id": "1c10264b",
   "metadata": {},
   "outputs": [],
   "source": []
  },
  {
   "cell_type": "code",
   "execution_count": 25,
   "id": "aef417a0",
   "metadata": {},
   "outputs": [],
   "source": [
    "convert_names_of_student_present_in_class_to_list = (list(convert_names_of_student_present_in_class_to_list))"
   ]
  },
  {
   "cell_type": "code",
   "execution_count": 26,
   "id": "336db40e",
   "metadata": {},
   "outputs": [
    {
     "name": "stdout",
     "output_type": "stream",
     "text": [
      "['e', 'v', 'a', 'n', 's', ',', ' ', 't', 'o', 'p', 'e', ',', ' ', 't', 'o', 'b', 'i', ',', ' ', 's', 'e', 'y', 'i', ',', ' ', 'f', 'o', 'l', 'i', ',', ' ', 'o', 'l', 'a', ',', ' ', 't', 'o', 's', 'i', 'n', ',', ' ', 'j', 'o', 'h', 'n', 's', 'o', 'n']\n"
     ]
    }
   ],
   "source": [
    "print(convert_names_of_student_present_in_class_to_list)"
   ]
  },
  {
   "cell_type": "code",
   "execution_count": null,
   "id": "8e8b467b",
   "metadata": {},
   "outputs": [],
   "source": []
  },
  {
   "cell_type": "code",
   "execution_count": 27,
   "id": "36b7935f",
   "metadata": {},
   "outputs": [],
   "source": [
    "names_of_customers_owing_debt = [\"ojo, adeyemi, ibukun, yemi\"]"
   ]
  },
  {
   "cell_type": "code",
   "execution_count": 28,
   "id": "b11f3fcd",
   "metadata": {},
   "outputs": [
    {
     "name": "stdout",
     "output_type": "stream",
     "text": [
      "<class 'list'>\n"
     ]
    }
   ],
   "source": [
    "print(type(names_of_customers_owing_debt))"
   ]
  },
  {
   "cell_type": "code",
   "execution_count": 29,
   "id": "64fe5eff",
   "metadata": {},
   "outputs": [
    {
     "name": "stdout",
     "output_type": "stream",
     "text": [
      "['ojo, adeyemi, ibukun, yemi']\n"
     ]
    }
   ],
   "source": [
    "print(names_of_customers_owing_debt)"
   ]
  },
  {
   "cell_type": "code",
   "execution_count": 33,
   "id": "1a9c30a0",
   "metadata": {},
   "outputs": [],
   "source": [
    "names_of_customers_owing_debt.append(\"ojo\")"
   ]
  },
  {
   "cell_type": "code",
   "execution_count": 34,
   "id": "06d38b7e",
   "metadata": {},
   "outputs": [
    {
     "name": "stdout",
     "output_type": "stream",
     "text": [
      "['ojo, adeyemi, ibukun, yemi', 'ojo']\n"
     ]
    }
   ],
   "source": [
    "print(names_of_customers_owing_debt)"
   ]
  },
  {
   "cell_type": "code",
   "execution_count": 35,
   "id": "9ae650ec",
   "metadata": {},
   "outputs": [],
   "source": [
    "names_of_customers_owing_debt.remove(\"ojo\")"
   ]
  },
  {
   "cell_type": "code",
   "execution_count": 36,
   "id": "442c3dc4",
   "metadata": {},
   "outputs": [
    {
     "name": "stdout",
     "output_type": "stream",
     "text": [
      "['ojo, adeyemi, ibukun, yemi']\n"
     ]
    }
   ],
   "source": [
    "print(names_of_customers_owing_debt)"
   ]
  },
  {
   "cell_type": "code",
   "execution_count": 39,
   "id": "1066c690",
   "metadata": {},
   "outputs": [],
   "source": [
    "names_of_customers_owing_debt.append(\"johnson\")"
   ]
  },
  {
   "cell_type": "code",
   "execution_count": 40,
   "id": "9ec2c52b",
   "metadata": {},
   "outputs": [
    {
     "name": "stdout",
     "output_type": "stream",
     "text": [
      "['ojo, adeyemi, ibukun, yemi', 'johnson']\n"
     ]
    }
   ],
   "source": [
    "print(names_of_customers_owing_debt)"
   ]
  },
  {
   "cell_type": "code",
   "execution_count": null,
   "id": "90e4f0f3",
   "metadata": {},
   "outputs": [],
   "source": []
  },
  {
   "cell_type": "code",
   "execution_count": 41,
   "id": "f7359bf7",
   "metadata": {},
   "outputs": [],
   "source": [
    "bank_loan_unpaid_ammout = {300, 4000,60000, 71, 5900}"
   ]
  },
  {
   "cell_type": "code",
   "execution_count": 42,
   "id": "3d558eae",
   "metadata": {},
   "outputs": [
    {
     "name": "stdout",
     "output_type": "stream",
     "text": [
      "<class 'set'>\n"
     ]
    }
   ],
   "source": [
    "print(type(bank_loan_unpaid_ammout))"
   ]
  },
  {
   "cell_type": "code",
   "execution_count": 43,
   "id": "3372a72b",
   "metadata": {},
   "outputs": [
    {
     "name": "stdout",
     "output_type": "stream",
     "text": [
      "{4000, 60000, 300, 71, 5900}\n"
     ]
    }
   ],
   "source": [
    "print(bank_loan_unpaid_ammout)"
   ]
  },
  {
   "cell_type": "code",
   "execution_count": null,
   "id": "1fafbeca",
   "metadata": {},
   "outputs": [],
   "source": []
  },
  {
   "cell_type": "code",
   "execution_count": 44,
   "id": "a8597b8b",
   "metadata": {},
   "outputs": [],
   "source": [
    "age_of_students = (\"tope 30, ola 37, tobi 21\")"
   ]
  },
  {
   "cell_type": "code",
   "execution_count": 45,
   "id": "e9fc78d9",
   "metadata": {},
   "outputs": [
    {
     "name": "stdout",
     "output_type": "stream",
     "text": [
      "<class 'str'>\n"
     ]
    }
   ],
   "source": [
    "print(type(age_of_students))"
   ]
  },
  {
   "cell_type": "code",
   "execution_count": 46,
   "id": "37a49752",
   "metadata": {},
   "outputs": [
    {
     "name": "stdout",
     "output_type": "stream",
     "text": [
      "tope 30, ola 37, tobi 21\n"
     ]
    }
   ],
   "source": [
    "print(age_of_students)"
   ]
  },
  {
   "cell_type": "code",
   "execution_count": null,
   "id": "edbc8cfb",
   "metadata": {},
   "outputs": [],
   "source": []
  },
  {
   "cell_type": "code",
   "execution_count": 47,
   "id": "c0809121",
   "metadata": {},
   "outputs": [],
   "source": [
    "loan_amount_paid_by_customers = (50.000, 34.890, 1238.78, 400.78)"
   ]
  },
  {
   "cell_type": "code",
   "execution_count": 48,
   "id": "7bdee660",
   "metadata": {},
   "outputs": [
    {
     "name": "stdout",
     "output_type": "stream",
     "text": [
      "(50.0, 34.89, 1238.78, 400.78)\n"
     ]
    }
   ],
   "source": [
    "print(loan_amount_paid_by_customers)"
   ]
  },
  {
   "cell_type": "code",
   "execution_count": 49,
   "id": "a1bab580",
   "metadata": {},
   "outputs": [
    {
     "name": "stdout",
     "output_type": "stream",
     "text": [
      "<class 'tuple'>\n"
     ]
    }
   ],
   "source": [
    "print(type(loan_amount_paid_by_customers))"
   ]
  },
  {
   "cell_type": "code",
   "execution_count": null,
   "id": "388bb22f",
   "metadata": {},
   "outputs": [],
   "source": []
  },
  {
   "cell_type": "code",
   "execution_count": 50,
   "id": "6272b6cf",
   "metadata": {},
   "outputs": [],
   "source": [
    "numbers_allowed_to_be_played_by_customers = {30, 48, 21, 78, 90, 55}"
   ]
  },
  {
   "cell_type": "code",
   "execution_count": 51,
   "id": "6b9a9ec9",
   "metadata": {},
   "outputs": [
    {
     "name": "stdout",
     "output_type": "stream",
     "text": [
      "{48, 30, 21, 55, 90, 78}\n"
     ]
    }
   ],
   "source": [
    "print(numbers_allowed_to_be_played_by_customers)"
   ]
  },
  {
   "cell_type": "code",
   "execution_count": 52,
   "id": "216bfa8f",
   "metadata": {},
   "outputs": [
    {
     "name": "stdout",
     "output_type": "stream",
     "text": [
      "<class 'set'>\n"
     ]
    }
   ],
   "source": [
    "print(type(numbers_allowed_to_be_played_by_customers))"
   ]
  },
  {
   "cell_type": "code",
   "execution_count": 53,
   "id": "a7d9580f",
   "metadata": {},
   "outputs": [],
   "source": [
    "convert_numbers_allowed_to_be_played_by_customers_to_list =list(numbers_allowed_to_be_played_by_customers)"
   ]
  },
  {
   "cell_type": "code",
   "execution_count": 54,
   "id": "3cf39adf",
   "metadata": {},
   "outputs": [
    {
     "name": "stdout",
     "output_type": "stream",
     "text": [
      "[48, 30, 21, 55, 90, 78]\n"
     ]
    }
   ],
   "source": [
    "print(convert_numbers_allowed_to_be_played_by_customers_to_list)"
   ]
  },
  {
   "cell_type": "code",
   "execution_count": 55,
   "id": "038861a1",
   "metadata": {},
   "outputs": [
    {
     "name": "stdout",
     "output_type": "stream",
     "text": [
      "<class 'list'>\n"
     ]
    }
   ],
   "source": [
    "print(type(convert_numbers_allowed_to_be_played_by_customers_to_list))"
   ]
  },
  {
   "cell_type": "code",
   "execution_count": 58,
   "id": "75236f08",
   "metadata": {},
   "outputs": [],
   "source": [
    "convert_numbers_allowed_to_be_played_by_customers_to_list.append(90000)"
   ]
  },
  {
   "cell_type": "code",
   "execution_count": 60,
   "id": "c34367c9",
   "metadata": {},
   "outputs": [
    {
     "name": "stdout",
     "output_type": "stream",
     "text": [
      "[48, 30, 21, 55, 90, 78, 90000]\n"
     ]
    }
   ],
   "source": [
    "print(convert_numbers_allowed_to_be_played_by_customers_to_list)"
   ]
  },
  {
   "cell_type": "code",
   "execution_count": 61,
   "id": "d87812d1",
   "metadata": {},
   "outputs": [],
   "source": [
    "convert_numbers_allowed_to_be_played_by_customers_to_list.remove(78)"
   ]
  },
  {
   "cell_type": "code",
   "execution_count": 62,
   "id": "6598976d",
   "metadata": {},
   "outputs": [
    {
     "name": "stdout",
     "output_type": "stream",
     "text": [
      "[48, 30, 21, 55, 90, 90000]\n"
     ]
    }
   ],
   "source": [
    "print(convert_numbers_allowed_to_be_played_by_customers_to_list)"
   ]
  },
  {
   "cell_type": "code",
   "execution_count": 63,
   "id": "a507575e",
   "metadata": {},
   "outputs": [],
   "source": [
    "convert_numbers_allowed_to_be_played_by_customers_to_list.append(7865)"
   ]
  },
  {
   "cell_type": "code",
   "execution_count": 64,
   "id": "9b936700",
   "metadata": {},
   "outputs": [
    {
     "name": "stdout",
     "output_type": "stream",
     "text": [
      "[48, 30, 21, 55, 90, 90000, 7865]\n"
     ]
    }
   ],
   "source": [
    "print(convert_numbers_allowed_to_be_played_by_customers_to_list)"
   ]
  },
  {
   "cell_type": "code",
   "execution_count": 65,
   "id": "c481c872",
   "metadata": {},
   "outputs": [],
   "source": [
    "convert_convert_numbers_allowed_to_be_played_by_customers_to_list_to_tuple = tuple(convert_numbers_allowed_to_be_played_by_customers_to_list)"
   ]
  },
  {
   "cell_type": "code",
   "execution_count": 66,
   "id": "78c14d91",
   "metadata": {},
   "outputs": [
    {
     "name": "stdout",
     "output_type": "stream",
     "text": [
      "(48, 30, 21, 55, 90, 90000, 7865)\n"
     ]
    }
   ],
   "source": [
    "print(convert_convert_numbers_allowed_to_be_played_by_customers_to_list_to_tuple)"
   ]
  },
  {
   "cell_type": "code",
   "execution_count": 67,
   "id": "ea1f75c2",
   "metadata": {},
   "outputs": [
    {
     "name": "stdout",
     "output_type": "stream",
     "text": [
      "<class 'tuple'>\n"
     ]
    }
   ],
   "source": [
    "print(type(convert_convert_numbers_allowed_to_be_played_by_customers_to_list_to_tuple))"
   ]
  },
  {
   "cell_type": "code",
   "execution_count": null,
   "id": "022f8805",
   "metadata": {},
   "outputs": [],
   "source": []
  },
  {
   "cell_type": "code",
   "execution_count": 3,
   "id": "5380b316",
   "metadata": {},
   "outputs": [],
   "source": [
    "loan_amount_allowed = 400.000"
   ]
  },
  {
   "cell_type": "code",
   "execution_count": 4,
   "id": "506067bc",
   "metadata": {},
   "outputs": [],
   "source": [
    "#age_allowed_to_apply_for_loan = 30"
   ]
  },
  {
   "cell_type": "code",
   "execution_count": 14,
   "id": "1b81367c",
   "metadata": {},
   "outputs": [
    {
     "name": "stdout",
     "output_type": "stream",
     "text": [
      "how old are you  29\n",
      "you are not qualified for this loan \n"
     ]
    }
   ],
   "source": [
    "age_allowed = int(input(\"how old are you  \"))\n",
    "if age_allowed >= 30:\n",
    "    print(\"Congratulation \")\n",
    "else:\n",
    "    print(\"you are not qualified for this loan \")"
   ]
  },
  {
   "cell_type": "code",
   "execution_count": null,
   "id": "c3410f33",
   "metadata": {},
   "outputs": [],
   "source": []
  },
  {
   "cell_type": "code",
   "execution_count": 10,
   "id": "f31bbfce",
   "metadata": {},
   "outputs": [
    {
     "name": "stdout",
     "output_type": "stream",
     "text": [
      "Are you a student, True or False:   False\n",
      "what is your monthly salary after tax:  4000\n",
      "you are not eligible for this loan application\n"
     ]
    }
   ],
   "source": [
    "student_status = input(\"Are you a student, True or False:   \")\n",
    "    \n",
    "salary = int(input(\"what is your monthly salary after tax:  \"))\n",
    "\n",
    "if (student_status == \"False\") and (salary >= 2000):\n",
    "    print(\"you are eligible for this loan application\")\n",
    "else:\n",
    "    print(\"you are not eligible for this loan application\")"
   ]
  },
  {
   "cell_type": "code",
   "execution_count": null,
   "id": "685014fe",
   "metadata": {},
   "outputs": [],
   "source": []
  },
  {
   "cell_type": "code",
   "execution_count": null,
   "id": "4f21a890",
   "metadata": {},
   "outputs": [],
   "source": []
  }
 ],
 "metadata": {
  "kernelspec": {
   "display_name": "Python 3 (ipykernel)",
   "language": "python",
   "name": "python3"
  },
  "language_info": {
   "codemirror_mode": {
    "name": "ipython",
    "version": 3
   },
   "file_extension": ".py",
   "mimetype": "text/x-python",
   "name": "python",
   "nbconvert_exporter": "python",
   "pygments_lexer": "ipython3",
   "version": "3.10.4"
  }
 },
 "nbformat": 4,
 "nbformat_minor": 5
}
