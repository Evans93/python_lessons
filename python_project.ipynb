{
 "cells": [
  {
   "cell_type": "code",
   "execution_count": 1,
   "id": "d1eac79c",
   "metadata": {},
   "outputs": [],
   "source": [
    "name = \"evans\""
   ]
  },
  {
   "cell_type": "code",
   "execution_count": 2,
   "id": "15704ce1",
   "metadata": {},
   "outputs": [
    {
     "name": "stdout",
     "output_type": "stream",
     "text": [
      "evans\n"
     ]
    }
   ],
   "source": [
    "print(name)"
   ]
  },
  {
   "cell_type": "code",
   "execution_count": 3,
   "id": "533eaf3d",
   "metadata": {},
   "outputs": [
    {
     "name": "stdout",
     "output_type": "stream",
     "text": [
      "<class 'str'>\n"
     ]
    }
   ],
   "source": [
    "print(type(name))"
   ]
  },
  {
   "cell_type": "code",
   "execution_count": null,
   "id": "c24c8bda",
   "metadata": {},
   "outputs": [],
   "source": []
  },
  {
   "cell_type": "code",
   "execution_count": 4,
   "id": "8bac8682",
   "metadata": {},
   "outputs": [],
   "source": [
    "age = 35"
   ]
  },
  {
   "cell_type": "code",
   "execution_count": 6,
   "id": "376b6c26",
   "metadata": {},
   "outputs": [
    {
     "name": "stdout",
     "output_type": "stream",
     "text": [
      "<class 'int'>\n"
     ]
    }
   ],
   "source": [
    "print(type(age))"
   ]
  },
  {
   "cell_type": "code",
   "execution_count": 7,
   "id": "e0f0df14",
   "metadata": {},
   "outputs": [
    {
     "name": "stdout",
     "output_type": "stream",
     "text": [
      "35\n"
     ]
    }
   ],
   "source": [
    "print(age)"
   ]
  },
  {
   "cell_type": "code",
   "execution_count": null,
   "id": "81e05ba4",
   "metadata": {},
   "outputs": [],
   "source": []
  },
  {
   "cell_type": "code",
   "execution_count": 9,
   "id": "61e9e3f6",
   "metadata": {},
   "outputs": [],
   "source": [
    "paymet_made_by_customer = 4000.34"
   ]
  },
  {
   "cell_type": "code",
   "execution_count": 10,
   "id": "dea8dee0",
   "metadata": {},
   "outputs": [
    {
     "name": "stdout",
     "output_type": "stream",
     "text": [
      "<class 'float'>\n"
     ]
    }
   ],
   "source": [
    "print(type(paymet_made_by_customer))"
   ]
  },
  {
   "cell_type": "code",
   "execution_count": 11,
   "id": "fde7c0f8",
   "metadata": {},
   "outputs": [
    {
     "name": "stdout",
     "output_type": "stream",
     "text": [
      "4000.34\n"
     ]
    }
   ],
   "source": [
    "print(paymet_made_by_customer)"
   ]
  },
  {
   "cell_type": "code",
   "execution_count": null,
   "id": "386ecfa5",
   "metadata": {},
   "outputs": [],
   "source": []
  },
  {
   "cell_type": "code",
   "execution_count": 13,
   "id": "b8d8d2e0",
   "metadata": {},
   "outputs": [],
   "source": [
    "are_you_married = False"
   ]
  },
  {
   "cell_type": "code",
   "execution_count": 14,
   "id": "6e0f05c8",
   "metadata": {},
   "outputs": [
    {
     "name": "stdout",
     "output_type": "stream",
     "text": [
      "<class 'bool'>\n"
     ]
    }
   ],
   "source": [
    "print(type(are_you_married))"
   ]
  },
  {
   "cell_type": "code",
   "execution_count": 15,
   "id": "0e8db21f",
   "metadata": {},
   "outputs": [
    {
     "name": "stdout",
     "output_type": "stream",
     "text": [
      "False\n"
     ]
    }
   ],
   "source": [
    "print(are_you_married)"
   ]
  },
  {
   "cell_type": "code",
   "execution_count": null,
   "id": "1a56d9ad",
   "metadata": {},
   "outputs": [],
   "source": []
  },
  {
   "cell_type": "code",
   "execution_count": null,
   "id": "f96f8bf7",
   "metadata": {},
   "outputs": [],
   "source": []
  },
  {
   "cell_type": "code",
   "execution_count": 16,
   "id": "44bd72b2",
   "metadata": {},
   "outputs": [],
   "source": [
    "names_of_student_present_in_class = \"evans, tope, tobi, seyi, foli, ola, tosin, johnson\""
   ]
  },
  {
   "cell_type": "code",
   "execution_count": 17,
   "id": "3bcfba74",
   "metadata": {},
   "outputs": [
    {
     "name": "stdout",
     "output_type": "stream",
     "text": [
      "<class 'str'>\n"
     ]
    }
   ],
   "source": [
    "print(type(names_of_student_present_in_class))"
   ]
  },
  {
   "cell_type": "code",
   "execution_count": 18,
   "id": "7b80951d",
   "metadata": {},
   "outputs": [
    {
     "name": "stdout",
     "output_type": "stream",
     "text": [
      "evans, tope, tobi, seyi, foli, ola, tosin, johnson\n"
     ]
    }
   ],
   "source": [
    "print(names_of_student_present_in_class)"
   ]
  },
  {
   "cell_type": "code",
   "execution_count": null,
   "id": "1c10264b",
   "metadata": {},
   "outputs": [],
   "source": []
  },
  {
   "cell_type": "code",
   "execution_count": 25,
   "id": "aef417a0",
   "metadata": {},
   "outputs": [],
   "source": [
    "convert_names_of_student_present_in_class_to_list = (list(convert_names_of_student_present_in_class_to_list))"
   ]
  },
  {
   "cell_type": "code",
   "execution_count": 26,
   "id": "336db40e",
   "metadata": {},
   "outputs": [
    {
     "name": "stdout",
     "output_type": "stream",
     "text": [
      "['e', 'v', 'a', 'n', 's', ',', ' ', 't', 'o', 'p', 'e', ',', ' ', 't', 'o', 'b', 'i', ',', ' ', 's', 'e', 'y', 'i', ',', ' ', 'f', 'o', 'l', 'i', ',', ' ', 'o', 'l', 'a', ',', ' ', 't', 'o', 's', 'i', 'n', ',', ' ', 'j', 'o', 'h', 'n', 's', 'o', 'n']\n"
     ]
    }
   ],
   "source": [
    "print(convert_names_of_student_present_in_class_to_list)"
   ]
  },
  {
   "cell_type": "code",
   "execution_count": null,
   "id": "8e8b467b",
   "metadata": {},
   "outputs": [],
   "source": []
  },
  {
   "cell_type": "code",
   "execution_count": 27,
   "id": "36b7935f",
   "metadata": {},
   "outputs": [],
   "source": [
    "names_of_customers_owing_debt = [\"ojo, adeyemi, ibukun, yemi\"]"
   ]
  },
  {
   "cell_type": "code",
   "execution_count": 28,
   "id": "b11f3fcd",
   "metadata": {},
   "outputs": [
    {
     "name": "stdout",
     "output_type": "stream",
     "text": [
      "<class 'list'>\n"
     ]
    }
   ],
   "source": [
    "print(type(names_of_customers_owing_debt))"
   ]
  },
  {
   "cell_type": "code",
   "execution_count": 29,
   "id": "64fe5eff",
   "metadata": {},
   "outputs": [
    {
     "name": "stdout",
     "output_type": "stream",
     "text": [
      "['ojo, adeyemi, ibukun, yemi']\n"
     ]
    }
   ],
   "source": [
    "print(names_of_customers_owing_debt)"
   ]
  },
  {
   "cell_type": "code",
   "execution_count": 33,
   "id": "1a9c30a0",
   "metadata": {},
   "outputs": [],
   "source": [
    "names_of_customers_owing_debt.append(\"ojo\")"
   ]
  },
  {
   "cell_type": "code",
   "execution_count": 34,
   "id": "06d38b7e",
   "metadata": {},
   "outputs": [
    {
     "name": "stdout",
     "output_type": "stream",
     "text": [
      "['ojo, adeyemi, ibukun, yemi', 'ojo']\n"
     ]
    }
   ],
   "source": [
    "print(names_of_customers_owing_debt)"
   ]
  },
  {
   "cell_type": "code",
   "execution_count": 35,
   "id": "9ae650ec",
   "metadata": {},
   "outputs": [],
   "source": [
    "names_of_customers_owing_debt.remove(\"ojo\")"
   ]
  },
  {
   "cell_type": "code",
   "execution_count": 36,
   "id": "442c3dc4",
   "metadata": {},
   "outputs": [
    {
     "name": "stdout",
     "output_type": "stream",
     "text": [
      "['ojo, adeyemi, ibukun, yemi']\n"
     ]
    }
   ],
   "source": [
    "print(names_of_customers_owing_debt)"
   ]
  },
  {
   "cell_type": "code",
   "execution_count": 39,
   "id": "1066c690",
   "metadata": {},
   "outputs": [],
   "source": [
    "names_of_customers_owing_debt.append(\"johnson\")"
   ]
  },
  {
   "cell_type": "code",
   "execution_count": 40,
   "id": "9ec2c52b",
   "metadata": {},
   "outputs": [
    {
     "name": "stdout",
     "output_type": "stream",
     "text": [
      "['ojo, adeyemi, ibukun, yemi', 'johnson']\n"
     ]
    }
   ],
   "source": [
    "print(names_of_customers_owing_debt)"
   ]
  },
  {
   "cell_type": "code",
   "execution_count": null,
   "id": "90e4f0f3",
   "metadata": {},
   "outputs": [],
   "source": []
  },
  {
   "cell_type": "code",
   "execution_count": 41,
   "id": "f7359bf7",
   "metadata": {},
   "outputs": [],
   "source": [
    "bank_loan_unpaid_ammout = {300, 4000,60000, 71, 5900}"
   ]
  },
  {
   "cell_type": "code",
   "execution_count": 42,
   "id": "3d558eae",
   "metadata": {},
   "outputs": [
    {
     "name": "stdout",
     "output_type": "stream",
     "text": [
      "<class 'set'>\n"
     ]
    }
   ],
   "source": [
    "print(type(bank_loan_unpaid_ammout))"
   ]
  },
  {
   "cell_type": "code",
   "execution_count": 43,
   "id": "3372a72b",
   "metadata": {},
   "outputs": [
    {
     "name": "stdout",
     "output_type": "stream",
     "text": [
      "{4000, 60000, 300, 71, 5900}\n"
     ]
    }
   ],
   "source": [
    "print(bank_loan_unpaid_ammout)"
   ]
  },
  {
   "cell_type": "code",
   "execution_count": null,
   "id": "1fafbeca",
   "metadata": {},
   "outputs": [],
   "source": []
  },
  {
   "cell_type": "code",
   "execution_count": 44,
   "id": "a8597b8b",
   "metadata": {},
   "outputs": [],
   "source": [
    "age_of_students = (\"tope 30, ola 37, tobi 21\")"
   ]
  },
  {
   "cell_type": "code",
   "execution_count": 45,
   "id": "e9fc78d9",
   "metadata": {},
   "outputs": [
    {
     "name": "stdout",
     "output_type": "stream",
     "text": [
      "<class 'str'>\n"
     ]
    }
   ],
   "source": [
    "print(type(age_of_students))"
   ]
  },
  {
   "cell_type": "code",
   "execution_count": 46,
   "id": "37a49752",
   "metadata": {},
   "outputs": [
    {
     "name": "stdout",
     "output_type": "stream",
     "text": [
      "tope 30, ola 37, tobi 21\n"
     ]
    }
   ],
   "source": [
    "print(age_of_students)"
   ]
  },
  {
   "cell_type": "code",
   "execution_count": null,
   "id": "edbc8cfb",
   "metadata": {},
   "outputs": [],
   "source": []
  },
  {
   "cell_type": "code",
   "execution_count": 47,
   "id": "c0809121",
   "metadata": {},
   "outputs": [],
   "source": [
    "loan_amount_paid_by_customers = (50.000, 34.890, 1238.78, 400.78)"
   ]
  },
  {
   "cell_type": "code",
   "execution_count": 48,
   "id": "7bdee660",
   "metadata": {},
   "outputs": [
    {
     "name": "stdout",
     "output_type": "stream",
     "text": [
      "(50.0, 34.89, 1238.78, 400.78)\n"
     ]
    }
   ],
   "source": [
    "print(loan_amount_paid_by_customers)"
   ]
  },
  {
   "cell_type": "code",
   "execution_count": 49,
   "id": "a1bab580",
   "metadata": {},
   "outputs": [
    {
     "name": "stdout",
     "output_type": "stream",
     "text": [
      "<class 'tuple'>\n"
     ]
    }
   ],
   "source": [
    "print(type(loan_amount_paid_by_customers))"
   ]
  },
  {
   "cell_type": "code",
   "execution_count": null,
   "id": "388bb22f",
   "metadata": {},
   "outputs": [],
   "source": []
  },
  {
   "cell_type": "code",
   "execution_count": 50,
   "id": "6272b6cf",
   "metadata": {},
   "outputs": [],
   "source": [
    "numbers_allowed_to_be_played_by_customers = {30, 48, 21, 78, 90, 55}"
   ]
  },
  {
   "cell_type": "code",
   "execution_count": 51,
   "id": "6b9a9ec9",
   "metadata": {},
   "outputs": [
    {
     "name": "stdout",
     "output_type": "stream",
     "text": [
      "{48, 30, 21, 55, 90, 78}\n"
     ]
    }
   ],
   "source": [
    "print(numbers_allowed_to_be_played_by_customers)"
   ]
  },
  {
   "cell_type": "code",
   "execution_count": 52,
   "id": "216bfa8f",
   "metadata": {},
   "outputs": [
    {
     "name": "stdout",
     "output_type": "stream",
     "text": [
      "<class 'set'>\n"
     ]
    }
   ],
   "source": [
    "print(type(numbers_allowed_to_be_played_by_customers))"
   ]
  },
  {
   "cell_type": "code",
   "execution_count": 53,
   "id": "a7d9580f",
   "metadata": {},
   "outputs": [],
   "source": [
    "convert_numbers_allowed_to_be_played_by_customers_to_list =list(numbers_allowed_to_be_played_by_customers)"
   ]
  },
  {
   "cell_type": "code",
   "execution_count": 54,
   "id": "3cf39adf",
   "metadata": {},
   "outputs": [
    {
     "name": "stdout",
     "output_type": "stream",
     "text": [
      "[48, 30, 21, 55, 90, 78]\n"
     ]
    }
   ],
   "source": [
    "print(convert_numbers_allowed_to_be_played_by_customers_to_list)"
   ]
  },
  {
   "cell_type": "code",
   "execution_count": 55,
   "id": "038861a1",
   "metadata": {},
   "outputs": [
    {
     "name": "stdout",
     "output_type": "stream",
     "text": [
      "<class 'list'>\n"
     ]
    }
   ],
   "source": [
    "print(type(convert_numbers_allowed_to_be_played_by_customers_to_list))"
   ]
  },
  {
   "cell_type": "code",
   "execution_count": 58,
   "id": "75236f08",
   "metadata": {},
   "outputs": [],
   "source": [
    "convert_numbers_allowed_to_be_played_by_customers_to_list.append(90000)"
   ]
  },
  {
   "cell_type": "code",
   "execution_count": 60,
   "id": "c34367c9",
   "metadata": {},
   "outputs": [
    {
     "name": "stdout",
     "output_type": "stream",
     "text": [
      "[48, 30, 21, 55, 90, 78, 90000]\n"
     ]
    }
   ],
   "source": [
    "print(convert_numbers_allowed_to_be_played_by_customers_to_list)"
   ]
  },
  {
   "cell_type": "code",
   "execution_count": 61,
   "id": "d87812d1",
   "metadata": {},
   "outputs": [],
   "source": [
    "convert_numbers_allowed_to_be_played_by_customers_to_list.remove(78)"
   ]
  },
  {
   "cell_type": "code",
   "execution_count": 62,
   "id": "6598976d",
   "metadata": {},
   "outputs": [
    {
     "name": "stdout",
     "output_type": "stream",
     "text": [
      "[48, 30, 21, 55, 90, 90000]\n"
     ]
    }
   ],
   "source": [
    "print(convert_numbers_allowed_to_be_played_by_customers_to_list)"
   ]
  },
  {
   "cell_type": "code",
   "execution_count": 63,
   "id": "a507575e",
   "metadata": {},
   "outputs": [],
   "source": [
    "convert_numbers_allowed_to_be_played_by_customers_to_list.append(7865)"
   ]
  },
  {
   "cell_type": "code",
   "execution_count": 64,
   "id": "9b936700",
   "metadata": {},
   "outputs": [
    {
     "name": "stdout",
     "output_type": "stream",
     "text": [
      "[48, 30, 21, 55, 90, 90000, 7865]\n"
     ]
    }
   ],
   "source": [
    "print(convert_numbers_allowed_to_be_played_by_customers_to_list)"
   ]
  },
  {
   "cell_type": "code",
   "execution_count": 65,
   "id": "c481c872",
   "metadata": {},
   "outputs": [],
   "source": [
    "convert_convert_numbers_allowed_to_be_played_by_customers_to_list_to_tuple = tuple(convert_numbers_allowed_to_be_played_by_customers_to_list)"
   ]
  },
  {
   "cell_type": "code",
   "execution_count": 66,
   "id": "78c14d91",
   "metadata": {},
   "outputs": [
    {
     "name": "stdout",
     "output_type": "stream",
     "text": [
      "(48, 30, 21, 55, 90, 90000, 7865)\n"
     ]
    }
   ],
   "source": [
    "print(convert_convert_numbers_allowed_to_be_played_by_customers_to_list_to_tuple)"
   ]
  },
  {
   "cell_type": "code",
   "execution_count": 67,
   "id": "ea1f75c2",
   "metadata": {},
   "outputs": [
    {
     "name": "stdout",
     "output_type": "stream",
     "text": [
      "<class 'tuple'>\n"
     ]
    }
   ],
   "source": [
    "print(type(convert_convert_numbers_allowed_to_be_played_by_customers_to_list_to_tuple))"
   ]
  },
  {
   "cell_type": "code",
   "execution_count": null,
   "id": "022f8805",
   "metadata": {},
   "outputs": [],
   "source": []
  },
  {
   "cell_type": "code",
   "execution_count": 3,
   "id": "5380b316",
   "metadata": {},
   "outputs": [],
   "source": [
    "loan_amount_allowed = 400.000"
   ]
  },
  {
   "cell_type": "code",
   "execution_count": 4,
   "id": "506067bc",
   "metadata": {},
   "outputs": [],
   "source": [
    "#age_allowed_to_apply_for_loan = 30"
   ]
  },
  {
   "cell_type": "code",
   "execution_count": 14,
   "id": "1b81367c",
   "metadata": {},
   "outputs": [
    {
     "name": "stdout",
     "output_type": "stream",
     "text": [
      "how old are you  29\n",
      "you are not qualified for this loan \n"
     ]
    }
   ],
   "source": [
    "age_allowed = int(input(\"how old are you  \"))\n",
    "if age_allowed >= 30:\n",
    "    print(\"Congratulation \")\n",
    "else:\n",
    "    print(\"you are not qualified for this loan \")"
   ]
  },
  {
   "cell_type": "code",
   "execution_count": null,
   "id": "c3410f33",
   "metadata": {},
   "outputs": [],
   "source": []
  },
  {
   "cell_type": "code",
   "execution_count": 10,
   "id": "f31bbfce",
   "metadata": {},
   "outputs": [
    {
     "name": "stdout",
     "output_type": "stream",
     "text": [
      "Are you a student, True or False:   False\n",
      "what is your monthly salary after tax:  4000\n",
      "you are not eligible for this loan application\n"
     ]
    }
   ],
   "source": [
    "student_status = input(\"Are you a student, True or False:   \")\n",
    "    \n",
    "salary = int(input(\"what is your monthly salary after tax:  \"))\n",
    "\n",
    "if (student_status == \"False\") and (salary >= 2000):\n",
    "    print(\"you are eligible for this loan application\")\n",
    "else:\n",
    "    print(\"you are not eligible for this loan application\")"
   ]
  },
  {
   "cell_type": "code",
   "execution_count": null,
   "id": "685014fe",
   "metadata": {},
   "outputs": [],
   "source": []
  },
  {
   "cell_type": "code",
   "execution_count": 1,
   "id": "4f21a890",
   "metadata": {},
   "outputs": [
    {
     "name": "stdout",
     "output_type": "stream",
     "text": [
      "bananas cost $40\n"
     ]
    }
   ],
   "source": [
    "price = 40\n",
    "if price < 40:\n",
    "    print(\"bananas are on sale!\")\n",
    "else:\n",
    "    print(\"bananas cost $40\")"
   ]
  },
  {
   "cell_type": "code",
   "execution_count": null,
   "id": "57ac68d7",
   "metadata": {},
   "outputs": [],
   "source": []
  },
  {
   "cell_type": "code",
   "execution_count": null,
   "id": "43c7d8ef",
   "metadata": {},
   "outputs": [],
   "source": []
  },
  {
   "cell_type": "code",
   "execution_count": 9,
   "id": "05dc9949",
   "metadata": {},
   "outputs": [
    {
     "name": "stdout",
     "output_type": "stream",
     "text": [
      "how much loan do you require to apply 55000\n",
      "your request can not be granted, because the amount you applied for is more than the bank loan limit \n"
     ]
    }
   ],
   "source": [
    "Amount_of_loan_allowed = int(input(\"how much loan do you require to apply \"))\n",
    "if Amount_of_loan_allowed >= 40000:\n",
    "    print(\"your request can not be granted, because the amount you applied for is more than the bank loan limit \")\n",
    "else:\n",
    "    print(\"Congratulation your loan has been approved\")"
   ]
  },
  {
   "cell_type": "code",
   "execution_count": null,
   "id": "3bdfa6a0",
   "metadata": {},
   "outputs": [],
   "source": []
  },
  {
   "cell_type": "code",
   "execution_count": null,
   "id": "f1e493aa",
   "metadata": {},
   "outputs": [],
   "source": []
  },
  {
   "cell_type": "code",
   "execution_count": 14,
   "id": "2865b24a",
   "metadata": {},
   "outputs": [
    {
     "name": "stdout",
     "output_type": "stream",
     "text": [
      "how old are you 18\n",
      "Congratulations, your enrolment has been approved  \n"
     ]
    }
   ],
   "source": [
    "age_allowed_to_enroll_for_University = int(input(\"how old are you \"))\n",
    "if age_allowed_to_enroll_for_University <= 17:\n",
    "    print(\"you are not eligible to enroll for this institution at this time please try again next year \")\n",
    "else:\n",
    "    print(\"Congratulations, your enrolment has been approved  \")"
   ]
  },
  {
   "cell_type": "code",
   "execution_count": null,
   "id": "52071cad",
   "metadata": {},
   "outputs": [],
   "source": []
  },
  {
   "cell_type": "code",
   "execution_count": null,
   "id": "13708601",
   "metadata": {},
   "outputs": [],
   "source": []
  },
  {
   "cell_type": "code",
   "execution_count": null,
   "id": "6ec3791b",
   "metadata": {},
   "outputs": [],
   "source": []
  },
  {
   "cell_type": "code",
   "execution_count": 8,
   "id": "2b5f42b3",
   "metadata": {},
   "outputs": [],
   "source": [
    "names_of_customers_living_in_franfurt_oder = [\"evans, seyi, pappy, \"]"
   ]
  },
  {
   "cell_type": "code",
   "execution_count": 9,
   "id": "e8b24b57",
   "metadata": {},
   "outputs": [
    {
     "name": "stdout",
     "output_type": "stream",
     "text": [
      "<class 'list'>\n"
     ]
    }
   ],
   "source": [
    "print(type(names_of_customers_living_in_franfurt_oder))"
   ]
  },
  {
   "cell_type": "code",
   "execution_count": 10,
   "id": "b8b36318",
   "metadata": {},
   "outputs": [
    {
     "name": "stdout",
     "output_type": "stream",
     "text": [
      "['evans, seyi, pappy, ']\n"
     ]
    }
   ],
   "source": [
    "print(names_of_customers_living_in_franfurt_oder)"
   ]
  },
  {
   "cell_type": "code",
   "execution_count": 14,
   "id": "5052c19a",
   "metadata": {},
   "outputs": [],
   "source": [
    "names_of_customers_living_in_franfurt_oder.append(\"tope\")"
   ]
  },
  {
   "cell_type": "code",
   "execution_count": 15,
   "id": "b4ff0d44",
   "metadata": {},
   "outputs": [],
   "source": [
    "names_of_customers_living_in_franfurt_oder.append(\"evans\")"
   ]
  },
  {
   "cell_type": "code",
   "execution_count": 16,
   "id": "ec7fb7db",
   "metadata": {},
   "outputs": [],
   "source": [
    "names_of_customers_living_in_franfurt_oder.remove(\"evans\")"
   ]
  },
  {
   "cell_type": "code",
   "execution_count": 23,
   "id": "3ec070c0",
   "metadata": {},
   "outputs": [],
   "source": [
    "names_of_customers_living_in_franfurt_oder.append(\"seyi\")"
   ]
  },
  {
   "cell_type": "code",
   "execution_count": 24,
   "id": "f57ca1ce",
   "metadata": {},
   "outputs": [
    {
     "name": "stdout",
     "output_type": "stream",
     "text": [
      "['evans, seyi, pappy, ', 'tope', 'seyi']\n"
     ]
    }
   ],
   "source": [
    "print(names_of_customers_living_in_franfurt_oder)"
   ]
  },
  {
   "cell_type": "code",
   "execution_count": 25,
   "id": "00a34f56",
   "metadata": {},
   "outputs": [],
   "source": [
    "names_of_customers_living_in_franfurt_oder.remove('seyi')"
   ]
  },
  {
   "cell_type": "code",
   "execution_count": 26,
   "id": "21ccd43f",
   "metadata": {},
   "outputs": [
    {
     "name": "stdout",
     "output_type": "stream",
     "text": [
      "['evans, seyi, pappy, ', 'tope']\n"
     ]
    }
   ],
   "source": [
    "print(names_of_customers_living_in_franfurt_oder)"
   ]
  },
  {
   "cell_type": "code",
   "execution_count": null,
   "id": "13a44083",
   "metadata": {},
   "outputs": [],
   "source": []
  },
  {
   "cell_type": "code",
   "execution_count": null,
   "id": "c56d445a",
   "metadata": {},
   "outputs": [],
   "source": []
  },
  {
   "cell_type": "code",
   "execution_count": null,
   "id": "11f1967f",
   "metadata": {},
   "outputs": [],
   "source": []
  },
  {
   "cell_type": "code",
   "execution_count": null,
   "id": "b3d1d149",
   "metadata": {},
   "outputs": [],
   "source": []
  },
  {
   "cell_type": "code",
   "execution_count": 4,
   "id": "b89aaae8",
   "metadata": {},
   "outputs": [
    {
     "name": "stdout",
     "output_type": "stream",
     "text": [
      "full_name, age\n"
     ]
    }
   ],
   "source": [
    "full_name = \"jhon smith\"\n",
    "age = 20\n",
    "is_new = True\n",
    "if is_new == True:\n",
    "    print(\"full_name, age\")\n",
    "else:\n",
    "    print(\"no new patient called jhon smith\")"
   ]
  },
  {
   "cell_type": "code",
   "execution_count": null,
   "id": "0cc188ac",
   "metadata": {},
   "outputs": [],
   "source": []
  },
  {
   "cell_type": "code",
   "execution_count": 10,
   "id": "795d53c1",
   "metadata": {},
   "outputs": [
    {
     "name": "stdout",
     "output_type": "stream",
     "text": [
      "what is your name:  evans\n",
      "hi..evans it's is a beautifully day\n"
     ]
    }
   ],
   "source": [
    "name = input(\"what is your name:  \")\n",
    "print(\"hi..\" +name, 'it\\'s is a beautifully day')"
   ]
  },
  {
   "cell_type": "code",
   "execution_count": null,
   "id": "5f10b513",
   "metadata": {},
   "outputs": [],
   "source": []
  },
  {
   "cell_type": "code",
   "execution_count": null,
   "id": "7c501b24",
   "metadata": {},
   "outputs": [],
   "source": []
  },
  {
   "cell_type": "code",
   "execution_count": 12,
   "id": "c616aacf",
   "metadata": {},
   "outputs": [
    {
     "name": "stdout",
     "output_type": "stream",
     "text": [
      "what is your name:evans\n",
      "what is your Favourite color: black\n",
      "my name is person_name + my favourite color is\n"
     ]
    }
   ],
   "source": [
    "person_name = input(\"what is your name:\")\n",
    "color = input(\"what is your Favourite color: \")\n",
    "print(\"my name is person_name + my favourite color is\")"
   ]
  },
  {
   "cell_type": "code",
   "execution_count": null,
   "id": "85704235",
   "metadata": {},
   "outputs": [],
   "source": []
  },
  {
   "cell_type": "code",
   "execution_count": null,
   "id": "0f0288a7",
   "metadata": {},
   "outputs": [],
   "source": []
  },
  {
   "cell_type": "code",
   "execution_count": 20,
   "id": "b0b84089",
   "metadata": {},
   "outputs": [
    {
     "name": "stdout",
     "output_type": "stream",
     "text": [
      "what is your date of birth: 40\n",
      "1983\n"
     ]
    }
   ],
   "source": [
    "birth_date = input('what is your date of birth: ')\n",
    "age = 2023 -int (birth_date )\n",
    "print(age)"
   ]
  },
  {
   "cell_type": "code",
   "execution_count": null,
   "id": "8cfaa1f1",
   "metadata": {},
   "outputs": [],
   "source": []
  },
  {
   "cell_type": "code",
   "execution_count": null,
   "id": "75d36e57",
   "metadata": {},
   "outputs": [],
   "source": []
  },
  {
   "cell_type": "code",
   "execution_count": 49,
   "id": "b07f82c6",
   "metadata": {},
   "outputs": [
    {
     "name": "stdout",
     "output_type": "stream",
     "text": [
      "what is your weigth  : 90\n",
      "what is your length  : 187\n",
      "200.0\n",
      "18700\n"
     ]
    }
   ],
   "source": [
    "weight = input('what is your weigth  : ')\n",
    "length = input('what is your length  : ')\n",
    "weight = float(weight)/ 0.45\n",
    "length = int(length) * 100\n",
    "print(weight)\n",
    "print(length )\n"
   ]
  },
  {
   "cell_type": "code",
   "execution_count": null,
   "id": "26dcb115",
   "metadata": {},
   "outputs": [],
   "source": []
  },
  {
   "cell_type": "code",
   "execution_count": null,
   "id": "2d28f48d",
   "metadata": {},
   "outputs": [],
   "source": []
  },
  {
   "cell_type": "code",
   "execution_count": 56,
   "id": "36193fcc",
   "metadata": {},
   "outputs": [
    {
     "name": "stdout",
     "output_type": "stream",
     "text": [
      "what has to be broken before you use it? egg\n",
      "your answer is correct\n"
     ]
    }
   ],
   "source": [
    "Question_1 = input('what has to be broken before you use it? ')\n",
    "if Question_1 == 'egg':\n",
    "    print('your answer is correct')\n",
    "\n",
    "else:\n",
    "    print('your answers is incorrect')"
   ]
  },
  {
   "cell_type": "code",
   "execution_count": null,
   "id": "87cdd35c",
   "metadata": {},
   "outputs": [],
   "source": []
  },
  {
   "cell_type": "code",
   "execution_count": 1,
   "id": "be232073",
   "metadata": {},
   "outputs": [],
   "source": [
    "name = \"evans\""
   ]
  },
  {
   "cell_type": "code",
   "execution_count": 2,
   "id": "50f6c1d8",
   "metadata": {},
   "outputs": [
    {
     "name": "stdout",
     "output_type": "stream",
     "text": [
      "evans\n"
     ]
    }
   ],
   "source": [
    "print(name)"
   ]
  },
  {
   "cell_type": "code",
   "execution_count": 3,
   "id": "bd2be2b8",
   "metadata": {},
   "outputs": [
    {
     "name": "stdout",
     "output_type": "stream",
     "text": [
      "<class 'str'>\n"
     ]
    }
   ],
   "source": [
    "print(type(name))"
   ]
  },
  {
   "cell_type": "code",
   "execution_count": null,
   "id": "f6c46c12",
   "metadata": {},
   "outputs": [],
   "source": []
  },
  {
   "cell_type": "code",
   "execution_count": 4,
   "id": "31625378",
   "metadata": {},
   "outputs": [],
   "source": [
    "numbers = [10, 11, 55, 66, 89,]"
   ]
  },
  {
   "cell_type": "code",
   "execution_count": 6,
   "id": "e9c4f353",
   "metadata": {},
   "outputs": [
    {
     "name": "stdout",
     "output_type": "stream",
     "text": [
      "[10, 11, 55, 66, 89]\n"
     ]
    }
   ],
   "source": [
    "print(numbers)"
   ]
  },
  {
   "cell_type": "code",
   "execution_count": 7,
   "id": "389d3234",
   "metadata": {},
   "outputs": [
    {
     "name": "stdout",
     "output_type": "stream",
     "text": [
      "<class 'list'>\n"
     ]
    }
   ],
   "source": [
    "print(type(numbers))"
   ]
  },
  {
   "cell_type": "code",
   "execution_count": 9,
   "id": "bca6ddf1",
   "metadata": {},
   "outputs": [],
   "source": [
    "numbers.append(199)"
   ]
  },
  {
   "cell_type": "code",
   "execution_count": 11,
   "id": "b02f9f6f",
   "metadata": {},
   "outputs": [],
   "source": [
    "numbers.append(123)"
   ]
  },
  {
   "cell_type": "code",
   "execution_count": 12,
   "id": "d168e350",
   "metadata": {},
   "outputs": [
    {
     "name": "stdout",
     "output_type": "stream",
     "text": [
      "[10, 11, 55, 66, 89, 199, 123]\n"
     ]
    }
   ],
   "source": [
    "print(numbers)"
   ]
  },
  {
   "cell_type": "code",
   "execution_count": 13,
   "id": "bb41726d",
   "metadata": {},
   "outputs": [],
   "source": [
    "numbers.remove(11)"
   ]
  },
  {
   "cell_type": "code",
   "execution_count": 14,
   "id": "9f269dd0",
   "metadata": {},
   "outputs": [
    {
     "name": "stdout",
     "output_type": "stream",
     "text": [
      "[10, 55, 66, 89, 199, 123]\n"
     ]
    }
   ],
   "source": [
    "print(numbers)"
   ]
  },
  {
   "cell_type": "code",
   "execution_count": null,
   "id": "f6eb162a",
   "metadata": {},
   "outputs": [],
   "source": []
  },
  {
   "cell_type": "code",
   "execution_count": 15,
   "id": "f2672897",
   "metadata": {},
   "outputs": [],
   "source": [
    "names_of_student = [\"evans, tope, tobi, ola\"]"
   ]
  },
  {
   "cell_type": "code",
   "execution_count": 18,
   "id": "0c5e43b6",
   "metadata": {},
   "outputs": [
    {
     "name": "stdout",
     "output_type": "stream",
     "text": [
      "['evans, tope, tobi, ola']\n"
     ]
    }
   ],
   "source": [
    "print(names_of_student)"
   ]
  },
  {
   "cell_type": "code",
   "execution_count": 20,
   "id": "a13541aa",
   "metadata": {},
   "outputs": [],
   "source": [
    "names_of_student.append(\"seyi\")"
   ]
  },
  {
   "cell_type": "code",
   "execution_count": 21,
   "id": "1b1a5fdc",
   "metadata": {},
   "outputs": [
    {
     "name": "stdout",
     "output_type": "stream",
     "text": [
      "['evans, tope, tobi, ola', 'seyi']\n"
     ]
    }
   ],
   "source": [
    "print(names_of_student)"
   ]
  },
  {
   "cell_type": "code",
   "execution_count": 24,
   "id": "5b1b01ef",
   "metadata": {},
   "outputs": [],
   "source": [
    "names_of_student.remove(\"seyi\")"
   ]
  },
  {
   "cell_type": "code",
   "execution_count": 26,
   "id": "0714e01c",
   "metadata": {},
   "outputs": [
    {
     "name": "stdout",
     "output_type": "stream",
     "text": [
      "<class 'list'>\n"
     ]
    }
   ],
   "source": [
    "print(type(names_of_student))"
   ]
  },
  {
   "cell_type": "code",
   "execution_count": 27,
   "id": "ab44721d",
   "metadata": {},
   "outputs": [],
   "source": [
    "convert_names_of_student_to_tuple = tuple(names_of_student)"
   ]
  },
  {
   "cell_type": "code",
   "execution_count": 28,
   "id": "d94ae8cc",
   "metadata": {},
   "outputs": [
    {
     "name": "stdout",
     "output_type": "stream",
     "text": [
      "('evans, tope, tobi, ola',)\n"
     ]
    }
   ],
   "source": [
    "print(convert_names_of_student_to_tuple)"
   ]
  },
  {
   "cell_type": "code",
   "execution_count": 30,
   "id": "f21dfc22",
   "metadata": {},
   "outputs": [
    {
     "name": "stdout",
     "output_type": "stream",
     "text": [
      "<class 'tuple'>\n"
     ]
    }
   ],
   "source": [
    "print(type(convert_names_of_student_to_tuple))"
   ]
  },
  {
   "cell_type": "code",
   "execution_count": null,
   "id": "7e91e5a1",
   "metadata": {},
   "outputs": [],
   "source": []
  },
  {
   "cell_type": "code",
   "execution_count": 4,
   "id": "1b293499",
   "metadata": {},
   "outputs": [],
   "source": [
    "age = int(\"12\")"
   ]
  },
  {
   "cell_type": "code",
   "execution_count": 5,
   "id": "b733c910",
   "metadata": {},
   "outputs": [
    {
     "name": "stdout",
     "output_type": "stream",
     "text": [
      "<class 'int'>\n"
     ]
    }
   ],
   "source": [
    "print(type(age))"
   ]
  },
  {
   "cell_type": "code",
   "execution_count": 6,
   "id": "499b0e1e",
   "metadata": {},
   "outputs": [
    {
     "name": "stdout",
     "output_type": "stream",
     "text": [
      "12\n"
     ]
    }
   ],
   "source": [
    "print(age)"
   ]
  },
  {
   "cell_type": "code",
   "execution_count": null,
   "id": "283729ad",
   "metadata": {},
   "outputs": [],
   "source": []
  },
  {
   "cell_type": "code",
   "execution_count": null,
   "id": "8c1c0b83",
   "metadata": {},
   "outputs": [],
   "source": []
  },
  {
   "cell_type": "code",
   "execution_count": null,
   "id": "7b94ac1b",
   "metadata": {},
   "outputs": [],
   "source": []
  },
  {
   "cell_type": "code",
   "execution_count": 21,
   "id": "2cd01dbe",
   "metadata": {},
   "outputs": [
    {
     "name": "stdout",
     "output_type": "stream",
     "text": [
      "make your match prediction:  Away win\n",
      "Congratution\n"
     ]
    }
   ],
   "source": [
    "match_prediction = input(\"make your match prediction:  \")\n",
    "wining_prediction_number_correct_score = \"Away win\"\n",
    "if match_prediction == wining_prediction_number_correct_score:\n",
    "        print(\"Congratution\")\n",
    "else:\n",
    "    print(\"you losed try your luck again next time\")"
   ]
  },
  {
   "cell_type": "code",
   "execution_count": null,
   "id": "a172157b",
   "metadata": {},
   "outputs": [],
   "source": []
  },
  {
   "cell_type": "code",
   "execution_count": null,
   "id": "3b47c113",
   "metadata": {},
   "outputs": [],
   "source": []
  },
  {
   "cell_type": "code",
   "execution_count": null,
   "id": "56b7f196",
   "metadata": {},
   "outputs": [],
   "source": []
  },
  {
   "cell_type": "code",
   "execution_count": 1,
   "id": "12052f97",
   "metadata": {
    "scrolled": true
   },
   "outputs": [
    {
     "name": "stdout",
     "output_type": "stream",
     "text": [
      "enter first name: Ehis\n",
      "enter your middle name: John\n",
      "enter your last name: Evans\n",
      "where are you from: Nigeria \n",
      "What’s your current city of residence: Austria \n",
      "how old are you: 26\n",
      "please proceed\n",
      "Do you currently work? please answer True or False: True\n",
      "proceed\n",
      "What’s your salary after tax: 7000\n",
      "Congratulation your loan request has beeen granted\n"
     ]
    }
   ],
   "source": [
    "##loan request\n",
    "\n",
    "first_name = input(\"enter first name: \")\n",
    "\n",
    "second_name = input(\"enter your middle name: \")\n",
    "\n",
    "last_name = input(\"enter your last name: \")\n",
    "\n",
    "nationality = input(\"where are you from: \")\n",
    "\n",
    "Current_city_of_residence = input(\"What’s your current city of residence: \")\n",
    "\n",
    "\n",
    "\n",
    "age = int(input(\"how old are you: \"))\n",
    "if age <= 20:\n",
    "    print(\"you are not eligible to apply for this loan\")\n",
    "else:\n",
    "    print(\"please proceed\")\n",
    "    \n",
    "\n",
    "    \n",
    "job = input(\"Do you currently work? please answer True or False: \")\n",
    "if job == \"True\":\n",
    "    print(\"proceed\")\n",
    "    \n",
    "\n",
    "else:\n",
    "    print(\"you can’t apply for this loan at this time\")    \n",
    "    \n",
    "    \n",
    "salary = int(input(\"What’s your salary after tax: \"))\n",
    "if salary <=  6700:\n",
    "    print(\"sorry you Can’t apply for this loan\")\n",
    "else:\n",
    "    print(\"Congratulation your loan request has beeen granted\")\n",
    "\n",
    "\n"
   ]
  },
  {
   "cell_type": "code",
   "execution_count": null,
   "id": "46f19d72",
   "metadata": {},
   "outputs": [],
   "source": []
  },
  {
   "cell_type": "code",
   "execution_count": null,
   "id": "d9650e0e",
   "metadata": {},
   "outputs": [],
   "source": []
  },
  {
   "cell_type": "code",
   "execution_count": 1,
   "id": "5e396894",
   "metadata": {},
   "outputs": [],
   "source": [
    "Anonymous_number = []"
   ]
  },
  {
   "cell_type": "code",
   "execution_count": 2,
   "id": "7093cec4",
   "metadata": {},
   "outputs": [
    {
     "name": "stdout",
     "output_type": "stream",
     "text": [
      "[]\n"
     ]
    }
   ],
   "source": [
    "print(Anonymous_number)"
   ]
  },
  {
   "cell_type": "code",
   "execution_count": 3,
   "id": "8971ba0f",
   "metadata": {},
   "outputs": [
    {
     "name": "stdout",
     "output_type": "stream",
     "text": [
      "<class 'list'>\n"
     ]
    }
   ],
   "source": [
    "print(type(Anonymous_number))"
   ]
  },
  {
   "cell_type": "code",
   "execution_count": 4,
   "id": "487fbbf7",
   "metadata": {},
   "outputs": [],
   "source": [
    "Anonymous_number.append(40)"
   ]
  },
  {
   "cell_type": "code",
   "execution_count": 5,
   "id": "b89428db",
   "metadata": {},
   "outputs": [],
   "source": [
    "Anonymous_number.append(100)"
   ]
  },
  {
   "cell_type": "code",
   "execution_count": 6,
   "id": "8ed83521",
   "metadata": {},
   "outputs": [
    {
     "name": "stdout",
     "output_type": "stream",
     "text": [
      "[40, 100]\n"
     ]
    }
   ],
   "source": [
    "print(Anonymous_number)"
   ]
  },
  {
   "cell_type": "code",
   "execution_count": 7,
   "id": "b58c44ad",
   "metadata": {},
   "outputs": [],
   "source": [
    "Anonymous_number.append(580)"
   ]
  },
  {
   "cell_type": "code",
   "execution_count": 8,
   "id": "8b742bb3",
   "metadata": {},
   "outputs": [],
   "source": [
    "Anonymous_number.append(659)"
   ]
  },
  {
   "cell_type": "code",
   "execution_count": 9,
   "id": "c11466ca",
   "metadata": {},
   "outputs": [
    {
     "name": "stdout",
     "output_type": "stream",
     "text": [
      "[40, 100, 580, 659]\n"
     ]
    }
   ],
   "source": [
    "print(Anonymous_number)"
   ]
  },
  {
   "cell_type": "code",
   "execution_count": 13,
   "id": "98c435fe",
   "metadata": {},
   "outputs": [],
   "source": [
    "Anonymous_number.remove(40)"
   ]
  },
  {
   "cell_type": "code",
   "execution_count": 14,
   "id": "aad199a9",
   "metadata": {},
   "outputs": [
    {
     "name": "stdout",
     "output_type": "stream",
     "text": [
      "[100, 580, 659]\n"
     ]
    }
   ],
   "source": [
    "print(Anonymous_number)"
   ]
  },
  {
   "cell_type": "code",
   "execution_count": 15,
   "id": "600c2deb",
   "metadata": {},
   "outputs": [],
   "source": [
    "Anonymous_number.append(\"evans\")"
   ]
  },
  {
   "cell_type": "code",
   "execution_count": 16,
   "id": "92989193",
   "metadata": {},
   "outputs": [
    {
     "name": "stdout",
     "output_type": "stream",
     "text": [
      "[100, 580, 659, 'evans']\n"
     ]
    }
   ],
   "source": [
    "print(Anonymous_number)"
   ]
  },
  {
   "cell_type": "code",
   "execution_count": null,
   "id": "aac3e67f",
   "metadata": {},
   "outputs": [],
   "source": []
  },
  {
   "cell_type": "code",
   "execution_count": null,
   "id": "42ad545d",
   "metadata": {},
   "outputs": [],
   "source": []
  },
  {
   "cell_type": "code",
   "execution_count": 1,
   "id": "37233523",
   "metadata": {},
   "outputs": [],
   "source": [
    "name = \"ola\""
   ]
  },
  {
   "cell_type": "code",
   "execution_count": 2,
   "id": "d6f284b9",
   "metadata": {},
   "outputs": [
    {
     "name": "stdout",
     "output_type": "stream",
     "text": [
      "ola\n"
     ]
    }
   ],
   "source": [
    "print(name)"
   ]
  },
  {
   "cell_type": "code",
   "execution_count": 3,
   "id": "0fdda150",
   "metadata": {},
   "outputs": [
    {
     "name": "stdout",
     "output_type": "stream",
     "text": [
      "<class 'str'>\n"
     ]
    }
   ],
   "source": [
    "print(type(name))"
   ]
  },
  {
   "cell_type": "code",
   "execution_count": null,
   "id": "369b79c9",
   "metadata": {},
   "outputs": [],
   "source": []
  },
  {
   "cell_type": "code",
   "execution_count": null,
   "id": "d2447e20",
   "metadata": {},
   "outputs": [],
   "source": []
  },
  {
   "cell_type": "code",
   "execution_count": 1,
   "id": "d8a952ce",
   "metadata": {},
   "outputs": [],
   "source": [
    "name = \"john\""
   ]
  },
  {
   "cell_type": "code",
   "execution_count": 2,
   "id": "8df7729e",
   "metadata": {},
   "outputs": [
    {
     "name": "stdout",
     "output_type": "stream",
     "text": [
      "<class 'str'>\n"
     ]
    }
   ],
   "source": [
    "print(type(name))"
   ]
  },
  {
   "cell_type": "code",
   "execution_count": 3,
   "id": "3d6aaaf7",
   "metadata": {},
   "outputs": [
    {
     "name": "stdout",
     "output_type": "stream",
     "text": [
      "john\n"
     ]
    }
   ],
   "source": [
    "print(name)"
   ]
  },
  {
   "cell_type": "code",
   "execution_count": null,
   "id": "e58b1a2d",
   "metadata": {},
   "outputs": [],
   "source": []
  },
  {
   "cell_type": "code",
   "execution_count": null,
   "id": "b99f6539",
   "metadata": {},
   "outputs": [],
   "source": []
  },
  {
   "cell_type": "code",
   "execution_count": 1,
   "id": "9f6c6310",
   "metadata": {},
   "outputs": [],
   "source": [
    "is_married = True"
   ]
  },
  {
   "cell_type": "code",
   "execution_count": 2,
   "id": "81935db4",
   "metadata": {},
   "outputs": [
    {
     "name": "stdout",
     "output_type": "stream",
     "text": [
      "<class 'bool'>\n"
     ]
    }
   ],
   "source": [
    "print(type(is_married))"
   ]
  },
  {
   "cell_type": "code",
   "execution_count": null,
   "id": "2fff6cab",
   "metadata": {},
   "outputs": [],
   "source": []
  },
  {
   "cell_type": "code",
   "execution_count": null,
   "id": "9414a0fc",
   "metadata": {},
   "outputs": [],
   "source": []
  },
  {
   "cell_type": "code",
   "execution_count": 4,
   "id": "680b4f99",
   "metadata": {},
   "outputs": [
    {
     "name": "stdout",
     "output_type": "stream",
     "text": [
      "how old are you: 22\n",
      "Congratulations, your loan has been granted\n"
     ]
    }
   ],
   "source": [
    "age_allowed_to_apply_for_loan = int(input(\"how old are you: \"))\n",
    "if age_allowed_to_apply_for_loan < 21:\n",
    "    print(\"sorry you are not parmited to aplly for this loan \")\n",
    "else:\n",
    "    print(\"Congratulations, your loan has been granted\")"
   ]
  },
  {
   "cell_type": "code",
   "execution_count": null,
   "id": "7b42e041",
   "metadata": {},
   "outputs": [],
   "source": []
  }
 ],
 "metadata": {
  "kernelspec": {
   "display_name": "Python 3 (ipykernel)",
   "language": "python",
   "name": "python3"
  },
  "language_info": {
   "codemirror_mode": {
    "name": "ipython",
    "version": 3
   },
   "file_extension": ".py",
   "mimetype": "text/x-python",
   "name": "python",
   "nbconvert_exporter": "python",
   "pygments_lexer": "ipython3",
   "version": "3.10.4"
  }
 },
 "nbformat": 4,
 "nbformat_minor": 5
}
