{
 "cells": [
  {
   "cell_type": "code",
   "execution_count": null,
   "id": "47ddc649",
   "metadata": {},
   "outputs": [
    {
     "name": "stdout",
     "output_type": "stream",
     "text": [
      "hello, world\n"
     ]
    }
   ],
   "source": [
    "print(\"hello, world\")"
   ]
  },
  {
   "cell_type": "code",
   "execution_count": null,
   "id": "22fe9475",
   "metadata": {},
   "outputs": [],
   "source": []
  },
  {
   "cell_type": "code",
   "execution_count": null,
   "id": "afc541ff",
   "metadata": {},
   "outputs": [
    {
     "name": "stdout",
     "output_type": "stream",
     "text": [
      "The Zen of Python, by Tim Peters\n",
      "\n",
      "Beautiful is better than ugly.\n",
      "Explicit is better than implicit.\n",
      "Simple is better than complex.\n",
      "Complex is better than complicated.\n",
      "Flat is better than nested.\n",
      "Sparse is better than dense.\n",
      "Readability counts.\n",
      "Special cases aren't special enough to break the rules.\n",
      "Although practicality beats purity.\n",
      "Errors should never pass silently.\n",
      "Unless explicitly silenced.\n",
      "In the face of ambiguity, refuse the temptation to guess.\n",
      "There should be one-- and preferably only one --obvious way to do it.\n",
      "Although that way may not be obvious at first unless you're Dutch.\n",
      "Now is better than never.\n",
      "Although never is often better than *right* now.\n",
      "If the implementation is hard to explain, it's a bad idea.\n",
      "If the implementation is easy to explain, it may be a good idea.\n",
      "Namespaces are one honking great idea -- let's do more of those!\n"
     ]
    }
   ],
   "source": [
    "import this"
   ]
  },
  {
   "cell_type": "code",
   "execution_count": null,
   "id": "a4dc7834",
   "metadata": {},
   "outputs": [],
   "source": []
  },
  {
   "cell_type": "code",
   "execution_count": null,
   "id": "76f7ebcc",
   "metadata": {},
   "outputs": [],
   "source": []
  },
  {
   "cell_type": "code",
   "execution_count": null,
   "id": "e01f7e85",
   "metadata": {},
   "outputs": [],
   "source": [
    "name = \"evans\""
   ]
  },
  {
   "cell_type": "code",
   "execution_count": null,
   "id": "9d178537",
   "metadata": {},
   "outputs": [],
   "source": [
    "number = \"80.5\""
   ]
  },
  {
   "cell_type": "code",
   "execution_count": null,
   "id": "80d95b5a",
   "metadata": {},
   "outputs": [
    {
     "name": "stdout",
     "output_type": "stream",
     "text": [
      "<class 'str'>\n"
     ]
    }
   ],
   "source": [
    "print(type(number))"
   ]
  },
  {
   "cell_type": "code",
   "execution_count": null,
   "id": "253e76bd",
   "metadata": {},
   "outputs": [],
   "source": []
  },
  {
   "cell_type": "code",
   "execution_count": null,
   "id": "be41a4b3",
   "metadata": {},
   "outputs": [],
   "source": [
    "name = (\"evans\",20, \"ola\")"
   ]
  },
  {
   "cell_type": "code",
   "execution_count": null,
   "id": "0ccd8bd6",
   "metadata": {},
   "outputs": [
    {
     "name": "stdout",
     "output_type": "stream",
     "text": [
      "<class 'tuple'>\n"
     ]
    }
   ],
   "source": [
    "print(type(name))"
   ]
  },
  {
   "cell_type": "code",
   "execution_count": null,
   "id": "7f005f2d",
   "metadata": {},
   "outputs": [],
   "source": [
    "## converting tuple to list\n",
    "\n",
    "convert_tuple_to_list = list(name)"
   ]
  },
  {
   "cell_type": "code",
   "execution_count": null,
   "id": "9ed012b2",
   "metadata": {},
   "outputs": [
    {
     "name": "stdout",
     "output_type": "stream",
     "text": [
      "['evans', 20, 'ola']\n"
     ]
    }
   ],
   "source": [
    "print(convert_tuple_to_list)"
   ]
  },
  {
   "cell_type": "code",
   "execution_count": null,
   "id": "488a0af9",
   "metadata": {},
   "outputs": [],
   "source": []
  },
  {
   "cell_type": "code",
   "execution_count": null,
   "id": "90f5fdb7",
   "metadata": {},
   "outputs": [],
   "source": []
  },
  {
   "cell_type": "code",
   "execution_count": null,
   "id": "265dcbbc",
   "metadata": {},
   "outputs": [
    {
     "name": "stdout",
     "output_type": "stream",
     "text": [
      "how old are you: 38\n"
     ]
    }
   ],
   "source": [
    "## IF STATEMENT \n",
    "\n",
    "age = int(input(\"how old are you: \"))\n"
   ]
  },
  {
   "cell_type": "code",
   "execution_count": null,
   "id": "1f0d46d6",
   "metadata": {},
   "outputs": [],
   "source": []
  },
  {
   "cell_type": "code",
   "execution_count": null,
   "id": "66ed86ad",
   "metadata": {},
   "outputs": [],
   "source": [
    "## functions\n",
    "\n",
    "def greetings():\n",
    "    print(\"hello, how are you doing: \")"
   ]
  },
  {
   "cell_type": "code",
   "execution_count": null,
   "id": "34f08ea1",
   "metadata": {},
   "outputs": [
    {
     "name": "stdout",
     "output_type": "stream",
     "text": [
      "hello, how are you doing: \n",
      "None\n"
     ]
    }
   ],
   "source": [
    "print(greetings())"
   ]
  },
  {
   "cell_type": "code",
   "execution_count": null,
   "id": "21c7ba2c",
   "metadata": {},
   "outputs": [],
   "source": []
  },
  {
   "cell_type": "code",
   "execution_count": null,
   "id": "b53f2785",
   "metadata": {},
   "outputs": [
    {
     "name": "stdout",
     "output_type": "stream",
     "text": [
      "4.0\n"
     ]
    }
   ],
   "source": [
    "import math\n",
    "\n",
    "print(math.sqrt(16))\n"
   ]
  },
  {
   "cell_type": "code",
   "execution_count": null,
   "id": "c1d38339",
   "metadata": {},
   "outputs": [],
   "source": []
  },
  {
   "cell_type": "code",
   "execution_count": null,
   "id": "47bb7020",
   "metadata": {},
   "outputs": [
    {
     "name": "stdout",
     "output_type": "stream",
     "text": [
      "<built-in method now of type object at 0x102d80978>\n"
     ]
    }
   ],
   "source": [
    "import datetime\n",
    "\n",
    "now = datetime.datetime.now\n",
    "\n",
    "print(now)"
   ]
  },
  {
   "cell_type": "code",
   "execution_count": null,
   "id": "99eb1637",
   "metadata": {},
   "outputs": [],
   "source": []
  },
  {
   "cell_type": "code",
   "execution_count": null,
   "id": "12558aff",
   "metadata": {},
   "outputs": [],
   "source": []
  },
  {
   "cell_type": "code",
   "execution_count": null,
   "id": "b3c37415",
   "metadata": {},
   "outputs": [],
   "source": [
    "name = [\"ola\", \"ojo\", \"olu\"]"
   ]
  },
  {
   "cell_type": "code",
   "execution_count": null,
   "id": "16d6efef",
   "metadata": {},
   "outputs": [],
   "source": [
    "name.append([\"evans\", \"tope\"])"
   ]
  },
  {
   "cell_type": "code",
   "execution_count": null,
   "id": "3ef4c974",
   "metadata": {},
   "outputs": [
    {
     "name": "stdout",
     "output_type": "stream",
     "text": [
      "['ola', 'ojo', 'olu', ['evans', 'tope']]\n"
     ]
    }
   ],
   "source": [
    "print(name)"
   ]
  },
  {
   "cell_type": "code",
   "execution_count": null,
   "id": "13fac9f0",
   "metadata": {},
   "outputs": [
    {
     "data": {
      "text/plain": [
       "['evans', 'tope']"
      ]
     },
     "execution_count": 24,
     "metadata": {},
     "output_type": "execute_result"
    }
   ],
   "source": [
    "name.pop()"
   ]
  },
  {
   "cell_type": "code",
   "execution_count": null,
   "id": "35040ee8",
   "metadata": {},
   "outputs": [
    {
     "data": {
      "text/plain": [
       "'olu'"
      ]
     },
     "execution_count": 25,
     "metadata": {},
     "output_type": "execute_result"
    }
   ],
   "source": [
    "name.pop(-1)"
   ]
  },
  {
   "cell_type": "code",
   "execution_count": null,
   "id": "c496478c",
   "metadata": {},
   "outputs": [],
   "source": []
  },
  {
   "cell_type": "code",
   "execution_count": null,
   "id": "0ae0107d",
   "metadata": {},
   "outputs": [],
   "source": [
    "file = open(\"evans.txt\", \"r\")\n"
   ]
  },
  {
   "cell_type": "code",
   "execution_count": null,
   "id": "d295817b",
   "metadata": {},
   "outputs": [
    {
     "name": "stdout",
     "output_type": "stream",
     "text": [
      "hey you have to move on, i have missed you\n"
     ]
    }
   ],
   "source": [
    "contents = file.read()\n",
    "print(contents)"
   ]
  },
  {
   "cell_type": "code",
   "execution_count": null,
   "id": "0790b843",
   "metadata": {},
   "outputs": [],
   "source": [
    "file.close()"
   ]
  },
  {
   "cell_type": "code",
   "execution_count": null,
   "id": "efe057e6",
   "metadata": {},
   "outputs": [
    {
     "name": "stdout",
     "output_type": "stream",
     "text": [
      "hey you have to move on, i have missed you\n"
     ]
    }
   ],
   "source": [
    "print(contents)"
   ]
  },
  {
   "cell_type": "code",
   "execution_count": null,
   "id": "7640089e",
   "metadata": {},
   "outputs": [],
   "source": []
  },
  {
   "cell_type": "code",
   "execution_count": null,
   "id": "6bb186a3",
   "metadata": {},
   "outputs": [
    {
     "name": "stdout",
     "output_type": "stream",
     "text": [
      "hey you have to move on, i have missed you\n"
     ]
    }
   ],
   "source": [
    "with  open(\"evans.txt\", \"r\") as file:\n",
    "    contents = file.read()\n",
    "    print(contents)\n",
    "    \n"
   ]
  },
  {
   "cell_type": "code",
   "execution_count": null,
   "id": "28ff2e59",
   "metadata": {},
   "outputs": [],
   "source": []
  },
  {
   "cell_type": "code",
   "execution_count": null,
   "id": "b5280240",
   "metadata": {},
   "outputs": [],
   "source": [
    "## using the \"w\" function to overwrite the previous text on file\n",
    "\n",
    "with  open(\"evans.txt\", \"w\") as file:\n",
    "    file.write(\"hey you have to move on\")\n",
    "\n",
    "\n",
    "   "
   ]
  },
  {
   "cell_type": "code",
   "execution_count": null,
   "id": "46b90650",
   "metadata": {},
   "outputs": [],
   "source": []
  },
  {
   "cell_type": "code",
   "execution_count": null,
   "id": "8e49a95c",
   "metadata": {},
   "outputs": [],
   "source": [
    "with  open(\"evans.txt\", \"a\") as file:\n",
    "    file.write(\", i have missed you\")\n"
   ]
  },
  {
   "cell_type": "code",
   "execution_count": null,
   "id": "38918615",
   "metadata": {},
   "outputs": [],
   "source": []
  },
  {
   "cell_type": "code",
   "execution_count": null,
   "id": "4e1ce6d0",
   "metadata": {},
   "outputs": [
    {
     "name": "stdout",
     "output_type": "stream",
     "text": [
      "['hey you have to move on, i have missed you']\n"
     ]
    }
   ],
   "source": [
    "with  open(\"evans.txt\", \"r\") as file:\n",
    "    all_lines = file.readlines()\n",
    "    print(all_lines)"
   ]
  },
  {
   "cell_type": "code",
   "execution_count": null,
   "id": "11885c1a",
   "metadata": {},
   "outputs": [],
   "source": [
    "file.close()"
   ]
  },
  {
   "cell_type": "code",
   "execution_count": null,
   "id": "282f08db",
   "metadata": {},
   "outputs": [],
   "source": []
  },
  {
   "cell_type": "code",
   "execution_count": 1,
   "id": "07851d61",
   "metadata": {},
   "outputs": [],
   "source": [
    "import csv"
   ]
  },
  {
   "cell_type": "code",
   "execution_count": 2,
   "id": "a674e778",
   "metadata": {},
   "outputs": [
    {
     "name": "stdout",
     "output_type": "stream",
     "text": [
      "<module 'csv' from '/opt/anaconda3/lib/python3.12/csv.py'>\n"
     ]
    }
   ],
   "source": [
    "print(csv)"
   ]
  },
  {
   "cell_type": "code",
   "execution_count": null,
   "id": "dbc8c0a5",
   "metadata": {},
   "outputs": [],
   "source": []
  },
  {
   "cell_type": "code",
   "execution_count": 1,
   "id": "ebf9b651",
   "metadata": {},
   "outputs": [
    {
     "name": "stdout",
     "output_type": "stream",
     "text": [
      "Requirement already satisfied: pip in ./my_new_env/lib/python3.12/site-packages (24.2)\n",
      "Note: you may need to restart the kernel to use updated packages.\n"
     ]
    }
   ],
   "source": [
    "pip install --upgrade pip"
   ]
  },
  {
   "cell_type": "code",
   "execution_count": 2,
   "id": "8a25a9ef",
   "metadata": {},
   "outputs": [
    {
     "name": "stdout",
     "output_type": "stream",
     "text": [
      "Requirement already satisfied: pip in ./my_new_env/lib/python3.12/site-packages (24.2)\n",
      "Note: you may need to restart the kernel to use updated packages.\n"
     ]
    }
   ],
   "source": [
    "pip install --upgrade pip"
   ]
  },
  {
   "cell_type": "code",
   "execution_count": 3,
   "id": "60cee69a",
   "metadata": {},
   "outputs": [],
   "source": [
    "import pandas as pd"
   ]
  },
  {
   "cell_type": "code",
   "execution_count": null,
   "id": "a98a5c9f",
   "metadata": {},
   "outputs": [],
   "source": []
  },
  {
   "cell_type": "code",
   "execution_count": 5,
   "id": "df6fc516",
   "metadata": {},
   "outputs": [
    {
     "data": {
      "text/plain": [
       "[     Country (or area)         Subregion            Region  \\\n",
       " 0                World             World             World   \n",
       " 1     Asia and Oceania  Asia and Oceania  Asia and Oceania   \n",
       " 2     Northern America  Northern America  Northern America   \n",
       " 3      United States *  Northern America          Americas   \n",
       " 4               Europe            Europe            Europe   \n",
       " ..                 ...               ...               ...   \n",
       " 174          Grenada *         Caribbean          Americas   \n",
       " 175            Samoa *         Polynesia           Oceania   \n",
       " 176  Solomon Islands *         Melanesia           Oceania   \n",
       " 177          Somalia *    Eastern Africa            Africa   \n",
       " 178       Uzbekistan *      Central Asia              Asia   \n",
       " \n",
       "     Total wealth (USD bn) % of world Wealth to GDP ratio[3] (2017–19)  \n",
       " 0                  454385     100.0%                                —  \n",
       " 1                  177824      39.1%                                —  \n",
       " 2                  151170      33.2%                                —  \n",
       " 3                  139866      30.8%                            5.493  \n",
       " 4                  104410      23.0%                                —  \n",
       " ..                    ...        ...                              ...  \n",
       " 174                     —          —                                —  \n",
       " 175                     —          —                                —  \n",
       " 176                     —          —                                —  \n",
       " 177                     —          —                                —  \n",
       " 178                     —          —                                —  \n",
       " \n",
       " [179 rows x 6 columns],\n",
       "            Country    2000       Country.1    2005       Country.2    2010  \\\n",
       " 0            World  117825           World  182218           World  252084   \n",
       " 1    United States   43423   United States   62634   United States   64661   \n",
       " 2            Japan   19404           Japan   19476           Japan   28640   \n",
       " 3   United Kingdom    6565  United Kingdom   10949           China   25493   \n",
       " 4          Germany    6160          France    9679          France   13526   \n",
       " 5            Italy    5522           Italy    9457         Germany   11934   \n",
       " 6           France    4704         Germany    9073           Italy   11545   \n",
       " 7            China    3704           China    8522  United Kingdom   11199   \n",
       " 8           Canada    2613           Spain    6905           Spain    8701   \n",
       " 9            Spain    2497          Canada    4363          Canada    6832   \n",
       " 10     South Korea    1721     South Korea    3508           India    6810   \n",
       " 11     Netherlands    1591       Australia    3480       Australia    6662   \n",
       " 12           India    1553           India    3266     South Korea    4744   \n",
       " 13       Australia    1500     Netherlands    2524     Netherlands    3323   \n",
       " 14          Taiwan    1437          Taiwan    1883          Brazil    3128   \n",
       " 15     Switzerland    1273         Belgium    1826     Switzerland    2892   \n",
       " 16         Belgium    1110     Switzerland    1737          Taiwan    2628   \n",
       " 17       Hong Kong     871          Mexico    1563         Belgium    2565   \n",
       " 18          Mexico     828         Austria    1067          Mexico    2261   \n",
       " 19         Austria     719          Brazil    1064          Russia    2165   \n",
       " 20          Brazil     646          Turkey    1034          Turkey    1718   \n",
       " 21          Greece     618          Greece    1020          Sweden    1628   \n",
       " 22          Turkey     525       Hong Kong     976       Hong Kong    1588   \n",
       " 23          Sweden     522          Sweden     966         Austria    1460   \n",
       " 24         Denmark     451          Russia     869       Indonesia    1359   \n",
       " 25        Portugal     422         Denmark     799          Greece    1252   \n",
       " 26    Saudi Arabia     415        Portugal     731         Denmark    1022   \n",
       " 27       Indonesia     364       Indonesia     704          Norway     988   \n",
       " 28         Ireland     336         Ireland     696        Portugal     958   \n",
       " 29          Norway     336          Poland     622          Poland     936   \n",
       " 30       Singapore     324    Saudi Arabia     620        Thailand     926   \n",
       " \n",
       "          Country.3    2015       Country.4    2020       Country.5    2022  \\\n",
       " 0            World  297743           World  422718           World  454385   \n",
       " 1    United States   87959   United States  126300   United States  139866   \n",
       " 2            China   46535           China   73866           China   84485   \n",
       " 3            Japan   21519           Japan   26744           Japan   22582   \n",
       " 4   United Kingdom   13978         Germany   18053         Germany   17426   \n",
       " 5          Germany   12009          France   16326  United Kingdom   15972   \n",
       " 6           France   11594  United Kingdom   15454          France   15727   \n",
       " 7            Italy   10506           India   12688           India   15365   \n",
       " 8            India    8948           Italy   12176          Canada   11263   \n",
       " 9           Canada    6930          Canada   10586           Italy   11020   \n",
       " 10       Australia    6424     South Korea    9625     South Korea    9890   \n",
       " 11           Spain    6177       Australia    9268       Australia    9720   \n",
       " 12     South Korea    6128           Spain    8759           Spain    8487   \n",
       " 13          Taiwan    3514     Netherlands    5447          Taiwan    5422   \n",
       " 14     Switzerland    3428          Taiwan    4920     Netherlands    4869   \n",
       " 15     Netherlands    3255     Switzerland    4673          Mexico    4863   \n",
       " 16          Mexico    2659          Mexico    3767     Switzerland    4829   \n",
       " 17       Hong Kong    2548         Belgium    3544          Brazil    4628   \n",
       " 18         Belgium    2531       Hong Kong    3446          Russia    4386   \n",
       " 19          Brazil    2398          Russia    3177       Hong Kong    3493   \n",
       " 20       Indonesia    1899          Brazil    3092       Indonesia    3256   \n",
       " 21          Russia    1824       Indonesia    3087         Belgium    3195   \n",
       " 22          Sweden    1783          Sweden    2742            Iran    3034   \n",
       " 23          Turkey    1777    Saudi Arabia    1905          Sweden    2335   \n",
       " 24    Saudi Arabia    1437         Austria    1855    Saudi Arabia    2268   \n",
       " 25         Austria    1408         Denmark    1793       Singapore    1906   \n",
       " 26       Singapore    1075       Singapore    1637         Denmark    1869   \n",
       " 27         Denmark    1055          Turkey    1509         Austria    1794   \n",
       " 28           Egypt    1035          Poland    1465          Norway    1644   \n",
       " 29        Thailand    1000            Iran    1443          Poland    1592   \n",
       " 30          Poland     993     New Zealand    1436     New Zealand    1426   \n",
       " \n",
       "          Country.6  Peak value  Peak year  \n",
       " 0            World      465666       2021  \n",
       " 1    United States      145793       2021  \n",
       " 2            China       85947       2021  \n",
       " 3            Japan       29718       2011  \n",
       " 4          Germany       18412       2021  \n",
       " 5   United Kingdom       16741       2021  \n",
       " 6           France       16326       2020  \n",
       " 7            India       15365       2022  \n",
       " 8            Italy       12820       2007  \n",
       " 9           Canada       12501       2021  \n",
       " 10       Australia       10734       2021  \n",
       " 11           Spain       10296       2007  \n",
       " 12     South Korea        9946       2021  \n",
       " 13          Taiwan        5776       2021  \n",
       " 14     Netherlands        5447       2020  \n",
       " 15     Switzerland        4893       2021  \n",
       " 16          Mexico        4863       2022  \n",
       " 17          Brazil        4628       2022  \n",
       " 18          Russia        4386       2022  \n",
       " 19         Belgium        3544       2020  \n",
       " 20       Hong Kong        3495       2021  \n",
       " 21       Indonesia        3256       2022  \n",
       " 22            Iran        3034       2022  \n",
       " 23          Sweden        2865       2021  \n",
       " 24    Saudi Arabia        2268       2022  \n",
       " 25         Denmark        1998       2021  \n",
       " 26          Turkey        1970       2013  \n",
       " 27       Singapore        1906       2022  \n",
       " 28         Austria        1855       2020  \n",
       " 29     New Zealand        1658       2021  \n",
       " 30          Norway        1644       2022  ,\n",
       "    Year Australia Canada China France Germany India Italy  Japan South Korea  \\\n",
       " 0  2000         —   2.2%  3.1%   4.0%    5.2%     —  4.7%  16.5%        1.5%   \n",
       " 1  2001         —   2.1%  3.6%   4.0%    5.2%     —  4.6%  14.1%        1.5%   \n",
       " 2  2002         —   2.0%  3.7%   4.6%    5.5%     —  5.3%  13.8%        1.7%   \n",
       " 3  2003      1.9%   2.2%  3.7%   5.2%    5.8%     —  5.7%  12.9%           —   \n",
       " 4  2004      1.9%   2.2%  3.9%   5.6%    5.7%     —  5.7%  11.5%           —   \n",
       " 5  2005         —   2.4%  4.7%   5.3%    5.0%     —  5.2%  10.7%        1.9%   \n",
       " 6  2006      2.0%   2.3%  5.0%   5.8%    5.0%     —  5.5%   9.5%           —   \n",
       " 7  2007      2.3%   2.6%  6.0%   6.1%    5.3%     —  5.5%   8.6%           —   \n",
       " 8  2008         —   2.2%  8.2%   6.0%    5.4%  2.2%  5.6%  11.2%           —   \n",
       " 9  2009      2.4%   2.6%  8.6%   5.7%    5.3%     —  5.4%  10.2%           —   \n",
       " \n",
       "   Spain United Kingdom United States Aggregate share of the top 10  \n",
       " 0  2.1%           5.6%         36.9%                         81.8%  \n",
       " 1  2.3%           5.6%         38.8%                         81.8%  \n",
       " 2  2.9%           6.1%         35.1%                         80.7%  \n",
       " 3  3.5%           6.2%         32.8%                         79.9%  \n",
       " 4  3.9%           6.5%         32.5%                         79.4%  \n",
       " 5  3.8%           6.0%         34.4%                         79.4%  \n",
       " 6  4.2%           6.4%         32.3%                         78.0%  \n",
       " 7  4.4%           6.2%         29.3%                         76.3%  \n",
       " 8  4.4%           4.4%         27.5%                         77.1%  \n",
       " 9  4.1%           4.8%         26.3%                         75.4%  ,\n",
       "    Year Australia Canada  China France Germany India Italy  Japan South Korea  \\\n",
       " 0  2010         —   2.7%  10.1%   5.4%    4.7%  2.7%  4.6%  11.4%           —   \n",
       " 1  2011         —   2.7%  11.9%   5.1%    4.6%  2.5%  4.3%  11.4%           —   \n",
       " 2  2012         —   2.8%  12.5%   4.8%    4.6%  2.7%  4.2%   9.8%           —   \n",
       " 3  2013         —   2.7%  13.8%   4.8%    4.7%  2.6%  4.1%   7.8%           —   \n",
       " 4  2014      2.2%   2.6%  15.1%   4.2%    4.3%  2.8%  3.9%   7.1%           —   \n",
       " 5  2015      2.2%   2.3%  15.6%   3.9%    4.0%  3.0%  3.5%   7.2%           —   \n",
       " 6  2016      2.2%   2.5%  16.7%   3.8%    3.9%  3.2%  3.3%   7.2%           —   \n",
       " 7  2017      2.2%   2.4%  17.4%   3.9%    4.1%  3.3%  3.3%   6.7%           —   \n",
       " 8  2018         —   2.2%  18.4%   3.8%    4.1%  3.4%  3.0%   6.7%        2.2%   \n",
       " 9  2019         —   2.3%  18.1%   3.6%    4.0%  3.4%  2.8%   6.5%        2.1%   \n",
       " \n",
       "   Spain United Kingdom United States Aggregate share of the top 10  \n",
       " 0  3.5%           4.4%         25.7%                         75.2%  \n",
       " 1  3.4%           4.5%         25.2%                         75.6%  \n",
       " 2  2.9%           4.4%         25.6%                         74.3%  \n",
       " 3  2.7%           4.5%         26.8%                         74.5%  \n",
       " 4     —           4.7%         28.6%                         75.5%  \n",
       " 5     —           4.7%         29.5%                         75.9%  \n",
       " 6     —           4.0%         29.9%                         76.7%  \n",
       " 7     —           4.1%         28.4%                         75.8%  \n",
       " 8     —           3.7%         28.5%                         76.0%  \n",
       " 9     —           3.6%         29.6%                         76.0%  ,\n",
       "    Year Australia Canada  China France Germany India Italy Japan South Korea  \\\n",
       " 0  2020         —   2.5%  17.5%   3.9%    4.3%  3.0%  2.9%  6.3%        2.3%   \n",
       " 1  2021      2.3%   2.7%  18.5%   3.5%    4.0%  3.2%  2.5%  5.4%           —   \n",
       " 2  2022         —   2.5%  18.6%   3.5%    3.8%  3.4%  2.4%  5.0%        2.2%   \n",
       " 3  2023       NaN    NaN    NaN    NaN     NaN   NaN   NaN   NaN         NaN   \n",
       " \n",
       "   Spain United Kingdom United States Aggregate share of the top 10  \n",
       " 0     —           3.7%         29.9%                         76.3%  \n",
       " 1     —           3.6%         31.3%                         77.0%  \n",
       " 2     —           3.5%         30.8%                         75.7%  \n",
       " 3   NaN            NaN           NaN                           NaN  ,\n",
       "               vteEconomic classification of countries  \\\n",
       " 0   Developed country Developing country Heavily i...   \n",
       " 1                              Three/Four-World Model   \n",
       " 2                        Gross domestic product (GDP)   \n",
       " 3                                             Nominal   \n",
       " 4                       Purchasing power parity (PPP)   \n",
       " 5                         Gross national income (GNI)   \n",
       " 6                                               Wages   \n",
       " 7                                              Wealth   \n",
       " 8                             Other national accounts   \n",
       " 9                                   Human development   \n",
       " 10                                     Digital divide   \n",
       " 11       Net international investment position (NIIP)   \n",
       " 12                     Economics portal  World portal   \n",
       " \n",
       "             vteEconomic classification of countries.1  \n",
       " 0   Developed country Developing country Heavily i...  \n",
       " 1   First World Second World Third World Fourth World  \n",
       " 2   Nominal By country past and projected per capi...  \n",
       " 3   By country past and projected per capita per c...  \n",
       " 4   By country future estimates per capita per cap...  \n",
       " 5   Nominal per capita Real income PPP per capita ...  \n",
       " 6   Average wage Europe Employee compensation (per...  \n",
       " 7   Wealth per adult Europe Financial assets per c...  \n",
       " 8   Gross National Happiness Net material product ...  \n",
       " 9   Human Development Index by country inequality-...  \n",
       " 10  ICT Development Index Number of broadband Inte...  \n",
       " 11        Per capita (creditors) Per capita (debtors)  \n",
       " 12                     Economics portal  World portal  ,\n",
       "                                0  \\\n",
       " 0                        Nominal   \n",
       " 1  Purchasing power parity (PPP)   \n",
       " \n",
       "                                                    1  \n",
       " 0  By country past and projected per capita per c...  \n",
       " 1  By country future estimates per capita per cap...  ,\n",
       "          vteLists of countries by financial rankings  \\\n",
       " 0                                              Trade   \n",
       " 1                                         Investment   \n",
       " 2                                              Funds   \n",
       " 3                                    Budget and debt   \n",
       " 4                                   Income and taxes   \n",
       " 5                                         Bank rates   \n",
       " 6                                           Currency   \n",
       " 7                                              Other   \n",
       " 8  Lists of countries by GDP rankings List of int...   \n",
       " \n",
       "        vteLists of countries by financial rankings.1  \n",
       " 0  Account balance % of GDP Exports by product me...  \n",
       " 1                   FDI received past FDI abroad GFI  \n",
       " 2  Forex reserves Gold reserves Sovereign wealth ...  \n",
       " 3  Government budget PPP % of GDP per capita Cred...  \n",
       " 4  Tax rates Inheritance tax Tax revenue Wage ave...  \n",
       " 5  Central bank interest rate Commercial bank pri...  \n",
       " 6                                     Inflation rate  \n",
       " 7  Financial Development Index Average annual lab...  \n",
       " 8  Lists of countries by GDP rankings List of int...  ,\n",
       "                                     vteExtreme wealth  \\\n",
       " 0                                            Concepts   \n",
       " 1   Capital accumulation Overaccumulation Economic...   \n",
       " 2                                              People   \n",
       " 3                                              Wealth   \n",
       " 4                                               Lists   \n",
       " 5                                              People   \n",
       " 6                                       Organizations   \n",
       " 7                                               Other   \n",
       " 8                                             Related   \n",
       " 9   Diseases of affluence Affluenza Acquired situa...   \n",
       " 10                                       Philanthropy   \n",
       " 11                                            Sayings   \n",
       " 12                                              Media   \n",
       " 13                                Category by country   \n",
       " \n",
       "                                   vteExtreme wealth.1  \n",
       " 0   Capital accumulation Overaccumulation Economic...  \n",
       " 1   Capital accumulation Overaccumulation Economic...  \n",
       " 2   Billionaire Captain of industry High-net-worth...  \n",
       " 3   Concentration Distribution Dynastic Effect Geo...  \n",
       " 4   People Forbes list of billionaires List of cen...  \n",
       " 5   Forbes list of billionaires List of centibilli...  \n",
       " 6   Largest companies by revenue Largest corporate...  \n",
       " 7   Cities by number of billionaires Countries by ...  \n",
       " 8   Diseases of affluence Affluenza Acquired situa...  \n",
       " 9   Diseases of affluence Affluenza Acquired situa...  \n",
       " 10  Gospel of Wealth The Giving Pledge Philanthroc...  \n",
       " 11  The rich get richer and the poor get poorer So...  \n",
       " 12  Das Kapital Plutus Greek god of wealth Supercl...  \n",
       " 13                                Category by country  ,\n",
       "                                                    0  \\\n",
       " 0  Capital accumulation Overaccumulation Economic...   \n",
       " 1                                             People   \n",
       " 2                                             Wealth   \n",
       " \n",
       "                                                    1  \n",
       " 0  Capital accumulation Overaccumulation Economic...  \n",
       " 1  Billionaire Captain of industry High-net-worth...  \n",
       " 2  Concentration Distribution Dynastic Effect Geo...  ,\n",
       "                0                                                  1\n",
       " 0         People  Forbes list of billionaires List of centibilli...\n",
       " 1  Organizations  Largest companies by revenue Largest corporate...\n",
       " 2          Other  Cities by number of billionaires Countries by ...,\n",
       "                                                    0  \\\n",
       " 0  Diseases of affluence Affluenza Acquired situa...   \n",
       " 1                                       Philanthropy   \n",
       " 2                                            Sayings   \n",
       " 3                                              Media   \n",
       " \n",
       "                                                    1  \n",
       " 0  Diseases of affluence Affluenza Acquired situa...  \n",
       " 1  Gospel of Wealth The Giving Pledge Philanthroc...  \n",
       " 2  The rich get richer and the poor get poorer So...  \n",
       " 3  Das Kapital Plutus Greek god of wealth Supercl...  ]"
      ]
     },
     "execution_count": 5,
     "metadata": {},
     "output_type": "execute_result"
    }
   ],
   "source": [
    "pd.read_html(\"https://en.wikipedia.org/wiki/List_of_countries_by_total_wealth\")"
   ]
  },
  {
   "cell_type": "code",
   "execution_count": null,
   "id": "f549ae72",
   "metadata": {},
   "outputs": [],
   "source": []
  },
  {
   "cell_type": "code",
   "execution_count": null,
   "id": "939b82f8",
   "metadata": {},
   "outputs": [],
   "source": []
  },
  {
   "cell_type": "code",
   "execution_count": null,
   "id": "48be698a",
   "metadata": {},
   "outputs": [],
   "source": []
  },
  {
   "cell_type": "code",
   "execution_count": 6,
   "id": "479a597d",
   "metadata": {},
   "outputs": [
    {
     "name": "stdout",
     "output_type": "stream",
     "text": [
      "Requirement already satisfied: lxml in /opt/anaconda3/lib/python3.12/site-packages (5.2.1)\n",
      "Note: you may need to restart the kernel to use updated packages.\n"
     ]
    }
   ],
   "source": [
    "pip install lxml"
   ]
  },
  {
   "cell_type": "code",
   "execution_count": null,
   "id": "d8dbce62",
   "metadata": {},
   "outputs": [],
   "source": []
  },
  {
   "cell_type": "code",
   "execution_count": null,
   "id": "c9e677a8",
   "metadata": {},
   "outputs": [],
   "source": []
  },
  {
   "cell_type": "code",
   "execution_count": 8,
   "id": "7d5fd643",
   "metadata": {},
   "outputs": [],
   "source": [
    "import sqlite3"
   ]
  },
  {
   "cell_type": "code",
   "execution_count": 24,
   "id": "997d7258",
   "metadata": {},
   "outputs": [],
   "source": [
    "## connecting to a database \n",
    "\n",
    "Connection = sqlite3.connect(\"prescriptions\")"
   ]
  },
  {
   "cell_type": "code",
   "execution_count": 25,
   "id": "eb432980",
   "metadata": {},
   "outputs": [],
   "source": [
    "cur = Connection.cursor()"
   ]
  },
  {
   "cell_type": "code",
   "execution_count": 26,
   "id": "08520c1d",
   "metadata": {},
   "outputs": [
    {
     "ename": "OperationalError",
     "evalue": "no such table: prescriptions",
     "output_type": "error",
     "traceback": [
      "\u001b[0;31m---------------------------------------------------------------------------\u001b[0m",
      "\u001b[0;31mOperationalError\u001b[0m                          Traceback (most recent call last)",
      "Cell \u001b[0;32mIn[26], line 1\u001b[0m\n\u001b[0;32m----> 1\u001b[0m cur\u001b[38;5;241m.\u001b[39mexecute(\u001b[38;5;124m\"\u001b[39m\u001b[38;5;124mselect * from prescriptions\u001b[39m\u001b[38;5;124m\"\u001b[39m)\u001b[38;5;241m.\u001b[39mfatchall()\n",
      "\u001b[0;31mOperationalError\u001b[0m: no such table: prescriptions"
     ]
    }
   ],
   "source": [
    "cur.execute(\"select * from prescriptions\").fatchall()"
   ]
  },
  {
   "cell_type": "code",
   "execution_count": null,
   "id": "dd26556f-eae6-4663-8e5e-ec9ca1b76aa3",
   "metadata": {},
   "outputs": [],
   "source": []
  },
  {
   "cell_type": "code",
   "execution_count": null,
   "id": "e03d79e3-c9d7-4b48-bd9a-b166fdcf22e4",
   "metadata": {},
   "outputs": [],
   "source": []
  },
  {
   "cell_type": "code",
   "execution_count": 27,
   "id": "00bfc78a-42d3-464b-8942-4a24a1390b79",
   "metadata": {},
   "outputs": [],
   "source": [
    "import requests "
   ]
  },
  {
   "cell_type": "code",
   "execution_count": 29,
   "id": "0f74f9d7-b8ee-4619-a49e-c430adce6604",
   "metadata": {},
   "outputs": [],
   "source": [
    "url = \"https://rickandmortyapi.com/api/character\""
   ]
  },
  {
   "cell_type": "code",
   "execution_count": 31,
   "id": "aef6f192-797e-4736-8e70-01470c66d5f8",
   "metadata": {},
   "outputs": [
    {
     "data": {
      "text/plain": [
       "<Response [200]>"
      ]
     },
     "execution_count": 31,
     "metadata": {},
     "output_type": "execute_result"
    }
   ],
   "source": [
    "requests.get(url)"
   ]
  },
  {
   "cell_type": "code",
   "execution_count": 33,
   "id": "2a42c6df-094e-49f3-809e-77a30e097c1c",
   "metadata": {},
   "outputs": [],
   "source": [
    "r= requests.get(url)"
   ]
  },
  {
   "cell_type": "code",
   "execution_count": 35,
   "id": "3197e776-6c42-4623-a53c-9c400800fc57",
   "metadata": {},
   "outputs": [],
   "source": [
    "data = r.json()"
   ]
  },
  {
   "cell_type": "code",
   "execution_count": 38,
   "id": "ea5e0e33-3087-450e-afda-dfc486a2ef9e",
   "metadata": {},
   "outputs": [
    {
     "data": {
      "text/plain": [
       "826"
      ]
     },
     "execution_count": 38,
     "metadata": {},
     "output_type": "execute_result"
    }
   ],
   "source": [
    "data['info'] ['count']"
   ]
  },
  {
   "cell_type": "code",
   "execution_count": 39,
   "id": "54875df1-59eb-4a1a-a126-a558a2b8bdbf",
   "metadata": {},
   "outputs": [
    {
     "data": {
      "text/plain": [
       "{'info': {'count': 826,\n",
       "  'pages': 42,\n",
       "  'next': 'https://rickandmortyapi.com/api/character?page=2',\n",
       "  'prev': None},\n",
       " 'results': [{'id': 1,\n",
       "   'name': 'Rick Sanchez',\n",
       "   'status': 'Alive',\n",
       "   'species': 'Human',\n",
       "   'type': '',\n",
       "   'gender': 'Male',\n",
       "   'origin': {'name': 'Earth (C-137)',\n",
       "    'url': 'https://rickandmortyapi.com/api/location/1'},\n",
       "   'location': {'name': 'Citadel of Ricks',\n",
       "    'url': 'https://rickandmortyapi.com/api/location/3'},\n",
       "   'image': 'https://rickandmortyapi.com/api/character/avatar/1.jpeg',\n",
       "   'episode': ['https://rickandmortyapi.com/api/episode/1',\n",
       "    'https://rickandmortyapi.com/api/episode/2',\n",
       "    'https://rickandmortyapi.com/api/episode/3',\n",
       "    'https://rickandmortyapi.com/api/episode/4',\n",
       "    'https://rickandmortyapi.com/api/episode/5',\n",
       "    'https://rickandmortyapi.com/api/episode/6',\n",
       "    'https://rickandmortyapi.com/api/episode/7',\n",
       "    'https://rickandmortyapi.com/api/episode/8',\n",
       "    'https://rickandmortyapi.com/api/episode/9',\n",
       "    'https://rickandmortyapi.com/api/episode/10',\n",
       "    'https://rickandmortyapi.com/api/episode/11',\n",
       "    'https://rickandmortyapi.com/api/episode/12',\n",
       "    'https://rickandmortyapi.com/api/episode/13',\n",
       "    'https://rickandmortyapi.com/api/episode/14',\n",
       "    'https://rickandmortyapi.com/api/episode/15',\n",
       "    'https://rickandmortyapi.com/api/episode/16',\n",
       "    'https://rickandmortyapi.com/api/episode/17',\n",
       "    'https://rickandmortyapi.com/api/episode/18',\n",
       "    'https://rickandmortyapi.com/api/episode/19',\n",
       "    'https://rickandmortyapi.com/api/episode/20',\n",
       "    'https://rickandmortyapi.com/api/episode/21',\n",
       "    'https://rickandmortyapi.com/api/episode/22',\n",
       "    'https://rickandmortyapi.com/api/episode/23',\n",
       "    'https://rickandmortyapi.com/api/episode/24',\n",
       "    'https://rickandmortyapi.com/api/episode/25',\n",
       "    'https://rickandmortyapi.com/api/episode/26',\n",
       "    'https://rickandmortyapi.com/api/episode/27',\n",
       "    'https://rickandmortyapi.com/api/episode/28',\n",
       "    'https://rickandmortyapi.com/api/episode/29',\n",
       "    'https://rickandmortyapi.com/api/episode/30',\n",
       "    'https://rickandmortyapi.com/api/episode/31',\n",
       "    'https://rickandmortyapi.com/api/episode/32',\n",
       "    'https://rickandmortyapi.com/api/episode/33',\n",
       "    'https://rickandmortyapi.com/api/episode/34',\n",
       "    'https://rickandmortyapi.com/api/episode/35',\n",
       "    'https://rickandmortyapi.com/api/episode/36',\n",
       "    'https://rickandmortyapi.com/api/episode/37',\n",
       "    'https://rickandmortyapi.com/api/episode/38',\n",
       "    'https://rickandmortyapi.com/api/episode/39',\n",
       "    'https://rickandmortyapi.com/api/episode/40',\n",
       "    'https://rickandmortyapi.com/api/episode/41',\n",
       "    'https://rickandmortyapi.com/api/episode/42',\n",
       "    'https://rickandmortyapi.com/api/episode/43',\n",
       "    'https://rickandmortyapi.com/api/episode/44',\n",
       "    'https://rickandmortyapi.com/api/episode/45',\n",
       "    'https://rickandmortyapi.com/api/episode/46',\n",
       "    'https://rickandmortyapi.com/api/episode/47',\n",
       "    'https://rickandmortyapi.com/api/episode/48',\n",
       "    'https://rickandmortyapi.com/api/episode/49',\n",
       "    'https://rickandmortyapi.com/api/episode/50',\n",
       "    'https://rickandmortyapi.com/api/episode/51'],\n",
       "   'url': 'https://rickandmortyapi.com/api/character/1',\n",
       "   'created': '2017-11-04T18:48:46.250Z'},\n",
       "  {'id': 2,\n",
       "   'name': 'Morty Smith',\n",
       "   'status': 'Alive',\n",
       "   'species': 'Human',\n",
       "   'type': '',\n",
       "   'gender': 'Male',\n",
       "   'origin': {'name': 'unknown', 'url': ''},\n",
       "   'location': {'name': 'Citadel of Ricks',\n",
       "    'url': 'https://rickandmortyapi.com/api/location/3'},\n",
       "   'image': 'https://rickandmortyapi.com/api/character/avatar/2.jpeg',\n",
       "   'episode': ['https://rickandmortyapi.com/api/episode/1',\n",
       "    'https://rickandmortyapi.com/api/episode/2',\n",
       "    'https://rickandmortyapi.com/api/episode/3',\n",
       "    'https://rickandmortyapi.com/api/episode/4',\n",
       "    'https://rickandmortyapi.com/api/episode/5',\n",
       "    'https://rickandmortyapi.com/api/episode/6',\n",
       "    'https://rickandmortyapi.com/api/episode/7',\n",
       "    'https://rickandmortyapi.com/api/episode/8',\n",
       "    'https://rickandmortyapi.com/api/episode/9',\n",
       "    'https://rickandmortyapi.com/api/episode/10',\n",
       "    'https://rickandmortyapi.com/api/episode/11',\n",
       "    'https://rickandmortyapi.com/api/episode/12',\n",
       "    'https://rickandmortyapi.com/api/episode/13',\n",
       "    'https://rickandmortyapi.com/api/episode/14',\n",
       "    'https://rickandmortyapi.com/api/episode/15',\n",
       "    'https://rickandmortyapi.com/api/episode/16',\n",
       "    'https://rickandmortyapi.com/api/episode/17',\n",
       "    'https://rickandmortyapi.com/api/episode/18',\n",
       "    'https://rickandmortyapi.com/api/episode/19',\n",
       "    'https://rickandmortyapi.com/api/episode/20',\n",
       "    'https://rickandmortyapi.com/api/episode/21',\n",
       "    'https://rickandmortyapi.com/api/episode/22',\n",
       "    'https://rickandmortyapi.com/api/episode/23',\n",
       "    'https://rickandmortyapi.com/api/episode/24',\n",
       "    'https://rickandmortyapi.com/api/episode/25',\n",
       "    'https://rickandmortyapi.com/api/episode/26',\n",
       "    'https://rickandmortyapi.com/api/episode/27',\n",
       "    'https://rickandmortyapi.com/api/episode/28',\n",
       "    'https://rickandmortyapi.com/api/episode/29',\n",
       "    'https://rickandmortyapi.com/api/episode/30',\n",
       "    'https://rickandmortyapi.com/api/episode/31',\n",
       "    'https://rickandmortyapi.com/api/episode/32',\n",
       "    'https://rickandmortyapi.com/api/episode/33',\n",
       "    'https://rickandmortyapi.com/api/episode/34',\n",
       "    'https://rickandmortyapi.com/api/episode/35',\n",
       "    'https://rickandmortyapi.com/api/episode/36',\n",
       "    'https://rickandmortyapi.com/api/episode/37',\n",
       "    'https://rickandmortyapi.com/api/episode/38',\n",
       "    'https://rickandmortyapi.com/api/episode/39',\n",
       "    'https://rickandmortyapi.com/api/episode/40',\n",
       "    'https://rickandmortyapi.com/api/episode/41',\n",
       "    'https://rickandmortyapi.com/api/episode/42',\n",
       "    'https://rickandmortyapi.com/api/episode/43',\n",
       "    'https://rickandmortyapi.com/api/episode/44',\n",
       "    'https://rickandmortyapi.com/api/episode/45',\n",
       "    'https://rickandmortyapi.com/api/episode/46',\n",
       "    'https://rickandmortyapi.com/api/episode/47',\n",
       "    'https://rickandmortyapi.com/api/episode/48',\n",
       "    'https://rickandmortyapi.com/api/episode/49',\n",
       "    'https://rickandmortyapi.com/api/episode/50',\n",
       "    'https://rickandmortyapi.com/api/episode/51'],\n",
       "   'url': 'https://rickandmortyapi.com/api/character/2',\n",
       "   'created': '2017-11-04T18:50:21.651Z'},\n",
       "  {'id': 3,\n",
       "   'name': 'Summer Smith',\n",
       "   'status': 'Alive',\n",
       "   'species': 'Human',\n",
       "   'type': '',\n",
       "   'gender': 'Female',\n",
       "   'origin': {'name': 'Earth (Replacement Dimension)',\n",
       "    'url': 'https://rickandmortyapi.com/api/location/20'},\n",
       "   'location': {'name': 'Earth (Replacement Dimension)',\n",
       "    'url': 'https://rickandmortyapi.com/api/location/20'},\n",
       "   'image': 'https://rickandmortyapi.com/api/character/avatar/3.jpeg',\n",
       "   'episode': ['https://rickandmortyapi.com/api/episode/6',\n",
       "    'https://rickandmortyapi.com/api/episode/7',\n",
       "    'https://rickandmortyapi.com/api/episode/8',\n",
       "    'https://rickandmortyapi.com/api/episode/9',\n",
       "    'https://rickandmortyapi.com/api/episode/10',\n",
       "    'https://rickandmortyapi.com/api/episode/11',\n",
       "    'https://rickandmortyapi.com/api/episode/12',\n",
       "    'https://rickandmortyapi.com/api/episode/14',\n",
       "    'https://rickandmortyapi.com/api/episode/15',\n",
       "    'https://rickandmortyapi.com/api/episode/16',\n",
       "    'https://rickandmortyapi.com/api/episode/17',\n",
       "    'https://rickandmortyapi.com/api/episode/18',\n",
       "    'https://rickandmortyapi.com/api/episode/19',\n",
       "    'https://rickandmortyapi.com/api/episode/20',\n",
       "    'https://rickandmortyapi.com/api/episode/21',\n",
       "    'https://rickandmortyapi.com/api/episode/22',\n",
       "    'https://rickandmortyapi.com/api/episode/23',\n",
       "    'https://rickandmortyapi.com/api/episode/24',\n",
       "    'https://rickandmortyapi.com/api/episode/25',\n",
       "    'https://rickandmortyapi.com/api/episode/26',\n",
       "    'https://rickandmortyapi.com/api/episode/27',\n",
       "    'https://rickandmortyapi.com/api/episode/29',\n",
       "    'https://rickandmortyapi.com/api/episode/30',\n",
       "    'https://rickandmortyapi.com/api/episode/31',\n",
       "    'https://rickandmortyapi.com/api/episode/32',\n",
       "    'https://rickandmortyapi.com/api/episode/33',\n",
       "    'https://rickandmortyapi.com/api/episode/34',\n",
       "    'https://rickandmortyapi.com/api/episode/35',\n",
       "    'https://rickandmortyapi.com/api/episode/36',\n",
       "    'https://rickandmortyapi.com/api/episode/38',\n",
       "    'https://rickandmortyapi.com/api/episode/39',\n",
       "    'https://rickandmortyapi.com/api/episode/40',\n",
       "    'https://rickandmortyapi.com/api/episode/41',\n",
       "    'https://rickandmortyapi.com/api/episode/42',\n",
       "    'https://rickandmortyapi.com/api/episode/43',\n",
       "    'https://rickandmortyapi.com/api/episode/44',\n",
       "    'https://rickandmortyapi.com/api/episode/45',\n",
       "    'https://rickandmortyapi.com/api/episode/46',\n",
       "    'https://rickandmortyapi.com/api/episode/47',\n",
       "    'https://rickandmortyapi.com/api/episode/48',\n",
       "    'https://rickandmortyapi.com/api/episode/49',\n",
       "    'https://rickandmortyapi.com/api/episode/51'],\n",
       "   'url': 'https://rickandmortyapi.com/api/character/3',\n",
       "   'created': '2017-11-04T19:09:56.428Z'},\n",
       "  {'id': 4,\n",
       "   'name': 'Beth Smith',\n",
       "   'status': 'Alive',\n",
       "   'species': 'Human',\n",
       "   'type': '',\n",
       "   'gender': 'Female',\n",
       "   'origin': {'name': 'Earth (Replacement Dimension)',\n",
       "    'url': 'https://rickandmortyapi.com/api/location/20'},\n",
       "   'location': {'name': 'Earth (Replacement Dimension)',\n",
       "    'url': 'https://rickandmortyapi.com/api/location/20'},\n",
       "   'image': 'https://rickandmortyapi.com/api/character/avatar/4.jpeg',\n",
       "   'episode': ['https://rickandmortyapi.com/api/episode/6',\n",
       "    'https://rickandmortyapi.com/api/episode/7',\n",
       "    'https://rickandmortyapi.com/api/episode/8',\n",
       "    'https://rickandmortyapi.com/api/episode/9',\n",
       "    'https://rickandmortyapi.com/api/episode/10',\n",
       "    'https://rickandmortyapi.com/api/episode/11',\n",
       "    'https://rickandmortyapi.com/api/episode/12',\n",
       "    'https://rickandmortyapi.com/api/episode/14',\n",
       "    'https://rickandmortyapi.com/api/episode/15',\n",
       "    'https://rickandmortyapi.com/api/episode/16',\n",
       "    'https://rickandmortyapi.com/api/episode/18',\n",
       "    'https://rickandmortyapi.com/api/episode/19',\n",
       "    'https://rickandmortyapi.com/api/episode/20',\n",
       "    'https://rickandmortyapi.com/api/episode/21',\n",
       "    'https://rickandmortyapi.com/api/episode/22',\n",
       "    'https://rickandmortyapi.com/api/episode/23',\n",
       "    'https://rickandmortyapi.com/api/episode/24',\n",
       "    'https://rickandmortyapi.com/api/episode/25',\n",
       "    'https://rickandmortyapi.com/api/episode/26',\n",
       "    'https://rickandmortyapi.com/api/episode/27',\n",
       "    'https://rickandmortyapi.com/api/episode/28',\n",
       "    'https://rickandmortyapi.com/api/episode/29',\n",
       "    'https://rickandmortyapi.com/api/episode/30',\n",
       "    'https://rickandmortyapi.com/api/episode/31',\n",
       "    'https://rickandmortyapi.com/api/episode/32',\n",
       "    'https://rickandmortyapi.com/api/episode/33',\n",
       "    'https://rickandmortyapi.com/api/episode/34',\n",
       "    'https://rickandmortyapi.com/api/episode/35',\n",
       "    'https://rickandmortyapi.com/api/episode/36',\n",
       "    'https://rickandmortyapi.com/api/episode/38',\n",
       "    'https://rickandmortyapi.com/api/episode/39',\n",
       "    'https://rickandmortyapi.com/api/episode/40',\n",
       "    'https://rickandmortyapi.com/api/episode/41',\n",
       "    'https://rickandmortyapi.com/api/episode/42',\n",
       "    'https://rickandmortyapi.com/api/episode/43',\n",
       "    'https://rickandmortyapi.com/api/episode/44',\n",
       "    'https://rickandmortyapi.com/api/episode/45',\n",
       "    'https://rickandmortyapi.com/api/episode/46',\n",
       "    'https://rickandmortyapi.com/api/episode/47',\n",
       "    'https://rickandmortyapi.com/api/episode/48',\n",
       "    'https://rickandmortyapi.com/api/episode/49',\n",
       "    'https://rickandmortyapi.com/api/episode/51'],\n",
       "   'url': 'https://rickandmortyapi.com/api/character/4',\n",
       "   'created': '2017-11-04T19:22:43.665Z'},\n",
       "  {'id': 5,\n",
       "   'name': 'Jerry Smith',\n",
       "   'status': 'Alive',\n",
       "   'species': 'Human',\n",
       "   'type': '',\n",
       "   'gender': 'Male',\n",
       "   'origin': {'name': 'Earth (Replacement Dimension)',\n",
       "    'url': 'https://rickandmortyapi.com/api/location/20'},\n",
       "   'location': {'name': 'Earth (Replacement Dimension)',\n",
       "    'url': 'https://rickandmortyapi.com/api/location/20'},\n",
       "   'image': 'https://rickandmortyapi.com/api/character/avatar/5.jpeg',\n",
       "   'episode': ['https://rickandmortyapi.com/api/episode/6',\n",
       "    'https://rickandmortyapi.com/api/episode/7',\n",
       "    'https://rickandmortyapi.com/api/episode/8',\n",
       "    'https://rickandmortyapi.com/api/episode/9',\n",
       "    'https://rickandmortyapi.com/api/episode/10',\n",
       "    'https://rickandmortyapi.com/api/episode/11',\n",
       "    'https://rickandmortyapi.com/api/episode/12',\n",
       "    'https://rickandmortyapi.com/api/episode/13',\n",
       "    'https://rickandmortyapi.com/api/episode/14',\n",
       "    'https://rickandmortyapi.com/api/episode/15',\n",
       "    'https://rickandmortyapi.com/api/episode/16',\n",
       "    'https://rickandmortyapi.com/api/episode/18',\n",
       "    'https://rickandmortyapi.com/api/episode/19',\n",
       "    'https://rickandmortyapi.com/api/episode/20',\n",
       "    'https://rickandmortyapi.com/api/episode/21',\n",
       "    'https://rickandmortyapi.com/api/episode/22',\n",
       "    'https://rickandmortyapi.com/api/episode/23',\n",
       "    'https://rickandmortyapi.com/api/episode/26',\n",
       "    'https://rickandmortyapi.com/api/episode/29',\n",
       "    'https://rickandmortyapi.com/api/episode/30',\n",
       "    'https://rickandmortyapi.com/api/episode/31',\n",
       "    'https://rickandmortyapi.com/api/episode/32',\n",
       "    'https://rickandmortyapi.com/api/episode/33',\n",
       "    'https://rickandmortyapi.com/api/episode/35',\n",
       "    'https://rickandmortyapi.com/api/episode/36',\n",
       "    'https://rickandmortyapi.com/api/episode/38',\n",
       "    'https://rickandmortyapi.com/api/episode/39',\n",
       "    'https://rickandmortyapi.com/api/episode/40',\n",
       "    'https://rickandmortyapi.com/api/episode/41',\n",
       "    'https://rickandmortyapi.com/api/episode/42',\n",
       "    'https://rickandmortyapi.com/api/episode/43',\n",
       "    'https://rickandmortyapi.com/api/episode/44',\n",
       "    'https://rickandmortyapi.com/api/episode/45',\n",
       "    'https://rickandmortyapi.com/api/episode/46',\n",
       "    'https://rickandmortyapi.com/api/episode/47',\n",
       "    'https://rickandmortyapi.com/api/episode/48',\n",
       "    'https://rickandmortyapi.com/api/episode/49',\n",
       "    'https://rickandmortyapi.com/api/episode/50',\n",
       "    'https://rickandmortyapi.com/api/episode/51'],\n",
       "   'url': 'https://rickandmortyapi.com/api/character/5',\n",
       "   'created': '2017-11-04T19:26:56.301Z'},\n",
       "  {'id': 6,\n",
       "   'name': 'Abadango Cluster Princess',\n",
       "   'status': 'Alive',\n",
       "   'species': 'Alien',\n",
       "   'type': '',\n",
       "   'gender': 'Female',\n",
       "   'origin': {'name': 'Abadango',\n",
       "    'url': 'https://rickandmortyapi.com/api/location/2'},\n",
       "   'location': {'name': 'Abadango',\n",
       "    'url': 'https://rickandmortyapi.com/api/location/2'},\n",
       "   'image': 'https://rickandmortyapi.com/api/character/avatar/6.jpeg',\n",
       "   'episode': ['https://rickandmortyapi.com/api/episode/27'],\n",
       "   'url': 'https://rickandmortyapi.com/api/character/6',\n",
       "   'created': '2017-11-04T19:50:28.250Z'},\n",
       "  {'id': 7,\n",
       "   'name': 'Abradolf Lincler',\n",
       "   'status': 'unknown',\n",
       "   'species': 'Human',\n",
       "   'type': 'Genetic experiment',\n",
       "   'gender': 'Male',\n",
       "   'origin': {'name': 'Earth (Replacement Dimension)',\n",
       "    'url': 'https://rickandmortyapi.com/api/location/20'},\n",
       "   'location': {'name': 'Testicle Monster Dimension',\n",
       "    'url': 'https://rickandmortyapi.com/api/location/21'},\n",
       "   'image': 'https://rickandmortyapi.com/api/character/avatar/7.jpeg',\n",
       "   'episode': ['https://rickandmortyapi.com/api/episode/10',\n",
       "    'https://rickandmortyapi.com/api/episode/11'],\n",
       "   'url': 'https://rickandmortyapi.com/api/character/7',\n",
       "   'created': '2017-11-04T19:59:20.523Z'},\n",
       "  {'id': 8,\n",
       "   'name': 'Adjudicator Rick',\n",
       "   'status': 'Dead',\n",
       "   'species': 'Human',\n",
       "   'type': '',\n",
       "   'gender': 'Male',\n",
       "   'origin': {'name': 'unknown', 'url': ''},\n",
       "   'location': {'name': 'Citadel of Ricks',\n",
       "    'url': 'https://rickandmortyapi.com/api/location/3'},\n",
       "   'image': 'https://rickandmortyapi.com/api/character/avatar/8.jpeg',\n",
       "   'episode': ['https://rickandmortyapi.com/api/episode/28'],\n",
       "   'url': 'https://rickandmortyapi.com/api/character/8',\n",
       "   'created': '2017-11-04T20:03:34.737Z'},\n",
       "  {'id': 9,\n",
       "   'name': 'Agency Director',\n",
       "   'status': 'Dead',\n",
       "   'species': 'Human',\n",
       "   'type': '',\n",
       "   'gender': 'Male',\n",
       "   'origin': {'name': 'Earth (Replacement Dimension)',\n",
       "    'url': 'https://rickandmortyapi.com/api/location/20'},\n",
       "   'location': {'name': 'Earth (Replacement Dimension)',\n",
       "    'url': 'https://rickandmortyapi.com/api/location/20'},\n",
       "   'image': 'https://rickandmortyapi.com/api/character/avatar/9.jpeg',\n",
       "   'episode': ['https://rickandmortyapi.com/api/episode/24'],\n",
       "   'url': 'https://rickandmortyapi.com/api/character/9',\n",
       "   'created': '2017-11-04T20:06:54.976Z'},\n",
       "  {'id': 10,\n",
       "   'name': 'Alan Rails',\n",
       "   'status': 'Dead',\n",
       "   'species': 'Human',\n",
       "   'type': 'Superhuman (Ghost trains summoner)',\n",
       "   'gender': 'Male',\n",
       "   'origin': {'name': 'unknown', 'url': ''},\n",
       "   'location': {'name': \"Worldender's lair\",\n",
       "    'url': 'https://rickandmortyapi.com/api/location/4'},\n",
       "   'image': 'https://rickandmortyapi.com/api/character/avatar/10.jpeg',\n",
       "   'episode': ['https://rickandmortyapi.com/api/episode/25'],\n",
       "   'url': 'https://rickandmortyapi.com/api/character/10',\n",
       "   'created': '2017-11-04T20:19:09.017Z'},\n",
       "  {'id': 11,\n",
       "   'name': 'Albert Einstein',\n",
       "   'status': 'Dead',\n",
       "   'species': 'Human',\n",
       "   'type': '',\n",
       "   'gender': 'Male',\n",
       "   'origin': {'name': 'Earth (C-137)',\n",
       "    'url': 'https://rickandmortyapi.com/api/location/1'},\n",
       "   'location': {'name': 'Earth (Replacement Dimension)',\n",
       "    'url': 'https://rickandmortyapi.com/api/location/20'},\n",
       "   'image': 'https://rickandmortyapi.com/api/character/avatar/11.jpeg',\n",
       "   'episode': ['https://rickandmortyapi.com/api/episode/12'],\n",
       "   'url': 'https://rickandmortyapi.com/api/character/11',\n",
       "   'created': '2017-11-04T20:20:20.965Z'},\n",
       "  {'id': 12,\n",
       "   'name': 'Alexander',\n",
       "   'status': 'Dead',\n",
       "   'species': 'Human',\n",
       "   'type': '',\n",
       "   'gender': 'Male',\n",
       "   'origin': {'name': 'Earth (C-137)',\n",
       "    'url': 'https://rickandmortyapi.com/api/location/1'},\n",
       "   'location': {'name': 'Anatomy Park',\n",
       "    'url': 'https://rickandmortyapi.com/api/location/5'},\n",
       "   'image': 'https://rickandmortyapi.com/api/character/avatar/12.jpeg',\n",
       "   'episode': ['https://rickandmortyapi.com/api/episode/3'],\n",
       "   'url': 'https://rickandmortyapi.com/api/character/12',\n",
       "   'created': '2017-11-04T20:32:33.144Z'},\n",
       "  {'id': 13,\n",
       "   'name': 'Alien Googah',\n",
       "   'status': 'unknown',\n",
       "   'species': 'Alien',\n",
       "   'type': '',\n",
       "   'gender': 'unknown',\n",
       "   'origin': {'name': 'unknown', 'url': ''},\n",
       "   'location': {'name': 'Earth (Replacement Dimension)',\n",
       "    'url': 'https://rickandmortyapi.com/api/location/20'},\n",
       "   'image': 'https://rickandmortyapi.com/api/character/avatar/13.jpeg',\n",
       "   'episode': ['https://rickandmortyapi.com/api/episode/31'],\n",
       "   'url': 'https://rickandmortyapi.com/api/character/13',\n",
       "   'created': '2017-11-04T20:33:30.779Z'},\n",
       "  {'id': 14,\n",
       "   'name': 'Alien Morty',\n",
       "   'status': 'unknown',\n",
       "   'species': 'Alien',\n",
       "   'type': '',\n",
       "   'gender': 'Male',\n",
       "   'origin': {'name': 'unknown', 'url': ''},\n",
       "   'location': {'name': 'Citadel of Ricks',\n",
       "    'url': 'https://rickandmortyapi.com/api/location/3'},\n",
       "   'image': 'https://rickandmortyapi.com/api/character/avatar/14.jpeg',\n",
       "   'episode': ['https://rickandmortyapi.com/api/episode/10'],\n",
       "   'url': 'https://rickandmortyapi.com/api/character/14',\n",
       "   'created': '2017-11-04T20:51:31.373Z'},\n",
       "  {'id': 15,\n",
       "   'name': 'Alien Rick',\n",
       "   'status': 'unknown',\n",
       "   'species': 'Alien',\n",
       "   'type': '',\n",
       "   'gender': 'Male',\n",
       "   'origin': {'name': 'unknown', 'url': ''},\n",
       "   'location': {'name': 'Citadel of Ricks',\n",
       "    'url': 'https://rickandmortyapi.com/api/location/3'},\n",
       "   'image': 'https://rickandmortyapi.com/api/character/avatar/15.jpeg',\n",
       "   'episode': ['https://rickandmortyapi.com/api/episode/10'],\n",
       "   'url': 'https://rickandmortyapi.com/api/character/15',\n",
       "   'created': '2017-11-04T20:56:13.215Z'},\n",
       "  {'id': 16,\n",
       "   'name': 'Amish Cyborg',\n",
       "   'status': 'Dead',\n",
       "   'species': 'Alien',\n",
       "   'type': 'Parasite',\n",
       "   'gender': 'Male',\n",
       "   'origin': {'name': 'unknown', 'url': ''},\n",
       "   'location': {'name': 'Earth (Replacement Dimension)',\n",
       "    'url': 'https://rickandmortyapi.com/api/location/20'},\n",
       "   'image': 'https://rickandmortyapi.com/api/character/avatar/16.jpeg',\n",
       "   'episode': ['https://rickandmortyapi.com/api/episode/15'],\n",
       "   'url': 'https://rickandmortyapi.com/api/character/16',\n",
       "   'created': '2017-11-04T21:12:45.235Z'},\n",
       "  {'id': 17,\n",
       "   'name': 'Annie',\n",
       "   'status': 'Alive',\n",
       "   'species': 'Human',\n",
       "   'type': '',\n",
       "   'gender': 'Female',\n",
       "   'origin': {'name': 'Earth (C-137)',\n",
       "    'url': 'https://rickandmortyapi.com/api/location/1'},\n",
       "   'location': {'name': 'Anatomy Park',\n",
       "    'url': 'https://rickandmortyapi.com/api/location/5'},\n",
       "   'image': 'https://rickandmortyapi.com/api/character/avatar/17.jpeg',\n",
       "   'episode': ['https://rickandmortyapi.com/api/episode/3'],\n",
       "   'url': 'https://rickandmortyapi.com/api/character/17',\n",
       "   'created': '2017-11-04T22:21:24.481Z'},\n",
       "  {'id': 18,\n",
       "   'name': 'Antenna Morty',\n",
       "   'status': 'Alive',\n",
       "   'species': 'Human',\n",
       "   'type': 'Human with antennae',\n",
       "   'gender': 'Male',\n",
       "   'origin': {'name': 'unknown', 'url': ''},\n",
       "   'location': {'name': 'Citadel of Ricks',\n",
       "    'url': 'https://rickandmortyapi.com/api/location/3'},\n",
       "   'image': 'https://rickandmortyapi.com/api/character/avatar/18.jpeg',\n",
       "   'episode': ['https://rickandmortyapi.com/api/episode/10',\n",
       "    'https://rickandmortyapi.com/api/episode/28'],\n",
       "   'url': 'https://rickandmortyapi.com/api/character/18',\n",
       "   'created': '2017-11-04T22:25:29.008Z'},\n",
       "  {'id': 19,\n",
       "   'name': 'Antenna Rick',\n",
       "   'status': 'unknown',\n",
       "   'species': 'Human',\n",
       "   'type': 'Human with antennae',\n",
       "   'gender': 'Male',\n",
       "   'origin': {'name': 'unknown', 'url': ''},\n",
       "   'location': {'name': 'unknown', 'url': ''},\n",
       "   'image': 'https://rickandmortyapi.com/api/character/avatar/19.jpeg',\n",
       "   'episode': ['https://rickandmortyapi.com/api/episode/10'],\n",
       "   'url': 'https://rickandmortyapi.com/api/character/19',\n",
       "   'created': '2017-11-04T22:28:13.756Z'},\n",
       "  {'id': 20,\n",
       "   'name': 'Ants in my Eyes Johnson',\n",
       "   'status': 'unknown',\n",
       "   'species': 'Human',\n",
       "   'type': 'Human with ants in his eyes',\n",
       "   'gender': 'Male',\n",
       "   'origin': {'name': 'unknown', 'url': ''},\n",
       "   'location': {'name': 'Interdimensional Cable',\n",
       "    'url': 'https://rickandmortyapi.com/api/location/6'},\n",
       "   'image': 'https://rickandmortyapi.com/api/character/avatar/20.jpeg',\n",
       "   'episode': ['https://rickandmortyapi.com/api/episode/8'],\n",
       "   'url': 'https://rickandmortyapi.com/api/character/20',\n",
       "   'created': '2017-11-04T22:34:53.659Z'}]}"
      ]
     },
     "execution_count": 39,
     "metadata": {},
     "output_type": "execute_result"
    }
   ],
   "source": [
    "data"
   ]
  },
  {
   "cell_type": "code",
   "execution_count": null,
   "id": "55c3fe43-715c-4787-8d4a-51c06c0b9147",
   "metadata": {},
   "outputs": [],
   "source": [
    "my_data = "
   ]
  },
  {
   "cell_type": "code",
   "execution_count": null,
   "id": "c7afe24d-f59d-4a47-bc38-24951c97f111",
   "metadata": {},
   "outputs": [],
   "source": []
  },
  {
   "cell_type": "code",
   "execution_count": 40,
   "id": "b09b627d-1bb5-4c1a-93fb-9b76f8f8bce3",
   "metadata": {},
   "outputs": [],
   "source": [
    "import pandas as pd"
   ]
  },
  {
   "cell_type": "code",
   "execution_count": null,
   "id": "55e3802f-5edd-492a-b4de-d8810bea1af8",
   "metadata": {},
   "outputs": [],
   "source": []
  },
  {
   "cell_type": "code",
   "execution_count": null,
   "id": "3167d432-9a5c-4d52-9f66-31dccb5f4400",
   "metadata": {},
   "outputs": [],
   "source": []
  },
  {
   "cell_type": "code",
   "execution_count": null,
   "id": "4c12143e-798e-4dfc-a1fd-7e11d46a09c3",
   "metadata": {},
   "outputs": [],
   "source": []
  },
  {
   "cell_type": "code",
   "execution_count": 45,
   "id": "c276f04e-614a-47ef-8c4f-bc0e97e5ddb8",
   "metadata": {},
   "outputs": [
    {
     "ename": "SyntaxError",
     "evalue": "invalid syntax (3016611956.py, line 1)",
     "output_type": "error",
     "traceback": [
      "\u001b[0;36m  Cell \u001b[0;32mIn[45], line 1\u001b[0;36m\u001b[0m\n\u001b[0;31m    def.pd.DataFrame(my_data)\u001b[0m\n\u001b[0m       ^\u001b[0m\n\u001b[0;31mSyntaxError\u001b[0m\u001b[0;31m:\u001b[0m invalid syntax\n"
     ]
    }
   ],
   "source": [
    "def.pd.DataFrame(my_data)"
   ]
  },
  {
   "cell_type": "code",
   "execution_count": null,
   "id": "7211cf01-4781-41e7-9f53-3bbb20279c33",
   "metadata": {},
   "outputs": [],
   "source": []
  }
 ],
 "metadata": {
  "kernelspec": {
   "display_name": "Python 3 (ipykernel)",
   "language": "python",
   "name": "python3"
  },
  "language_info": {
   "codemirror_mode": {
    "name": "ipython",
    "version": 3
   },
   "file_extension": ".py",
   "mimetype": "text/x-python",
   "name": "python",
   "nbconvert_exporter": "python",
   "pygments_lexer": "ipython3",
   "version": "3.12.2"
  }
 },
 "nbformat": 4,
 "nbformat_minor": 5
}
