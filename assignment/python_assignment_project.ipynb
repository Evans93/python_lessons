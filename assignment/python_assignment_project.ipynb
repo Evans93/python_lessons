{
 "cells": [
  {
   "cell_type": "markdown",
   "id": "306d2eb1",
   "metadata": {},
   "source": [
    "## ASSIGNMENT 1"
   ]
  },
  {
   "cell_type": "code",
   "execution_count": null,
   "id": "6f475d5d",
   "metadata": {},
   "outputs": [],
   "source": []
  },
  {
   "cell_type": "code",
   "execution_count": 3,
   "id": "c39c16ba",
   "metadata": {},
   "outputs": [],
   "source": [
    "# please convert \"3.5\" to an integer\n",
    "\n",
    "bad_weight = \"3.5\""
   ]
  },
  {
   "cell_type": "code",
   "execution_count": 4,
   "id": "fd8c0484",
   "metadata": {},
   "outputs": [
    {
     "name": "stdout",
     "output_type": "stream",
     "text": [
      "<class 'str'>\n"
     ]
    }
   ],
   "source": [
    "print(type(bad_weight))"
   ]
  },
  {
   "cell_type": "code",
   "execution_count": null,
   "id": "6a517820",
   "metadata": {},
   "outputs": [],
   "source": []
  },
  {
   "cell_type": "code",
   "execution_count": 5,
   "id": "325f567f",
   "metadata": {},
   "outputs": [
    {
     "name": "stdout",
     "output_type": "stream",
     "text": [
      "3.5\n"
     ]
    }
   ],
   "source": [
    "print(float(bad_weight))"
   ]
  },
  {
   "cell_type": "code",
   "execution_count": 6,
   "id": "9be8f79e",
   "metadata": {},
   "outputs": [],
   "source": [
    "convert_bad_weight_to_float = float(bad_weight)"
   ]
  },
  {
   "cell_type": "code",
   "execution_count": 7,
   "id": "92dc0042",
   "metadata": {},
   "outputs": [
    {
     "name": "stdout",
     "output_type": "stream",
     "text": [
      "3.5\n"
     ]
    }
   ],
   "source": [
    "print(convert_bad_weight_to_float)"
   ]
  },
  {
   "cell_type": "code",
   "execution_count": 8,
   "id": "6a71ef7c",
   "metadata": {},
   "outputs": [
    {
     "name": "stdout",
     "output_type": "stream",
     "text": [
      "<class 'float'>\n"
     ]
    }
   ],
   "source": [
    "print(type(convert_bad_weight_to_float))"
   ]
  },
  {
   "cell_type": "code",
   "execution_count": null,
   "id": "dfb543de",
   "metadata": {},
   "outputs": [],
   "source": []
  },
  {
   "cell_type": "code",
   "execution_count": 9,
   "id": "4202aad5",
   "metadata": {},
   "outputs": [],
   "source": [
    "convert_bad_weight_to_float_to_int = int(convert_bad_weight_to_float)"
   ]
  },
  {
   "cell_type": "code",
   "execution_count": 10,
   "id": "6e51d422",
   "metadata": {},
   "outputs": [
    {
     "name": "stdout",
     "output_type": "stream",
     "text": [
      "<class 'int'>\n"
     ]
    }
   ],
   "source": [
    "print(type(convert_bad_weight_to_float_to_int))"
   ]
  },
  {
   "cell_type": "code",
   "execution_count": 12,
   "id": "93affdcd",
   "metadata": {},
   "outputs": [
    {
     "name": "stdout",
     "output_type": "stream",
     "text": [
      "3\n"
     ]
    }
   ],
   "source": [
    "print(convert_bad_weight_to_float_to_int)"
   ]
  },
  {
   "cell_type": "code",
   "execution_count": null,
   "id": "d9656894",
   "metadata": {},
   "outputs": [],
   "source": []
  },
  {
   "cell_type": "markdown",
   "id": "b0510e16",
   "metadata": {},
   "source": [
    "### ASSIGNMENT 2"
   ]
  },
  {
   "cell_type": "code",
   "execution_count": 13,
   "id": "9b1c2491",
   "metadata": {},
   "outputs": [],
   "source": [
    "# find out if m starts the name called mayowa \n",
    "\n",
    "name = \"mayowa\""
   ]
  },
  {
   "cell_type": "code",
   "execution_count": 14,
   "id": "70ebbec6",
   "metadata": {},
   "outputs": [
    {
     "name": "stdout",
     "output_type": "stream",
     "text": [
      "True\n"
     ]
    }
   ],
   "source": [
    "find_out_if_name_start_with_m = name.startswith(\"m\")\n",
    "\n",
    "print(find_out_if_name_start_with_m)"
   ]
  },
  {
   "cell_type": "code",
   "execution_count": null,
   "id": "dfed1c33",
   "metadata": {},
   "outputs": [],
   "source": []
  },
  {
   "cell_type": "code",
   "execution_count": 15,
   "id": "356c5129",
   "metadata": {},
   "outputs": [
    {
     "name": "stdout",
     "output_type": "stream",
     "text": [
      "True\n"
     ]
    }
   ],
   "source": [
    "find_out_if_name_end_with_a = name.endswith(\"a\")\n",
    "\n",
    "print(find_out_if_name_end_with_a)"
   ]
  },
  {
   "cell_type": "code",
   "execution_count": null,
   "id": "6af61e8e",
   "metadata": {},
   "outputs": [],
   "source": []
  },
  {
   "cell_type": "markdown",
   "id": "02edfca8",
   "metadata": {},
   "source": [
    "### DONE"
   ]
  },
  {
   "cell_type": "code",
   "execution_count": null,
   "id": "abffd956",
   "metadata": {},
   "outputs": [],
   "source": []
  },
  {
   "cell_type": "code",
   "execution_count": null,
   "id": "ce06eb28",
   "metadata": {},
   "outputs": [],
   "source": []
  },
  {
   "cell_type": "markdown",
   "id": "803008e6",
   "metadata": {},
   "source": []
  }
 ],
 "metadata": {
  "kernelspec": {
   "display_name": "Python 3 (ipykernel)",
   "language": "python",
   "name": "python3"
  },
  "language_info": {
   "codemirror_mode": {
    "name": "ipython",
    "version": 3
   },
   "file_extension": ".py",
   "mimetype": "text/x-python",
   "name": "python",
   "nbconvert_exporter": "python",
   "pygments_lexer": "ipython3",
   "version": "3.10.4"
  }
 },
 "nbformat": 4,
 "nbformat_minor": 5
}
