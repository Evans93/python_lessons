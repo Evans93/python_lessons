{
 "cells": [
  {
   "cell_type": "markdown",
   "id": "45d7ea06",
   "metadata": {},
   "source": [
    "### PYTHON VARIABLES"
   ]
  },
  {
   "cell_type": "code",
   "execution_count": null,
   "id": "641cf243",
   "metadata": {},
   "outputs": [],
   "source": []
  },
  {
   "cell_type": "code",
   "execution_count": 6,
   "id": "67a2b02f",
   "metadata": {},
   "outputs": [],
   "source": [
    "names_of_customers = [\"evans, seyi, foli, Desmond, ojo, Dotun\"]"
   ]
  },
  {
   "cell_type": "code",
   "execution_count": 7,
   "id": "9682565c",
   "metadata": {},
   "outputs": [
    {
     "name": "stdout",
     "output_type": "stream",
     "text": [
      "<class 'list'>\n"
     ]
    }
   ],
   "source": [
    "print(type(names_of_customers))"
   ]
  },
  {
   "cell_type": "code",
   "execution_count": 8,
   "id": "4513ffe2",
   "metadata": {},
   "outputs": [
    {
     "name": "stdout",
     "output_type": "stream",
     "text": [
      "['evans, seyi, foli, Desmond, ojo, Dotun']\n"
     ]
    }
   ],
   "source": [
    "print(names_of_customers)"
   ]
  },
  {
   "cell_type": "code",
   "execution_count": null,
   "id": "860f86ef",
   "metadata": {},
   "outputs": [],
   "source": []
  },
  {
   "cell_type": "markdown",
   "id": "9dacec53",
   "metadata": {},
   "source": [
    "## PYTHON DATA TYPES"
   ]
  },
  {
   "cell_type": "code",
   "execution_count": null,
   "id": "6b5b5e50",
   "metadata": {},
   "outputs": [],
   "source": []
  },
  {
   "cell_type": "code",
   "execution_count": 21,
   "id": "84ba3ee6",
   "metadata": {},
   "outputs": [],
   "source": [
    "numbers = (30, 78, 99)"
   ]
  },
  {
   "cell_type": "code",
   "execution_count": 22,
   "id": "16cb3cea",
   "metadata": {},
   "outputs": [
    {
     "name": "stdout",
     "output_type": "stream",
     "text": [
      "<class 'tuple'>\n"
     ]
    }
   ],
   "source": [
    "print(type(numbers))"
   ]
  },
  {
   "cell_type": "code",
   "execution_count": null,
   "id": "7169901b",
   "metadata": {},
   "outputs": [],
   "source": []
  },
  {
   "cell_type": "code",
   "execution_count": 15,
   "id": "75439d25",
   "metadata": {},
   "outputs": [],
   "source": [
    "numbers = \"40, 78, 99\""
   ]
  },
  {
   "cell_type": "code",
   "execution_count": 16,
   "id": "48a63043",
   "metadata": {},
   "outputs": [
    {
     "name": "stdout",
     "output_type": "stream",
     "text": [
      "<class 'str'>\n"
     ]
    }
   ],
   "source": [
    "print(type(numbers))"
   ]
  },
  {
   "cell_type": "code",
   "execution_count": null,
   "id": "6a4345ef",
   "metadata": {},
   "outputs": [],
   "source": []
  },
  {
   "cell_type": "code",
   "execution_count": 17,
   "id": "64004d8b",
   "metadata": {},
   "outputs": [],
   "source": [
    "age = 44"
   ]
  },
  {
   "cell_type": "code",
   "execution_count": 19,
   "id": "2a776818",
   "metadata": {},
   "outputs": [
    {
     "name": "stdout",
     "output_type": "stream",
     "text": [
      "<class 'int'>\n"
     ]
    }
   ],
   "source": [
    "print(type(age))"
   ]
  },
  {
   "cell_type": "code",
   "execution_count": null,
   "id": "dc56f1d0",
   "metadata": {},
   "outputs": [],
   "source": []
  },
  {
   "cell_type": "code",
   "execution_count": 25,
   "id": "309d48bd",
   "metadata": {},
   "outputs": [],
   "source": [
    "name = \"evans\""
   ]
  },
  {
   "cell_type": "code",
   "execution_count": 26,
   "id": "09d63823",
   "metadata": {},
   "outputs": [
    {
     "name": "stdout",
     "output_type": "stream",
     "text": [
      "<class 'str'>\n"
     ]
    }
   ],
   "source": [
    "print(type(name))"
   ]
  },
  {
   "cell_type": "code",
   "execution_count": 27,
   "id": "a5587834",
   "metadata": {},
   "outputs": [
    {
     "name": "stdout",
     "output_type": "stream",
     "text": [
      "evans\n"
     ]
    }
   ],
   "source": [
    "print(name)"
   ]
  },
  {
   "cell_type": "code",
   "execution_count": null,
   "id": "57b93d1c",
   "metadata": {},
   "outputs": [],
   "source": []
  },
  {
   "cell_type": "code",
   "execution_count": 28,
   "id": "332693d0",
   "metadata": {},
   "outputs": [],
   "source": [
    "is_married = True\n",
    "is_divorced = False"
   ]
  },
  {
   "cell_type": "code",
   "execution_count": 29,
   "id": "60f0348c",
   "metadata": {},
   "outputs": [
    {
     "name": "stdout",
     "output_type": "stream",
     "text": [
      "<class 'bool'>\n"
     ]
    }
   ],
   "source": [
    "print(type(is_married))"
   ]
  },
  {
   "cell_type": "code",
   "execution_count": 30,
   "id": "d178519e",
   "metadata": {},
   "outputs": [
    {
     "name": "stdout",
     "output_type": "stream",
     "text": [
      "<class 'bool'>\n"
     ]
    }
   ],
   "source": [
    "print(type(is_divorced))"
   ]
  },
  {
   "cell_type": "code",
   "execution_count": null,
   "id": "ffefa363",
   "metadata": {},
   "outputs": [],
   "source": []
  },
  {
   "cell_type": "markdown",
   "id": "af7d381d",
   "metadata": {},
   "source": [
    "### PRINT"
   ]
  },
  {
   "cell_type": "code",
   "execution_count": null,
   "id": "6636dcf2",
   "metadata": {},
   "outputs": [],
   "source": []
  },
  {
   "cell_type": "code",
   "execution_count": 31,
   "id": "a0c4ff6d",
   "metadata": {},
   "outputs": [],
   "source": [
    "names_of_student_in_class = \"evans, john, seyi, foli\""
   ]
  },
  {
   "cell_type": "code",
   "execution_count": 32,
   "id": "599d3a62",
   "metadata": {},
   "outputs": [
    {
     "name": "stdout",
     "output_type": "stream",
     "text": [
      "evans, john, seyi, foli\n"
     ]
    }
   ],
   "source": [
    "print(names_of_student_in_class)"
   ]
  },
  {
   "cell_type": "code",
   "execution_count": null,
   "id": "4829d64b",
   "metadata": {},
   "outputs": [],
   "source": []
  },
  {
   "cell_type": "code",
   "execution_count": 33,
   "id": "4660dcae",
   "metadata": {},
   "outputs": [
    {
     "name": "stdout",
     "output_type": "stream",
     "text": [
      "hey, how are you \n"
     ]
    }
   ],
   "source": [
    "print(\"hey, how are you \")"
   ]
  },
  {
   "cell_type": "code",
   "execution_count": null,
   "id": "1e41b222",
   "metadata": {},
   "outputs": [],
   "source": []
  },
  {
   "cell_type": "markdown",
   "id": "7143403d",
   "metadata": {},
   "source": [
    "### DATA TYPES CHECKS"
   ]
  },
  {
   "cell_type": "code",
   "execution_count": null,
   "id": "181f10be",
   "metadata": {},
   "outputs": [],
   "source": []
  },
  {
   "cell_type": "code",
   "execution_count": 34,
   "id": "fa5266e7",
   "metadata": {},
   "outputs": [],
   "source": [
    "name_of_nigeria_president = \"Bola Ahmad Tinubu\""
   ]
  },
  {
   "cell_type": "code",
   "execution_count": 35,
   "id": "bb488f56",
   "metadata": {},
   "outputs": [
    {
     "name": "stdout",
     "output_type": "stream",
     "text": [
      "Bola Ahmad Tinubu\n"
     ]
    }
   ],
   "source": [
    "print(name_of_nigeria_president)"
   ]
  },
  {
   "cell_type": "code",
   "execution_count": 36,
   "id": "23a3960a",
   "metadata": {},
   "outputs": [
    {
     "name": "stdout",
     "output_type": "stream",
     "text": [
      "<class 'str'>\n"
     ]
    }
   ],
   "source": [
    "print(type(name_of_nigeria_president))"
   ]
  },
  {
   "cell_type": "code",
   "execution_count": 37,
   "id": "137996c5",
   "metadata": {},
   "outputs": [
    {
     "name": "stdout",
     "output_type": "stream",
     "text": [
      "how old is nigeria president: 72\n"
     ]
    }
   ],
   "source": [
    "age_of_nigeria_president = input(\"how old is nigeria president: \")"
   ]
  },
  {
   "cell_type": "code",
   "execution_count": 38,
   "id": "7c0dc6b9",
   "metadata": {},
   "outputs": [
    {
     "name": "stdout",
     "output_type": "stream",
     "text": [
      "<class 'str'>\n"
     ]
    }
   ],
   "source": [
    "print(type(age_of_nigeria_president))"
   ]
  },
  {
   "cell_type": "code",
   "execution_count": 39,
   "id": "8c22dabe",
   "metadata": {},
   "outputs": [],
   "source": [
    "amount_of_loan_paid_to_students = 10.900"
   ]
  },
  {
   "cell_type": "code",
   "execution_count": 40,
   "id": "23e9945b",
   "metadata": {},
   "outputs": [
    {
     "name": "stdout",
     "output_type": "stream",
     "text": [
      "<class 'float'>\n"
     ]
    }
   ],
   "source": [
    "print(type(amount_of_loan_paid_to_students))"
   ]
  },
  {
   "cell_type": "code",
   "execution_count": null,
   "id": "bf961a14",
   "metadata": {},
   "outputs": [],
   "source": []
  },
  {
   "cell_type": "markdown",
   "id": "3ec3f08b",
   "metadata": {},
   "source": [
    "## DATA TYPES CASTING"
   ]
  },
  {
   "cell_type": "code",
   "execution_count": 42,
   "id": "a1d932b6",
   "metadata": {},
   "outputs": [],
   "source": [
    "number = 50"
   ]
  },
  {
   "cell_type": "code",
   "execution_count": 44,
   "id": "914179d7",
   "metadata": {},
   "outputs": [
    {
     "name": "stdout",
     "output_type": "stream",
     "text": [
      "50.0\n"
     ]
    }
   ],
   "source": [
    "# convert integer to float\n",
    "print(float(number))"
   ]
  },
  {
   "cell_type": "code",
   "execution_count": 46,
   "id": "c32d48ec",
   "metadata": {},
   "outputs": [],
   "source": [
    "x = 3.4"
   ]
  },
  {
   "cell_type": "code",
   "execution_count": 48,
   "id": "6d06d376",
   "metadata": {},
   "outputs": [
    {
     "name": "stdout",
     "output_type": "stream",
     "text": [
      "3\n"
     ]
    }
   ],
   "source": [
    "# convert float to integer\n",
    "print(int(x))"
   ]
  },
  {
   "cell_type": "code",
   "execution_count": 49,
   "id": "f9f97859",
   "metadata": {},
   "outputs": [],
   "source": [
    "age = \"40\""
   ]
  },
  {
   "cell_type": "code",
   "execution_count": 50,
   "id": "7fa8b265",
   "metadata": {},
   "outputs": [
    {
     "name": "stdout",
     "output_type": "stream",
     "text": [
      "40\n"
     ]
    }
   ],
   "source": [
    "print(int(age))"
   ]
  },
  {
   "cell_type": "code",
   "execution_count": 51,
   "id": "1310274f",
   "metadata": {},
   "outputs": [],
   "source": [
    "convert_age_to_int = (int(age))"
   ]
  },
  {
   "cell_type": "code",
   "execution_count": 52,
   "id": "99d1cbc8",
   "metadata": {},
   "outputs": [
    {
     "name": "stdout",
     "output_type": "stream",
     "text": [
      "40\n"
     ]
    }
   ],
   "source": [
    "print(convert_age_to_int)"
   ]
  },
  {
   "cell_type": "code",
   "execution_count": 53,
   "id": "38fcdf3c",
   "metadata": {},
   "outputs": [
    {
     "name": "stdout",
     "output_type": "stream",
     "text": [
      "<class 'int'>\n"
     ]
    }
   ],
   "source": [
    "print(type(convert_age_to_int))"
   ]
  },
  {
   "cell_type": "code",
   "execution_count": 54,
   "id": "0a48da4e",
   "metadata": {},
   "outputs": [],
   "source": [
    "cleaned_age = int(convert_age_to_int)"
   ]
  },
  {
   "cell_type": "code",
   "execution_count": 55,
   "id": "e4719013",
   "metadata": {},
   "outputs": [
    {
     "name": "stdout",
     "output_type": "stream",
     "text": [
      "<class 'int'>\n"
     ]
    }
   ],
   "source": [
    "print(type(cleaned_age))"
   ]
  },
  {
   "cell_type": "code",
   "execution_count": 56,
   "id": "a4b778b0",
   "metadata": {},
   "outputs": [
    {
     "name": "stdout",
     "output_type": "stream",
     "text": [
      "40\n"
     ]
    }
   ],
   "source": [
    "print(cleaned_age)"
   ]
  },
  {
   "cell_type": "code",
   "execution_count": null,
   "id": "9679131c",
   "metadata": {},
   "outputs": [],
   "source": []
  },
  {
   "cell_type": "markdown",
   "id": "d1de8138",
   "metadata": {},
   "source": [
    "### STRING METHODS"
   ]
  },
  {
   "cell_type": "code",
   "execution_count": null,
   "id": "a1480fde",
   "metadata": {},
   "outputs": [],
   "source": []
  },
  {
   "cell_type": "code",
   "execution_count": 1,
   "id": "44a9b66a",
   "metadata": {},
   "outputs": [],
   "source": [
    "name = \"evans\""
   ]
  },
  {
   "cell_type": "code",
   "execution_count": 2,
   "id": "903cf4dd",
   "metadata": {},
   "outputs": [
    {
     "name": "stdout",
     "output_type": "stream",
     "text": [
      "EVANS\n"
     ]
    }
   ],
   "source": [
    "#upper\n",
    "\n",
    "print(name.upper())"
   ]
  },
  {
   "cell_type": "code",
   "execution_count": null,
   "id": "d30020e7",
   "metadata": {},
   "outputs": [],
   "source": []
  },
  {
   "cell_type": "code",
   "execution_count": 7,
   "id": "1d608568",
   "metadata": {},
   "outputs": [],
   "source": [
    "country = \"GERMANY\""
   ]
  },
  {
   "cell_type": "code",
   "execution_count": 8,
   "id": "2ddec4e4",
   "metadata": {},
   "outputs": [
    {
     "name": "stdout",
     "output_type": "stream",
     "text": [
      "germany\n"
     ]
    }
   ],
   "source": [
    "print(country.lower())"
   ]
  },
  {
   "cell_type": "code",
   "execution_count": null,
   "id": "361f83d0",
   "metadata": {},
   "outputs": [],
   "source": []
  },
  {
   "cell_type": "code",
   "execution_count": null,
   "id": "15d11c1e",
   "metadata": {},
   "outputs": [],
   "source": []
  },
  {
   "cell_type": "code",
   "execution_count": 1,
   "id": "87130471",
   "metadata": {},
   "outputs": [],
   "source": [
    "numbers = [\"23, 55, 89, 21, 90\"]"
   ]
  },
  {
   "cell_type": "code",
   "execution_count": 2,
   "id": "ac2b8678",
   "metadata": {},
   "outputs": [
    {
     "name": "stdout",
     "output_type": "stream",
     "text": [
      "['23, 55, 89, 21, 90']\n"
     ]
    }
   ],
   "source": [
    "print(numbers)"
   ]
  },
  {
   "cell_type": "code",
   "execution_count": 3,
   "id": "d8a1aee4",
   "metadata": {},
   "outputs": [
    {
     "name": "stdout",
     "output_type": "stream",
     "text": [
      "<class 'list'>\n"
     ]
    }
   ],
   "source": [
    "print(type(numbers))"
   ]
  },
  {
   "cell_type": "code",
   "execution_count": 10,
   "id": "cf695f07",
   "metadata": {},
   "outputs": [],
   "source": [
    "numbers.append(\"100\")"
   ]
  },
  {
   "cell_type": "code",
   "execution_count": 11,
   "id": "c4160780",
   "metadata": {},
   "outputs": [
    {
     "name": "stdout",
     "output_type": "stream",
     "text": [
      "['23, 55, 89, 21, 90', 100, '100']\n"
     ]
    }
   ],
   "source": [
    "print(numbers)"
   ]
  },
  {
   "cell_type": "code",
   "execution_count": 12,
   "id": "f145d581",
   "metadata": {},
   "outputs": [],
   "source": [
    "numbers.remove(\"100\")"
   ]
  },
  {
   "cell_type": "code",
   "execution_count": 13,
   "id": "82fee54d",
   "metadata": {},
   "outputs": [
    {
     "name": "stdout",
     "output_type": "stream",
     "text": [
      "['23, 55, 89, 21, 90', 100]\n"
     ]
    }
   ],
   "source": [
    "print(numbers)"
   ]
  },
  {
   "cell_type": "code",
   "execution_count": 24,
   "id": "0e0b6c8c",
   "metadata": {},
   "outputs": [
    {
     "name": "stdout",
     "output_type": "stream",
     "text": [
      "100\n"
     ]
    }
   ],
   "source": [
    "print(numbers[1])"
   ]
  },
  {
   "cell_type": "code",
   "execution_count": null,
   "id": "d4b450fc",
   "metadata": {},
   "outputs": [],
   "source": []
  }
 ],
 "metadata": {
  "kernelspec": {
   "display_name": "Python 3 (ipykernel)",
   "language": "python",
   "name": "python3"
  },
  "language_info": {
   "codemirror_mode": {
    "name": "ipython",
    "version": 3
   },
   "file_extension": ".py",
   "mimetype": "text/x-python",
   "name": "python",
   "nbconvert_exporter": "python",
   "pygments_lexer": "ipython3",
   "version": "3.10.4"
  }
 },
 "nbformat": 4,
 "nbformat_minor": 5
}
